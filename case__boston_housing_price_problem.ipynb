{
 "cells": [
  {
   "cell_type": "markdown",
   "id": "6956454b",
   "metadata": {},
   "source": [
    "#### **Phase I**"
   ]
  },
  {
   "cell_type": "markdown",
   "id": "46ba373d",
   "metadata": {},
   "source": [
    "#### 1. Problem & Target"
   ]
  },
  {
   "cell_type": "markdown",
   "id": "56e06693",
   "metadata": {},
   "source": [
    "#### feature說明\n",
    "* CRIM：每個城鎮的人均犯罪率 (per capita crime rate by town)\n",
    "* ZN：佔地25,000平方英尺以上的住宅區域比例(proportion of residential land zoned for lots over 25,000 sq.ft.)\n",
    "* INDUS：每個城鎮非零售業的營業面積比例(proportion of non-retail business acres per town)\n",
    "* CHAS：是否靠近河邊(Charles River dummy variable (= 1 if tract bounds river; 0 otherwise))\n",
    "* NOX：一氧化氮濃度（ppm)(nitric oxides concentration (parts per 10 million))\n",
    "* RM：每個住宅的平均房間數(average number of rooms per dwelling)\n",
    "* AGE：1940年前私有住宅的住房比率(proportion of owner-occupied units built prior to 1940)\n",
    "* DIS：與五個波士頓工做地區的加權距離(weighted distances to five Boston employment centres)\n",
    "* RAD：徑向公路的通達指數(index of accessibility to radial highways)\n",
    "* TAX：每10,000美元的所需繳的財產稅(full-value property-tax rate per $10,000)\n",
    "* PTRATIO：每個城鎮的師生比例(pupil-teacher ratio by town)\n",
    "* B：黑人比例(值為$1000\\times(Bk-0.63)^2$)(1000(Bk - 0.63)^2 where Bk is the proportion of blacks by town)\n",
    "* LSTAT：中下階級的比率(% lower status of the population)\n",
    "* MEDV：該城鎮房價的中位數"
   ]
  },
  {
   "cell_type": "markdown",
   "id": "a19b88f6",
   "metadata": {},
   "source": [
    "#### 2. dataset"
   ]
  },
  {
   "cell_type": "code",
   "execution_count": 1,
   "id": "bd9eeb2f",
   "metadata": {},
   "outputs": [],
   "source": [
    "## load libraries\n",
    "import numpy as np\n",
    "import pandas as pd\n",
    "import matplotlib.pyplot as plt\n",
    "import seaborn as sns\n",
    "from sklearn.preprocessing import StandardScaler\n",
    "from sklearn.model_selection import train_test_split, KFold, cross_val_score, GridSearchCV\n",
    "from sklearn.linear_model import LinearRegression, Lasso, ElasticNet\n",
    "from sklearn.tree import DecisionTreeRegressor\n",
    "from sklearn.neighbors import KNeighborsRegressor\n",
    "from sklearn.svm import SVR\n",
    "from sklearn.pipeline import Pipeline\n",
    "from sklearn.ensemble import RandomForestRegressor, GradientBoostingRegressor, ExtraTreesRegressor, AdaBoostRegressor\n",
    "from sklearn.metrics import mean_squared_error\n",
    "from my_template import added_section_separate_line\n",
    "from my_template import describe_skew_unvariate_distribution, visualize_features_hist, visualize_density_plot, visualize_box_whisker_plot\n",
    "from my_template import detect_column_only_single_value, detect_column_very_few_value, detect_outlier_over3std, detect_outlier_quartile\n",
    "from my_template import remove_duplicate_rows"
   ]
  },
  {
   "cell_type": "code",
   "execution_count": 2,
   "id": "25c0680e",
   "metadata": {},
   "outputs": [],
   "source": [
    "## load dataset\n",
    "filename = './dataset/housing.csv'\n",
    "names = ['CRIM', 'ZN', 'INDUS', 'CHAS', 'NOX', 'RM', 'AGE', 'DIS', 'RAD', 'TAX', 'PTRATIO', 'B', 'LSTAT', 'MEDV']\n",
    "df = pd.read_csv(filename, delim_whitespace=True, names=names)"
   ]
  },
  {
   "cell_type": "code",
   "execution_count": 3,
   "id": "f2ed9ca9",
   "metadata": {},
   "outputs": [
    {
     "name": "stdout",
     "output_type": "stream",
     "text": [
      "dataset head: \n",
      "      CRIM    ZN  INDUS  CHAS    NOX     RM   AGE     DIS  RAD    TAX  \\\n",
      "0  0.00632  18.0   2.31     0  0.538  6.575  65.2  4.0900    1  296.0   \n",
      "1  0.02731   0.0   7.07     0  0.469  6.421  78.9  4.9671    2  242.0   \n",
      "2  0.02729   0.0   7.07     0  0.469  7.185  61.1  4.9671    2  242.0   \n",
      "3  0.03237   0.0   2.18     0  0.458  6.998  45.8  6.0622    3  222.0   \n",
      "4  0.06905   0.0   2.18     0  0.458  7.147  54.2  6.0622    3  222.0   \n",
      "\n",
      "   PTRATIO       B  LSTAT  MEDV  \n",
      "0     15.3  396.90   4.98  24.0  \n",
      "1     17.8  396.90   9.14  21.6  \n",
      "2     17.8  392.83   4.03  34.7  \n",
      "3     18.7  394.63   2.94  33.4  \n",
      "4     18.7  396.90   5.33  36.2  \n",
      "------------------------------\n",
      "dataset shape: (506, 14)\n",
      "------------------------------\n",
      "dataset description: \n",
      "          CRIM     ZN  INDUS     CHAS    NOX     RM    AGE    DIS    RAD  \\\n",
      "count  5.1e+02  506.0  506.0  5.1e+02  506.0  506.0  506.0  506.0  506.0   \n",
      "mean   3.6e+00   11.4   11.1  6.9e-02    0.6    6.3   68.6    3.8    9.5   \n",
      "std    8.6e+00   23.3    6.9  2.5e-01    0.1    0.7   28.1    2.1    8.7   \n",
      "min    6.3e-03    0.0    0.5  0.0e+00    0.4    3.6    2.9    1.1    1.0   \n",
      "25%    8.2e-02    0.0    5.2  0.0e+00    0.4    5.9   45.0    2.1    4.0   \n",
      "50%    2.6e-01    0.0    9.7  0.0e+00    0.5    6.2   77.5    3.2    5.0   \n",
      "75%    3.7e+00   12.5   18.1  0.0e+00    0.6    6.6   94.1    5.2   24.0   \n",
      "max    8.9e+01  100.0   27.7  1.0e+00    0.9    8.8  100.0   12.1   24.0   \n",
      "\n",
      "         TAX  PTRATIO      B  LSTAT   MEDV  \n",
      "count  506.0    506.0  506.0  506.0  506.0  \n",
      "mean   408.2     18.5  356.7   12.7   22.5  \n",
      "std    168.5      2.2   91.3    7.1    9.2  \n",
      "min    187.0     12.6    0.3    1.7    5.0  \n",
      "25%    279.0     17.4  375.4    6.9   17.0  \n",
      "50%    330.0     19.1  391.4   11.4   21.2  \n",
      "75%    666.0     20.2  396.2   17.0   25.0  \n",
      "max    711.0     22.0  396.9   38.0   50.0  \n",
      "------------------------------\n",
      "feaures skew:\n",
      "CRIM       5.2\n",
      "ZN         2.2\n",
      "INDUS      0.3\n",
      "CHAS       3.4\n",
      "NOX        0.7\n",
      "RM         0.4\n",
      "AGE       -0.6\n",
      "DIS        1.0\n",
      "RAD        1.0\n",
      "TAX        0.7\n",
      "PTRATIO   -0.8\n",
      "B         -2.9\n",
      "LSTAT      0.9\n",
      "MEDV       1.1\n",
      "dtype: float64\n"
     ]
    }
   ],
   "source": [
    "## summarize data\n",
    "print(f\"dataset head: \\n{df.head()}\")\n",
    "added_section_separate_line()\n",
    "print(f\"dataset shape: {df.shape}\")\n",
    "added_section_separate_line()\n",
    "pd.set_option('precision', 1)\n",
    "print(f\"dataset description: \\n{df.describe()}\")\n",
    "added_section_separate_line()\n",
    "print(\"feaures skew:\")\n",
    "describe_skew_unvariate_distribution(df, df.columns)"
   ]
  },
  {
   "cell_type": "code",
   "execution_count": 4,
   "id": "4989ed00",
   "metadata": {},
   "outputs": [
    {
     "name": "stdout",
     "output_type": "stream",
     "text": [
      "Histogram of features:\n"
     ]
    },
    {
     "data": {
      "image/png": "[encoded data removed]",
      "text/plain": [
       "<Figure size 432x288 with 16 Axes>"
      ]
     },
     "metadata": {},
     "output_type": "display_data"
    },
    {
     "name": "stdout",
     "output_type": "stream",
     "text": [
      "------------------------------\n",
      "Density Plots of features:\n"
     ]
    },
    {
     "data": {
      "image/png": "[encoded data removed]",
      "text/plain": [
       "<Figure size 432x288 with 16 Axes>"
      ]
     },
     "metadata": {},
     "output_type": "display_data"
    },
    {
     "name": "stdout",
     "output_type": "stream",
     "text": [
      "------------------------------\n",
      "Box-whisker Plots of features:\n"
     ]
    },
    {
     "data": {
      "image/png": "[encoded data removed]",
      "text/plain": [
       "<Figure size 432x288 with 16 Axes>"
      ]
     },
     "metadata": {},
     "output_type": "display_data"
    }
   ],
   "source": [
    "## data visualization\n",
    "sns.set_theme(style=\"darkgrid\")\n",
    "visualize_features_hist(df, df.columns)\n",
    "added_section_separate_line()\n",
    "visualize_density_plot(df, df.columns, layout=(4,4))\n",
    "added_section_separate_line()\n",
    "visualize_box_whisker_plot(df, df.columns)"
   ]
  },
  {
   "cell_type": "markdown",
   "id": "61208249",
   "metadata": {},
   "source": [
    "#### **Phase II** (Round 0)"
   ]
  },
  {
   "cell_type": "markdown",
   "id": "dbb65863",
   "metadata": {},
   "source": [
    "#### 3. data processing"
   ]
  },
  {
   "cell_type": "code",
   "execution_count": 7,
   "id": "7f8d11de",
   "metadata": {},
   "outputs": [
    {
     "name": "stdout",
     "output_type": "stream",
     "text": [
      "Origin shape: (506, 14)\n",
      "--------------------\n",
      "Before duplicate removed: (506, 14)\n",
      "After duplicate removed: (506, 14)\n",
      "New shape: (506, 14)\n"
     ]
    }
   ],
   "source": [
    "## data cleaning - remove duplicate\n",
    "print(f\"Origin shape: {df.shape}\")\n",
    "remove_duplicate_rows(df)\n",
    "print(f\"New shape: {df.shape}\")"
   ]
  },
  {
   "cell_type": "markdown",
   "id": "24a99b26",
   "metadata": {},
   "source": [
    "* 因為具有完全一樣特徵數值的town可以說是完全沒有(機率極低)，故考慮刪除duplicate是有必要的"
   ]
  },
  {
   "cell_type": "code",
   "execution_count": 8,
   "id": "b756a281",
   "metadata": {},
   "outputs": [
    {
     "name": "stdout",
     "output_type": "stream",
     "text": [
      "Record columns to delete (only single value): []\n",
      "------------------------------\n",
      "Record columns to delete (very few value): [3]\n",
      "------------------------------\n",
      "Feature (CRIM): Identified outliers: 8, Non-outlier observation: 506\n",
      "Feature (ZN): Identified outliers: 14, Non-outlier observation: 506\n",
      "Feature (INDUS): Identified outliers: 0, Non-outlier observation: 506\n",
      "Feature (CHAS): Identified outliers: 35, Non-outlier observation: 506\n",
      "Feature (NOX): Identified outliers: 0, Non-outlier observation: 506\n",
      "Feature (RM): Identified outliers: 8, Non-outlier observation: 506\n",
      "Feature (AGE): Identified outliers: 0, Non-outlier observation: 506\n",
      "Feature (DIS): Identified outliers: 5, Non-outlier observation: 506\n",
      "Feature (RAD): Identified outliers: 0, Non-outlier observation: 506\n",
      "Feature (TAX): Identified outliers: 0, Non-outlier observation: 506\n",
      "Feature (PTRATIO): Identified outliers: 0, Non-outlier observation: 506\n",
      "Feature (B): Identified outliers: 25, Non-outlier observation: 506\n",
      "Feature (LSTAT): Identified outliers: 5, Non-outlier observation: 506\n",
      "------------------------------\n",
      "Feature (CRIM): Percentile: 25th = 0.08, 75th = 3.68, IQR = 3.595\n",
      "Identified outliers: 66, Non-outlier observations: 506\n",
      "Feature (ZN): Percentile: 25th = 0.00, 75th = 12.50, IQR = 12.500\n",
      "Identified outliers: 68, Non-outlier observations: 506\n",
      "Feature (INDUS): Percentile: 25th = 5.19, 75th = 18.10, IQR = 12.910\n",
      "Identified outliers: 0, Non-outlier observations: 506\n",
      "Feature (CHAS): Percentile: 25th = 0.00, 75th = 0.00, IQR = 0.000\n",
      "Identified outliers: 35, Non-outlier observations: 506\n",
      "Feature (NOX): Percentile: 25th = 0.45, 75th = 0.62, IQR = 0.175\n",
      "Identified outliers: 0, Non-outlier observations: 506\n",
      "Feature (RM): Percentile: 25th = 5.89, 75th = 6.62, IQR = 0.738\n",
      "Identified outliers: 30, Non-outlier observations: 506\n",
      "Feature (AGE): Percentile: 25th = 45.02, 75th = 94.07, IQR = 49.050\n",
      "Identified outliers: 0, Non-outlier observations: 506\n",
      "Feature (DIS): Percentile: 25th = 2.10, 75th = 5.19, IQR = 3.088\n",
      "Identified outliers: 5, Non-outlier observations: 506\n",
      "Feature (RAD): Percentile: 25th = 4.00, 75th = 24.00, IQR = 20.000\n",
      "Identified outliers: 0, Non-outlier observations: 506\n",
      "Feature (TAX): Percentile: 25th = 279.00, 75th = 666.00, IQR = 387.000\n",
      "Identified outliers: 0, Non-outlier observations: 506\n",
      "Feature (PTRATIO): Percentile: 25th = 17.40, 75th = 20.20, IQR = 2.800\n",
      "Identified outliers: 15, Non-outlier observations: 506\n",
      "Feature (B): Percentile: 25th = 375.38, 75th = 396.23, IQR = 20.848\n",
      "Identified outliers: 77, Non-outlier observations: 506\n",
      "Feature (LSTAT): Percentile: 25th = 6.95, 75th = 16.96, IQR = 10.005\n",
      "Identified outliers: 7, Non-outlier observations: 506\n"
     ]
    }
   ],
   "source": [
    "## data cleaning - data detection to remove\n",
    "detect_column_only_single_value(df)\n",
    "added_section_separate_line()\n",
    "detect_column_very_few_value(df)\n",
    "added_section_separate_line()\n",
    "for col in df.columns[:-1]:\n",
    "    print(f\"Feature ({col}):\", end=\" \")\n",
    "    detect_outlier_over3std(df, col)\n",
    "added_section_separate_line()\n",
    "for col in df.columns[:-1]:\n",
    "    print(f\"Feature ({col}):\", end=\" \")\n",
    "    detect_outlier_quartile(df, col)"
   ]
  },
  {
   "cell_type": "markdown",
   "id": "e6836002",
   "metadata": {},
   "source": [
    "* 無出現single value的column\n",
    "* 出現1個very few value的column(CHAS)，但觀察其特徵數值型態應為Boolean，故為正常，不需刪除\n",
    "* 針對Outlier，因為其不完全代表anomaly，暫時保留，待後續如有需要再各別分析可刪除的部分"
   ]
  },
  {
   "cell_type": "markdown",
   "id": "87218fce",
   "metadata": {},
   "source": [
    "#### 4. model & validation"
   ]
  },
  {
   "cell_type": "code",
   "execution_count": 10,
   "id": "bf31d15d",
   "metadata": {},
   "outputs": [],
   "source": [
    "## parameter setting\n",
    "seed = 87\n",
    "num_folds = 10\n",
    "scoring = 'neg_mean_squared_error'"
   ]
  },
  {
   "cell_type": "code",
   "execution_count": 11,
   "id": "61c27838",
   "metadata": {},
   "outputs": [],
   "source": [
    "## split-out validation dataset\n",
    "data = df.values\n",
    "X = data[:, :13]\n",
    "y = data[:, 13]\n",
    "validation_size = 0.2\n",
    "X_train, X_test, y_train, y_test = train_test_split(X, y, test_size=validation_size, random_state=seed)"
   ]
  },
  {
   "cell_type": "code",
   "execution_count": 12,
   "id": "be60a36c",
   "metadata": {},
   "outputs": [
    {
     "name": "stdout",
     "output_type": "stream",
     "text": [
      "LR: -23.787 (6.773)\n",
      "LASSO: -28.548 (9.215)\n",
      "EN: -27.778 (8.871)\n",
      "KNN: -38.186 (15.446)\n",
      "CART: -23.568 (21.667)\n",
      "SVR: -63.429 (21.979)\n"
     ]
    }
   ],
   "source": [
    "## spot check algorithms\n",
    "models = list()\n",
    "models.append(('LR', LinearRegression()))\n",
    "models.append(('LASSO', Lasso()))\n",
    "models.append(('EN', ElasticNet()))\n",
    "models.append(('KNN', KNeighborsRegressor()))\n",
    "models.append(('CART', DecisionTreeRegressor()))\n",
    "models.append(('SVR', SVR()))\n",
    "results= list()\n",
    "names = list()\n",
    "for name, model in models:\n",
    "    kfold = KFold(n_splits=10, random_state=seed, shuffle=True)\n",
    "    cv_results = cross_val_score(model, X_train, y_train, cv=kfold, scoring=scoring)\n",
    "    results.append(cv_results)\n",
    "    names.append(name)\n",
    "    print(f\"{name}: {cv_results.mean():.3f} ({cv_results.std():.3f})\")"
   ]
  },
  {
   "cell_type": "code",
   "execution_count": 17,
   "id": "93d7fcb0",
   "metadata": {},
   "outputs": [
    {
     "data": {
      "image/png": "[encoded data removed]",
      "text/plain": [
       "<Figure size 432x288 with 1 Axes>"
      ]
     },
     "metadata": {
      "needs_background": "light"
     },
     "output_type": "display_data"
    }
   ],
   "source": [
    "## compare algorithms\n",
    "fig = plt.figure()\n",
    "fig.suptitle(\"Algorithm comparison\")\n",
    "ax = fig.add_subplot(111)\n",
    "plt.boxplot(results)\n",
    "ax.set_xticklabels(names)\n",
    "plt.show()"
   ]
  },
  {
   "cell_type": "markdown",
   "id": "5dd07f5a",
   "metadata": {},
   "source": [
    "* 小結：\n",
    "    * 1) 可看出驗證結果差異頗大，合理懷疑是特徵間的scale差異造成影響model，特別是KNN和SVR\n",
    "    * 2) 或需針對feature進行data transform"
   ]
  },
  {
   "cell_type": "markdown",
   "id": "9c3ed3ec",
   "metadata": {},
   "source": [
    "#### Phase II (Round 1：利用pipeline來加入data transform後再進行model training)"
   ]
  },
  {
   "cell_type": "code",
   "execution_count": 19,
   "id": "cd3853cc",
   "metadata": {},
   "outputs": [],
   "source": [
    "## parameter setting\n",
    "seed = 87\n",
    "num_folds = 10\n",
    "scoring = 'neg_mean_squared_error'"
   ]
  },
  {
   "cell_type": "code",
   "execution_count": 18,
   "id": "f00add74",
   "metadata": {},
   "outputs": [],
   "source": [
    "## create pipeline\n",
    "pipelines = list()\n",
    "pipelines.append(('ScaledLR', Pipeline([('Scaler',StandardScaler()), ('LR',LinearRegression())])))\n",
    "pipelines.append(('ScaledLASSO', Pipeline([('Scaler',StandardScaler()), ('LASSO',Lasso())])))\n",
    "pipelines.append(('ScaledEN', Pipeline([('Scaler',StandardScaler()), ('EN',ElasticNet())])))\n",
    "pipelines.append(('ScaledKNN', Pipeline([('Scaler',StandardScaler()), ('KNN',KNeighborsRegressor())])))\n",
    "pipelines.append(('ScaledCART', Pipeline([('Scaler',StandardScaler()), ('CART',DecisionTreeRegressor())])))\n",
    "pipelines.append(('ScaledSVR', Pipeline([('Scaler',StandardScaler()), ('SVR',SVR())])))"
   ]
  },
  {
   "cell_type": "code",
   "execution_count": 20,
   "id": "0606f629",
   "metadata": {},
   "outputs": [
    {
     "name": "stdout",
     "output_type": "stream",
     "text": [
      "ScaledLR: -23.787 (6.773)\n",
      "ScaledLASSO: -29.530 (8.185)\n",
      "ScaledEN: -30.150 (10.655)\n",
      "ScaledKNN: -23.040 (7.320)\n",
      "ScaledCART: -23.694 (18.565)\n",
      "ScaledSVR: -30.636 (12.523)\n"
     ]
    }
   ],
   "source": [
    "## model training (using k-fold)\n",
    "results= list()\n",
    "names = list()\n",
    "for name, model in pipelines:\n",
    "    kfold = KFold(n_splits=num_folds, random_state=seed, shuffle=True)\n",
    "    cv_results = cross_val_score(model, X_train, y_train, cv=kfold, scoring=scoring)\n",
    "    results.append(cv_results)\n",
    "    names.append(name)\n",
    "    print(f\"{name}: {cv_results.mean():.3f} ({cv_results.std():.3f})\")"
   ]
  },
  {
   "cell_type": "code",
   "execution_count": 21,
   "id": "b1a8616b",
   "metadata": {},
   "outputs": [
    {
     "data": {
      "image/png": "[encoded data removed]",
      "text/plain": [
       "<Figure size 432x288 with 1 Axes>"
      ]
     },
     "metadata": {
      "needs_background": "light"
     },
     "output_type": "display_data"
    }
   ],
   "source": [
    "## visualize trained model\n",
    "fig = plt.figure()\n",
    "fig.suptitle(\"Scaled Algorithm comparison\")\n",
    "ax = fig.add_subplot(111)\n",
    "plt.boxplot(results)\n",
    "ax.set_xticklabels(names)\n",
    "plt.show()"
   ]
  },
  {
   "cell_type": "markdown",
   "id": "73e583c0",
   "metadata": {},
   "source": [
    "* 小結：\n",
    "    * 1) 驗證結果model間差異縮小\n",
    "    * 2) KNN表現最好，可再針對其超參數進行驗證"
   ]
  },
  {
   "cell_type": "markdown",
   "id": "2272e20f",
   "metadata": {},
   "source": [
    "#### **Phase II** (Round 2：針對KNN超參數鄰近點數k進行驗證)"
   ]
  },
  {
   "cell_type": "code",
   "execution_count": 25,
   "id": "2a089957",
   "metadata": {},
   "outputs": [],
   "source": [
    "## parameter setting\n",
    "seed = 87\n",
    "num_folds = 10\n",
    "scoring = 'neg_mean_squared_error'"
   ]
  },
  {
   "cell_type": "code",
   "execution_count": 23,
   "id": "b20f89b9",
   "metadata": {},
   "outputs": [],
   "source": [
    "## data transform\n",
    "scaler = StandardScaler().fit(X_train)\n",
    "rescaledX = scaler.transform(X_train)"
   ]
  },
  {
   "cell_type": "code",
   "execution_count": 24,
   "id": "e1cdf782",
   "metadata": {},
   "outputs": [
    {
     "name": "stdout",
     "output_type": "stream",
     "text": [
      "Best: -19.316 using {'n_neighbors': 3}\n",
      "-24.333 (13.326) with : {'n_neighbors': 1}\n",
      "-19.316 (7.562) with : {'n_neighbors': 3}\n",
      "-22.922 (7.228) with : {'n_neighbors': 5}\n",
      "-22.363 (8.042) with : {'n_neighbors': 7}\n",
      "-22.499 (7.997) with : {'n_neighbors': 9}\n",
      "-22.295 (8.574) with : {'n_neighbors': 11}\n",
      "-22.837 (8.812) with : {'n_neighbors': 13}\n",
      "-23.203 (9.243) with : {'n_neighbors': 15}\n",
      "-24.005 (10.095) with : {'n_neighbors': 17}\n",
      "-24.702 (10.254) with : {'n_neighbors': 19}\n",
      "-25.588 (10.785) with : {'n_neighbors': 21}\n"
     ]
    }
   ],
   "source": [
    "## 驗證超參數k\n",
    "k_values = np.array([1,3,5,7,9,11,13,15,17,19,21])\n",
    "param_grid = dict(n_neighbors=k_values)\n",
    "model = KNeighborsRegressor()\n",
    "kfold = KFold(n_splits=num_folds, random_state=seed, shuffle=True)\n",
    "grid = GridSearchCV(estimator=model, param_grid=param_grid, scoring=scoring, cv=kfold)\n",
    "grid_result = grid.fit(rescaledX, y_train)\n",
    "print(f\"Best: {grid_result.best_score_:.3f} using {grid_result.best_params_}\")\n",
    "means = grid_result.cv_results_['mean_test_score']\n",
    "stds = grid_result.cv_results_['std_test_score']\n",
    "params = grid_result.cv_results_['params']\n",
    "for mean, stdev, param in zip(means, stds, params):\n",
    "    print(f\"{mean:.3f} ({stdev:.3f}) with : {param}\")"
   ]
  },
  {
   "cell_type": "markdown",
   "id": "9557e898",
   "metadata": {},
   "source": [
    "* KNN鄰近點k=3表現最佳"
   ]
  },
  {
   "cell_type": "markdown",
   "id": "059d4377",
   "metadata": {},
   "source": [
    "#### **Phase II** (Round 3：測試emsemble algorithms)"
   ]
  },
  {
   "cell_type": "code",
   "execution_count": 26,
   "id": "6b9034fe",
   "metadata": {},
   "outputs": [],
   "source": [
    "## parameter setting\n",
    "seed = 87\n",
    "num_folds = 10\n",
    "scoring = 'neg_mean_squared_error'"
   ]
  },
  {
   "cell_type": "code",
   "execution_count": 27,
   "id": "06ca94a5",
   "metadata": {},
   "outputs": [],
   "source": [
    "## create pipeline - 進行data transform & model selection\n",
    "ensembles = list()\n",
    "ensembles.append(('ScaledAB', Pipeline([('Scaler',StandardScaler()), ('AB', AdaBoostRegressor())])))\n",
    "ensembles.append(('ScaledGBM', Pipeline([('Scaler',StandardScaler()), ('AB', GradientBoostingRegressor())])))\n",
    "ensembles.append(('ScaledRF', Pipeline([('Scaler',StandardScaler()), ('AB', RandomForestRegressor(n_estimators=10))])))\n",
    "ensembles.append(('ScaledET', Pipeline([('Scaler',StandardScaler()), ('AB', ExtraTreesRegressor(n_estimators=10))])))"
   ]
  },
  {
   "cell_type": "code",
   "execution_count": 29,
   "id": "a0c6e8bc",
   "metadata": {},
   "outputs": [
    {
     "name": "stdout",
     "output_type": "stream",
     "text": [
      "ScaledAB: -16.444 (7.382)\n",
      "ScaledGBM: -11.907 (6.801)\n",
      "ScaledRF: -15.709 (11.443)\n",
      "ScaledET: -13.507 (5.779)\n"
     ]
    }
   ],
   "source": [
    "## model training\n",
    "results = list()\n",
    "names = list()\n",
    "for name, model in ensembles:\n",
    "    kfold = KFold(n_splits=num_folds,random_state=seed, shuffle=True)\n",
    "    cv_results = cross_val_score(model, X_train, y_train, cv=kfold, scoring=scoring)\n",
    "    results.append(cv_results)\n",
    "    names.append(name)\n",
    "    print(f\"{name}: {cv_results.mean():.3f} ({cv_results.std():.3f})\")"
   ]
  },
  {
   "cell_type": "code",
   "execution_count": 31,
   "id": "4e05752f",
   "metadata": {},
   "outputs": [
    {
     "data": {
      "image/png": "[encoded data removed]",
      "text/plain": [
       "<Figure size 432x288 with 1 Axes>"
      ]
     },
     "metadata": {
      "needs_background": "light"
     },
     "output_type": "display_data"
    }
   ],
   "source": [
    "## visualize model\n",
    "fig = plt.figure()\n",
    "fig.suptitle(\"Scaled Ensemble Algorithm Comparison\")\n",
    "ax = fig.add_subplot(111)\n",
    "plt.boxplot(results)\n",
    "ax.set_xticklabels(names)\n",
    "plt.show()"
   ]
  },
  {
   "cell_type": "markdown",
   "id": "b9b3382f",
   "metadata": {},
   "source": [
    "* 小結：\n",
    "    * 1) 使用emsemble algorithm驗證的效果普遍比較好\n",
    "    * 2) 其中以GBM(gradient boosting)為最佳"
   ]
  },
  {
   "cell_type": "markdown",
   "id": "f1a87cbb",
   "metadata": {},
   "source": [
    "#### **Phase II** (Round 4：Tune GBM超參數)"
   ]
  },
  {
   "cell_type": "code",
   "execution_count": 32,
   "id": "6ff4ed06",
   "metadata": {},
   "outputs": [],
   "source": [
    "## parameter setting\n",
    "seed = 87\n",
    "num_folds = 10\n",
    "scoring = 'neg_mean_squared_error'"
   ]
  },
  {
   "cell_type": "code",
   "execution_count": 33,
   "id": "c9f76537",
   "metadata": {},
   "outputs": [],
   "source": [
    "## data transform\n",
    "scaler = StandardScaler().fit(X_train)\n",
    "rescaledX = scaler.transform(X_train)"
   ]
  },
  {
   "cell_type": "code",
   "execution_count": 35,
   "id": "d12513c5",
   "metadata": {},
   "outputs": [
    {
     "name": "stdout",
     "output_type": "stream",
     "text": [
      "Best: -11.789 using {'n_estimators': 250}\n",
      "-12.535 (6.898) with : {'n_estimators': 50}\n",
      "-12.005 (7.080) with : {'n_estimators': 100}\n",
      "-11.792 (7.179) with : {'n_estimators': 150}\n",
      "-11.805 (7.324) with : {'n_estimators': 200}\n",
      "-11.789 (7.340) with : {'n_estimators': 250}\n",
      "-11.795 (7.392) with : {'n_estimators': 300}\n",
      "-11.824 (7.488) with : {'n_estimators': 350}\n",
      "-11.828 (7.513) with : {'n_estimators': 400}\n"
     ]
    }
   ],
   "source": [
    "## tune hyperparameter: n_estimators\n",
    "param_grid = dict(n_estimators=np.array([50,100,150,200,250,300,350,400]))\n",
    "model = GradientBoostingRegressor(random_state=seed)\n",
    "kfold = KFold(n_splits=num_folds, random_state=seed, shuffle=True)\n",
    "grid = GridSearchCV(estimator=model, param_grid=param_grid, scoring=scoring, cv=kfold)\n",
    "grid_result = grid.fit(rescaledX, y_train)\n",
    "print(f\"Best: {grid_result.best_score_:.3f} using {grid_result.best_params_}\")\n",
    "means = grid_result.cv_results_['mean_test_score']\n",
    "stds = grid_result.cv_results_['std_test_score']\n",
    "params = grid_result.cv_results_['params']\n",
    "for mean, stdev, param in zip(means, stds, params):\n",
    "    print(f\"{mean:.3f} ({stdev:.3f}) with : {param}\")"
   ]
  },
  {
   "cell_type": "markdown",
   "id": "077462ef",
   "metadata": {},
   "source": [
    "* 小結：\n",
    "    * 1) 調整超參數n_estimators=250為最佳"
   ]
  },
  {
   "cell_type": "markdown",
   "id": "643016eb",
   "metadata": {},
   "source": [
    "* Phase II結論：\n",
    "    * 1) 使用gradient boosting regressor algorithm進行訓練\n",
    "    * 2) 超參數設定：n_estimators=250"
   ]
  },
  {
   "cell_type": "markdown",
   "id": "c7b1ca61",
   "metadata": {},
   "source": [
    "#### **Phase III**"
   ]
  },
  {
   "cell_type": "markdown",
   "id": "fdb7a5e3",
   "metadata": {},
   "source": [
    "#### 5. prediction"
   ]
  },
  {
   "cell_type": "code",
   "execution_count": 36,
   "id": "072c4b43",
   "metadata": {},
   "outputs": [],
   "source": [
    "## parameter setting\n",
    "seed = 87"
   ]
  },
  {
   "cell_type": "code",
   "execution_count": 37,
   "id": "7df58c09",
   "metadata": {},
   "outputs": [
    {
     "name": "stdout",
     "output_type": "stream",
     "text": [
      "mean squared error: 7.535\n"
     ]
    }
   ],
   "source": [
    "## predict using GBM model\n",
    "scaler = StandardScaler().fit(X_train)\n",
    "rescaledX = scaler.transform(X_train)\n",
    "model = GradientBoostingRegressor(random_state=seed, n_estimators=250)\n",
    "model.fit(rescaledX, y_train)\n",
    "rescaledTestX = scaler.transform(X_test)\n",
    "y_pred = model.predict(rescaledTestX)\n",
    "print(f\"mean squared error: {mean_squared_error(y_test, y_pred):.3f}\")"
   ]
  },
  {
   "cell_type": "code",
   "execution_count": null,
   "id": "bd926f3c",
   "metadata": {},
   "outputs": [],
   "source": []
  }
 ],
 "metadata": {
  "kernelspec": {
   "display_name": "Python 3",
   "language": "python",
   "name": "python3"
  },
  "language_info": {
   "codemirror_mode": {
    "name": "ipython",
    "version": 3
   },
   "file_extension": ".py",
   "mimetype": "text/x-python",
   "name": "python",
   "nbconvert_exporter": "python",
   "pygments_lexer": "ipython3",
   "version": "3.8.8"
  }
 },
 "nbformat": 4,
 "nbformat_minor": 5
}
