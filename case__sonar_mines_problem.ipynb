{
 "cells": [
  {
   "cell_type": "markdown",
   "id": "5c5542f2",
   "metadata": {},
   "source": [
    "#### **Phase I**"
   ]
  },
  {
   "cell_type": "markdown",
   "id": "193588f5",
   "metadata": {},
   "source": [
    "#### 1. Problem & Target"
   ]
  },
  {
   "cell_type": "markdown",
   "id": "01856de2",
   "metadata": {},
   "source": [
    "* The problem is to predict metal or rock objects from sonar return data.\n",
    "* Each pattern is a set of 60 numbers in the range 0.0 to 1.0.\n",
    "* Each number represents the energy within a particular frequency band, integrated over a certain period of time.\n",
    "* The label associated with each record contains the letter R if the object is a rock and M if it is a mine (metal cylinder).\n",
    "* The numbers in the labels are in increasing order of aspect angle, but they do not encode the angle directly."
   ]
  },
  {
   "cell_type": "markdown",
   "id": "b09001db",
   "metadata": {},
   "source": [
    "#### 2. dataset"
   ]
  },
  {
   "cell_type": "code",
   "execution_count": 1,
   "id": "f6131579",
   "metadata": {},
   "outputs": [],
   "source": [
    "## load libraries\n",
    "import numpy as np\n",
    "import pandas as pd\n",
    "import matplotlib.pyplot as plt\n",
    "import seaborn as sns\n",
    "from my_template import tot_exec_time, added_section_separate_line, str_column_to_float\n",
    "from my_template import describe_skew_unvariate_distribution, describe_class_distribution\n",
    "from my_template import detect_column_only_single_value, detect_column_very_few_value, detect_have_null_value, detect_outlier_over3std, detect_outlier_quartile\n",
    "from my_template import visualize_features_hist, visualize_density_plot, visualize_box_whisker_plot, visualize_correlation_matrix\n",
    "from sklearn.preprocessing import StandardScaler\n",
    "from sklearn.model_selection import train_test_split, KFold, cross_val_score, GridSearchCV\n",
    "from sklearn.metrics import classification_report, confusion_matrix, accuracy_score\n",
    "from sklearn.pipeline import Pipeline\n",
    "from sklearn.linear_model import LogisticRegression\n",
    "from sklearn.tree import DecisionTreeClassifier\n",
    "from sklearn.neighbors import KNeighborsClassifier\n",
    "from sklearn.discriminant_analysis import LinearDiscriminantAnalysis\n",
    "from sklearn.naive_bayes import GaussianNB\n",
    "from sklearn.svm import SVC\n",
    "from sklearn.ensemble import AdaBoostClassifier, GradientBoostingClassifier, RandomForestClassifier, ExtraTreesClassifier"
   ]
  },
  {
   "cell_type": "code",
   "execution_count": 2,
   "id": "3032b6b7",
   "metadata": {},
   "outputs": [
    {
     "name": "stdout",
     "output_type": "stream",
     "text": [
      "    col_0   col_1   col_2   col_3   col_4   col_5   col_6   col_7   col_8  \\\n",
      "0  0.0200  0.0371  0.0428  0.0207  0.0954  0.0986  0.1539  0.1601  0.3109   \n",
      "1  0.0453  0.0523  0.0843  0.0689  0.1183  0.2583  0.2156  0.3481  0.3337   \n",
      "2  0.0262  0.0582  0.1099  0.1083  0.0974  0.2280  0.2431  0.3771  0.5598   \n",
      "3  0.0100  0.0171  0.0623  0.0205  0.0205  0.0368  0.1098  0.1276  0.0598   \n",
      "4  0.0762  0.0666  0.0481  0.0394  0.0590  0.0649  0.1209  0.2467  0.3564   \n",
      "\n",
      "    col_9  ...  col_51  col_52  col_53  col_54  col_55  col_56  col_57  \\\n",
      "0  0.2111  ...  0.0027  0.0065  0.0159  0.0072  0.0167  0.0180  0.0084   \n",
      "1  0.2872  ...  0.0084  0.0089  0.0048  0.0094  0.0191  0.0140  0.0049   \n",
      "2  0.6194  ...  0.0232  0.0166  0.0095  0.0180  0.0244  0.0316  0.0164   \n",
      "3  0.1264  ...  0.0121  0.0036  0.0150  0.0085  0.0073  0.0050  0.0044   \n",
      "4  0.4459  ...  0.0031  0.0054  0.0105  0.0110  0.0015  0.0072  0.0048   \n",
      "\n",
      "   col_58  col_59  target  \n",
      "0  0.0090  0.0032       R  \n",
      "1  0.0052  0.0044       R  \n",
      "2  0.0095  0.0078       R  \n",
      "3  0.0040  0.0117       R  \n",
      "4  0.0107  0.0094       R  \n",
      "\n",
      "[5 rows x 61 columns]\n"
     ]
    }
   ],
   "source": [
    "## load dataset\n",
    "filename = './dataset/sonar.all-data.csv'\n",
    "df = pd.read_csv(filename, header=None)\n",
    "df.columns = ['col_' + str(col) for col in df.columns]\n",
    "df.rename(columns={'col_60':'target'}, inplace=True)\n",
    "print(df.head())"
   ]
  },
  {
   "cell_type": "code",
   "execution_count": 39,
   "id": "0809d4e9",
   "metadata": {},
   "outputs": [
    {
     "name": "stdout",
     "output_type": "stream",
     "text": [
      "dataset head: \n",
      "     col_0    col_1    col_2    col_3    col_4    col_5  col_6  col_7  \\\n",
      "0  2.0e-02  3.7e-02  4.3e-02  2.1e-02  9.5e-02  9.9e-02    0.2    0.2   \n",
      "1  4.5e-02  5.2e-02  8.4e-02  6.9e-02  1.2e-01  2.6e-01    0.2    0.3   \n",
      "2  2.6e-02  5.8e-02  1.1e-01  1.1e-01  9.7e-02  2.3e-01    0.2    0.4   \n",
      "3  1.0e-02  1.7e-02  6.2e-02  2.1e-02  2.1e-02  3.7e-02    0.1    0.1   \n",
      "4  7.6e-02  6.7e-02  4.8e-02  3.9e-02  5.9e-02  6.5e-02    0.1    0.2   \n",
      "\n",
      "     col_8  col_9  ...   col_51   col_52   col_53   col_54   col_55   col_56  \\\n",
      "0  3.1e-01    0.2  ...  2.7e-03  6.5e-03  1.6e-02  7.2e-03  1.7e-02  1.8e-02   \n",
      "1  3.3e-01    0.3  ...  8.4e-03  8.9e-03  4.8e-03  9.4e-03  1.9e-02  1.4e-02   \n",
      "2  5.6e-01    0.6  ...  2.3e-02  1.7e-02  9.5e-03  1.8e-02  2.4e-02  3.2e-02   \n",
      "3  6.0e-02    0.1  ...  1.2e-02  3.6e-03  1.5e-02  8.5e-03  7.3e-03  5.0e-03   \n",
      "4  3.6e-01    0.4  ...  3.1e-03  5.4e-03  1.1e-02  1.1e-02  1.5e-03  7.2e-03   \n",
      "\n",
      "    col_57   col_58   col_59  target  \n",
      "0  8.4e-03  9.0e-03  3.2e-03       R  \n",
      "1  4.9e-03  5.2e-03  4.4e-03       R  \n",
      "2  1.6e-02  9.5e-03  7.8e-03       R  \n",
      "3  4.4e-03  4.0e-03  1.2e-02       R  \n",
      "4  4.8e-03  1.1e-02  9.4e-03       R  \n",
      "\n",
      "[5 rows x 61 columns]\n",
      "------------------------------\n",
      "dataset shape: (208, 61)\n",
      "------------------------------\n",
      "dataset description: \n",
      "         col_0    col_1    col_2    col_3    col_4    col_5    col_6    col_7  \\\n",
      "count  2.1e+02  2.1e+02  2.1e+02  2.1e+02  2.1e+02  2.1e+02  2.1e+02  2.1e+02   \n",
      "mean   2.9e-02  3.8e-02  4.4e-02  5.4e-02  7.5e-02  1.0e-01  1.2e-01  1.3e-01   \n",
      "std    2.3e-02  3.3e-02  3.8e-02  4.7e-02  5.6e-02  5.9e-02  6.2e-02  8.5e-02   \n",
      "min    1.5e-03  6.0e-04  1.5e-03  5.8e-03  6.7e-03  1.0e-02  3.3e-03  5.5e-03   \n",
      "25%    1.3e-02  1.6e-02  1.9e-02  2.4e-02  3.8e-02  6.7e-02  8.1e-02  8.0e-02   \n",
      "50%    2.3e-02  3.1e-02  3.4e-02  4.4e-02  6.2e-02  9.2e-02  1.1e-01  1.1e-01   \n",
      "75%    3.6e-02  4.8e-02  5.8e-02  6.5e-02  1.0e-01  1.3e-01  1.5e-01  1.7e-01   \n",
      "max    1.4e-01  2.3e-01  3.1e-01  4.3e-01  4.0e-01  3.8e-01  3.7e-01  4.6e-01   \n",
      "\n",
      "         col_8    col_9  ...   col_50   col_51   col_52   col_53   col_54  \\\n",
      "count  2.1e+02  2.1e+02  ...  2.1e+02  2.1e+02  2.1e+02  2.1e+02  2.1e+02   \n",
      "mean   1.8e-01  2.1e-01  ...  1.6e-02  1.3e-02  1.1e-02  1.1e-02  9.3e-03   \n",
      "std    1.2e-01  1.3e-01  ...  1.2e-02  9.6e-03  7.1e-03  7.3e-03  7.1e-03   \n",
      "min    7.5e-03  1.1e-02  ...  0.0e+00  8.0e-04  5.0e-04  1.0e-03  6.0e-04   \n",
      "25%    9.7e-02  1.1e-01  ...  8.4e-03  7.3e-03  5.1e-03  5.4e-03  4.2e-03   \n",
      "50%    1.5e-01  1.8e-01  ...  1.4e-02  1.1e-02  9.5e-03  9.3e-03  7.5e-03   \n",
      "75%    2.3e-01  2.7e-01  ...  2.1e-02  1.7e-02  1.5e-02  1.5e-02  1.2e-02   \n",
      "max    6.8e-01  7.1e-01  ...  1.0e-01  7.1e-02  3.9e-02  3.5e-02  4.5e-02   \n",
      "\n",
      "        col_55   col_56   col_57   col_58   col_59  \n",
      "count  2.1e+02  2.1e+02  2.1e+02  2.1e+02  2.1e+02  \n",
      "mean   8.2e-03  7.8e-03  7.9e-03  7.9e-03  6.5e-03  \n",
      "std    5.7e-03  5.8e-03  6.5e-03  6.2e-03  5.0e-03  \n",
      "min    4.0e-04  3.0e-04  3.0e-04  1.0e-04  6.0e-04  \n",
      "25%    4.4e-03  3.7e-03  3.6e-03  3.7e-03  3.1e-03  \n",
      "50%    6.9e-03  6.0e-03  5.8e-03  6.4e-03  5.3e-03  \n",
      "75%    1.1e-02  1.0e-02  1.0e-02  1.0e-02  8.5e-03  \n",
      "max    3.9e-02  3.5e-02  4.4e-02  3.6e-02  4.4e-02  \n",
      "\n",
      "[8 rows x 60 columns]\n",
      "------------------------------\n",
      "feaures skew:\n",
      "col_0     2.1e+00\n",
      "col_1     2.2e+00\n",
      "col_2     2.7e+00\n",
      "col_3     3.4e+00\n",
      "col_4     2.0e+00\n",
      "col_5     1.2e+00\n",
      "col_6     9.7e-01\n",
      "col_7     1.5e+00\n",
      "col_8     1.6e+00\n",
      "col_9     1.3e+00\n",
      "col_10    9.9e-01\n",
      "col_11    5.9e-01\n",
      "col_12    7.4e-01\n",
      "col_13    1.0e+00\n",
      "col_14    7.6e-01\n",
      "col_15    6.9e-01\n",
      "col_16    6.5e-01\n",
      "col_17    5.3e-01\n",
      "col_18    2.8e-01\n",
      "col_19   -8.5e-02\n",
      "col_20   -2.5e-01\n",
      "col_21   -3.9e-01\n",
      "col_22   -5.9e-01\n",
      "col_23   -6.9e-01\n",
      "col_24   -7.9e-01\n",
      "col_25   -6.7e-01\n",
      "col_26   -6.3e-01\n",
      "col_27   -6.2e-01\n",
      "col_28   -4.4e-01\n",
      "col_29   -1.3e-01\n",
      "col_30    2.6e-01\n",
      "col_31    3.1e-01\n",
      "col_32    4.2e-01\n",
      "col_33    5.6e-01\n",
      "col_34    5.9e-01\n",
      "col_35    6.2e-01\n",
      "col_36    6.8e-01\n",
      "col_37    1.0e+00\n",
      "col_38    9.1e-01\n",
      "col_39    8.6e-01\n",
      "col_40    8.6e-01\n",
      "col_41    8.6e-01\n",
      "col_42    9.1e-01\n",
      "col_43    1.2e+00\n",
      "col_44    1.4e+00\n",
      "col_45    1.7e+00\n",
      "col_46    1.8e+00\n",
      "col_47    1.3e+00\n",
      "col_48    1.3e+00\n",
      "col_49    1.8e+00\n",
      "col_50    2.7e+00\n",
      "col_51    2.1e+00\n",
      "col_52    1.1e+00\n",
      "col_53    1.1e+00\n",
      "col_54    1.8e+00\n",
      "col_55    1.8e+00\n",
      "col_56    1.7e+00\n",
      "col_57    2.1e+00\n",
      "col_58    1.7e+00\n",
      "col_59    2.8e+00\n",
      "dtype: float64\n",
      "------------------------------\n",
      "target class distribution:\n"
     ]
    },
    {
     "data": {
      "text/plain": [
       "target\n",
       "M    111\n",
       "R     97\n",
       "dtype: int64"
      ]
     },
     "execution_count": 39,
     "metadata": {},
     "output_type": "execute_result"
    }
   ],
   "source": [
    "## summarize data\n",
    "print(f\"dataset head: \\n{df.head()}\")\n",
    "added_section_separate_line()\n",
    "print(f\"dataset shape: {df.shape}\")\n",
    "added_section_separate_line()\n",
    "pd.set_option('precision', 1)\n",
    "print(f\"dataset description: \\n{df.describe()}\")\n",
    "added_section_separate_line()\n",
    "print(\"feaures skew:\")\n",
    "describe_skew_unvariate_distribution(df, df.columns)\n",
    "added_section_separate_line()\n",
    "print(\"target class distribution:\")\n",
    "describe_class_distribution(df, 'target')"
   ]
  },
  {
   "cell_type": "markdown",
   "id": "64965d07",
   "metadata": {},
   "source": [
    "* 觀察dataset\n",
    "    * 屬於classification problem，且為二元分類\n",
    "    * 共60個features，皆為numeric\n",
    "    * 共208筆資料量"
   ]
  },
  {
   "cell_type": "code",
   "execution_count": 4,
   "id": "7a074bad",
   "metadata": {},
   "outputs": [
    {
     "name": "stdout",
     "output_type": "stream",
     "text": [
      "Histogram of features:\n"
     ]
    },
    {
     "data": {
      "image/png": "[encoded data removed]",
      "text/plain": [
       "<Figure size 432x288 with 36 Axes>"
      ]
     },
     "metadata": {},
     "output_type": "display_data"
    },
    {
     "name": "stdout",
     "output_type": "stream",
     "text": [
      "Histogram of features:\n"
     ]
    },
    {
     "data": {
      "image/png": "[encoded data removed]",
      "text/plain": [
       "<Figure size 432x288 with 25 Axes>"
      ]
     },
     "metadata": {},
     "output_type": "display_data"
    },
    {
     "name": "stdout",
     "output_type": "stream",
     "text": [
      "------------------------------\n",
      "Density Plots of features:\n"
     ]
    },
    {
     "data": {
      "image/png": "[encoded data removed]",
      "text/plain": [
       "<Figure size 432x288 with 36 Axes>"
      ]
     },
     "metadata": {},
     "output_type": "display_data"
    },
    {
     "name": "stdout",
     "output_type": "stream",
     "text": [
      "Density Plots of features:\n"
     ]
    },
    {
     "data": {
      "image/png": "[encoded data removed]",
      "text/plain": [
       "<Figure size 432x288 with 36 Axes>"
      ]
     },
     "metadata": {},
     "output_type": "display_data"
    },
    {
     "name": "stdout",
     "output_type": "stream",
     "text": [
      "------------------------------\n",
      "Box-whisker Plots of features:\n"
     ]
    },
    {
     "data": {
      "image/png": "[encoded data removed]",
      "text/plain": [
       "<Figure size 432x288 with 1 Axes>"
      ]
     },
     "metadata": {},
     "output_type": "display_data"
    },
    {
     "name": "stdout",
     "output_type": "stream",
     "text": [
      "------------------------------\n",
      "Correlation matrix of features:\n"
     ]
    },
    {
     "data": {
      "image/png": "[encoded data removed]",
      "text/plain": [
       "<Figure size 432x288 with 2 Axes>"
      ]
     },
     "metadata": {},
     "output_type": "display_data"
    }
   ],
   "source": [
    "## data visualization\n",
    "sns.set_theme(style=\"darkgrid\")\n",
    "plt.rc('ytick', labelsize=10)\n",
    "plt.rc('xtick', labelsize=10)\n",
    "visualize_features_hist(df, df.columns[:36])\n",
    "visualize_features_hist(df, df.columns[36:])\n",
    "added_section_separate_line()\n",
    "visualize_density_plot(df, df.columns[:36], layout=(6,6), legend=False)\n",
    "visualize_density_plot(df, df.columns[36:], layout=(6,6), legend=False)\n",
    "added_section_separate_line()\n",
    "visualize_box_whisker_plot(df, df.columns, subplots=False, legend=True)\n",
    "added_section_separate_line()\n",
    "visualize_correlation_matrix(df, df.columns, annot=False)"
   ]
  },
  {
   "cell_type": "markdown",
   "id": "7dc23d79",
   "metadata": {},
   "source": [
    "* 小結：\n",
    "    * 觀察histogram與density plot，有許多features呈現skew的現象\n",
    "    * 觀察box-whisker plot，部分features應含outliers\n",
    "    * 觀察correlation plot，features之間應有存在若干正相關&負相關"
   ]
  },
  {
   "cell_type": "markdown",
   "id": "bc9656bd",
   "metadata": {},
   "source": [
    "#### **Phase II** (Round 0)"
   ]
  },
  {
   "cell_type": "markdown",
   "id": "1b1855b2",
   "metadata": {},
   "source": [
    "#### data preprocessing"
   ]
  },
  {
   "cell_type": "code",
   "execution_count": 41,
   "id": "0564aa2a",
   "metadata": {},
   "outputs": [
    {
     "name": "stdout",
     "output_type": "stream",
     "text": [
      "Record columns to delete (only single value): []\n",
      "------------------------------\n",
      "Record columns to delete (very few value): [60]\n",
      "------------------------------\n",
      "There is no null value in dataframe.\n",
      "------------------------------\n",
      "Feature (col_0): Identified outliers: 6, Non-outlier observation: 208\n",
      "Feature (col_1): Identified outliers: 3, Non-outlier observation: 208\n",
      "Feature (col_2): Identified outliers: 4, Non-outlier observation: 208\n",
      "Feature (col_3): Identified outliers: 2, Non-outlier observation: 208\n",
      "Feature (col_4): Identified outliers: 4, Non-outlier observation: 208\n",
      "Feature (col_5): Identified outliers: 2, Non-outlier observation: 208\n",
      "Feature (col_6): Identified outliers: 2, Non-outlier observation: 208\n",
      "Feature (col_7): Identified outliers: 5, Non-outlier observation: 208\n",
      "Feature (col_8): Identified outliers: 6, Non-outlier observation: 208\n",
      "Feature (col_9): Identified outliers: 3, Non-outlier observation: 208\n",
      "Feature (col_10): Identified outliers: 3, Non-outlier observation: 208\n",
      "Feature (col_11): Identified outliers: 1, Non-outlier observation: 208\n",
      "Feature (col_12): Identified outliers: 2, Non-outlier observation: 208\n",
      "Feature (col_13): Identified outliers: 2, Non-outlier observation: 208\n",
      "Feature (col_14): Identified outliers: 1, Non-outlier observation: 208\n",
      "Feature (col_15): Identified outliers: 0, Non-outlier observation: 208\n",
      "Feature (col_16): Identified outliers: 0, Non-outlier observation: 208\n",
      "Feature (col_17): Identified outliers: 0, Non-outlier observation: 208\n",
      "Feature (col_18): Identified outliers: 0, Non-outlier observation: 208\n",
      "Feature (col_19): Identified outliers: 0, Non-outlier observation: 208\n",
      "Feature (col_20): Identified outliers: 0, Non-outlier observation: 208\n",
      "Feature (col_21): Identified outliers: 0, Non-outlier observation: 208\n",
      "Feature (col_22): Identified outliers: 0, Non-outlier observation: 208\n",
      "Feature (col_23): Identified outliers: 0, Non-outlier observation: 208\n",
      "Feature (col_24): Identified outliers: 0, Non-outlier observation: 208\n",
      "Feature (col_25): Identified outliers: 0, Non-outlier observation: 208\n",
      "Feature (col_26): Identified outliers: 0, Non-outlier observation: 208\n",
      "Feature (col_27): Identified outliers: 0, Non-outlier observation: 208\n",
      "Feature (col_28): Identified outliers: 0, Non-outlier observation: 208\n",
      "Feature (col_29): Identified outliers: 0, Non-outlier observation: 208\n",
      "Feature (col_30): Identified outliers: 0, Non-outlier observation: 208\n",
      "Feature (col_31): Identified outliers: 0, Non-outlier observation: 208\n",
      "Feature (col_32): Identified outliers: 0, Non-outlier observation: 208\n",
      "Feature (col_33): Identified outliers: 0, Non-outlier observation: 208\n",
      "Feature (col_34): Identified outliers: 0, Non-outlier observation: 208\n",
      "Feature (col_35): Identified outliers: 0, Non-outlier observation: 208\n",
      "Feature (col_36): Identified outliers: 0, Non-outlier observation: 208\n",
      "Feature (col_37): Identified outliers: 1, Non-outlier observation: 208\n",
      "Feature (col_38): Identified outliers: 2, Non-outlier observation: 208\n",
      "Feature (col_39): Identified outliers: 3, Non-outlier observation: 208\n",
      "Feature (col_40): Identified outliers: 1, Non-outlier observation: 208\n",
      "Feature (col_41): Identified outliers: 3, Non-outlier observation: 208\n",
      "Feature (col_42): Identified outliers: 2, Non-outlier observation: 208\n",
      "Feature (col_43): Identified outliers: 1, Non-outlier observation: 208\n",
      "Feature (col_44): Identified outliers: 1, Non-outlier observation: 208\n",
      "Feature (col_45): Identified outliers: 6, Non-outlier observation: 208\n",
      "Feature (col_46): Identified outliers: 5, Non-outlier observation: 208\n",
      "Feature (col_47): Identified outliers: 3, Non-outlier observation: 208\n",
      "Feature (col_48): Identified outliers: 3, Non-outlier observation: 208\n",
      "Feature (col_49): Identified outliers: 5, Non-outlier observation: 208\n",
      "Feature (col_50): Identified outliers: 2, Non-outlier observation: 208\n",
      "Feature (col_51): Identified outliers: 5, Non-outlier observation: 208\n",
      "Feature (col_52): Identified outliers: 2, Non-outlier observation: 208\n",
      "Feature (col_53): Identified outliers: 3, Non-outlier observation: 208\n",
      "Feature (col_54): Identified outliers: 3, Non-outlier observation: 208\n",
      "Feature (col_55): Identified outliers: 3, Non-outlier observation: 208\n",
      "Feature (col_56): Identified outliers: 3, Non-outlier observation: 208\n",
      "Feature (col_57): Identified outliers: 4, Non-outlier observation: 208\n",
      "Feature (col_58): Identified outliers: 3, Non-outlier observation: 208\n",
      "Feature (col_59): Identified outliers: 3, Non-outlier observation: 208\n",
      "------------------------------\n",
      "Feature (col_0): Percentile: 25th = 0.01, 75th = 0.04, IQR = 0.022\n",
      "Identified outliers: 15, Non-outlier observations: 208\n",
      "Feature (col_1): Percentile: 25th = 0.02, 75th = 0.05, IQR = 0.032\n",
      "Identified outliers: 13, Non-outlier observations: 208\n",
      "Feature (col_2): Percentile: 25th = 0.02, 75th = 0.06, IQR = 0.039\n",
      "Identified outliers: 11, Non-outlier observations: 208\n",
      "Feature (col_3): Percentile: 25th = 0.02, 75th = 0.06, IQR = 0.040\n",
      "Identified outliers: 13, Non-outlier observations: 208\n",
      "Feature (col_4): Percentile: 25th = 0.04, 75th = 0.10, IQR = 0.062\n",
      "Identified outliers: 5, Non-outlier observations: 208\n",
      "Feature (col_5): Percentile: 25th = 0.07, 75th = 0.13, IQR = 0.067\n",
      "Identified outliers: 8, Non-outlier observations: 208\n",
      "Feature (col_6): Percentile: 25th = 0.08, 75th = 0.15, IQR = 0.073\n",
      "Identified outliers: 5, Non-outlier observations: 208\n",
      "Feature (col_7): Percentile: 25th = 0.08, 75th = 0.17, IQR = 0.089\n",
      "Identified outliers: 11, Non-outlier observations: 208\n",
      "Feature (col_8): Percentile: 25th = 0.10, 75th = 0.23, IQR = 0.136\n",
      "Identified outliers: 8, Non-outlier observations: 208\n",
      "Feature (col_9): Percentile: 25th = 0.11, 75th = 0.27, IQR = 0.157\n",
      "Identified outliers: 10, Non-outlier observations: 208\n",
      "Feature (col_10): Percentile: 25th = 0.13, 75th = 0.30, IQR = 0.172\n",
      "Identified outliers: 5, Non-outlier observations: 208\n",
      "Feature (col_11): Percentile: 25th = 0.13, 75th = 0.33, IQR = 0.198\n",
      "Identified outliers: 2, Non-outlier observations: 208\n",
      "Feature (col_12): Percentile: 25th = 0.17, 75th = 0.35, IQR = 0.185\n",
      "Identified outliers: 4, Non-outlier observations: 208\n",
      "Feature (col_13): Percentile: 25th = 0.18, 75th = 0.39, IQR = 0.211\n",
      "Identified outliers: 5, Non-outlier observations: 208\n",
      "Feature (col_14): Percentile: 25th = 0.16, 75th = 0.45, IQR = 0.288\n",
      "Identified outliers: 2, Non-outlier observations: 208\n",
      "Feature (col_15): Percentile: 25th = 0.20, 75th = 0.54, IQR = 0.339\n",
      "Identified outliers: 0, Non-outlier observations: 208\n",
      "Feature (col_16): Percentile: 25th = 0.21, 75th = 0.66, IQR = 0.454\n",
      "Identified outliers: 0, Non-outlier observations: 208\n",
      "Feature (col_17): Percentile: 25th = 0.24, 75th = 0.68, IQR = 0.437\n",
      "Identified outliers: 0, Non-outlier observations: 208\n",
      "Feature (col_18): Percentile: 25th = 0.30, 75th = 0.73, IQR = 0.432\n",
      "Identified outliers: 0, Non-outlier observations: 208\n",
      "Feature (col_19): Percentile: 25th = 0.35, 75th = 0.81, IQR = 0.459\n",
      "Identified outliers: 0, Non-outlier observations: 208\n",
      "Feature (col_20): Percentile: 25th = 0.40, 75th = 0.82, IQR = 0.417\n",
      "Identified outliers: 0, Non-outlier observations: 208\n",
      "Feature (col_21): Percentile: 25th = 0.41, 75th = 0.83, IQR = 0.425\n",
      "Identified outliers: 0, Non-outlier observations: 208\n",
      "Feature (col_22): Percentile: 25th = 0.45, 75th = 0.85, IQR = 0.398\n",
      "Identified outliers: 0, Non-outlier observations: 208\n",
      "Feature (col_23): Percentile: 25th = 0.54, 75th = 0.87, IQR = 0.331\n",
      "Identified outliers: 2, Non-outlier observations: 208\n",
      "Feature (col_24): Percentile: 25th = 0.53, 75th = 0.87, IQR = 0.348\n",
      "Identified outliers: 0, Non-outlier observations: 208\n",
      "Feature (col_25): Percentile: 25th = 0.54, 75th = 0.89, IQR = 0.350\n",
      "Identified outliers: 0, Non-outlier observations: 208\n",
      "Feature (col_26): Percentile: 25th = 0.53, 75th = 0.92, IQR = 0.385\n",
      "Identified outliers: 0, Non-outlier observations: 208\n",
      "Feature (col_27): Percentile: 25th = 0.53, 75th = 0.90, IQR = 0.366\n",
      "Identified outliers: 0, Non-outlier observations: 208\n",
      "Feature (col_28): Percentile: 25th = 0.46, 75th = 0.85, IQR = 0.388\n",
      "Identified outliers: 0, Non-outlier observations: 208\n",
      "Feature (col_29): Percentile: 25th = 0.41, 75th = 0.74, IQR = 0.324\n",
      "Identified outliers: 0, Non-outlier observations: 208\n",
      "Feature (col_30): Percentile: 25th = 0.35, 75th = 0.64, IQR = 0.296\n",
      "Identified outliers: 0, Non-outlier observations: 208\n",
      "Feature (col_31): Percentile: 25th = 0.28, 75th = 0.58, IQR = 0.299\n",
      "Identified outliers: 0, Non-outlier observations: 208\n",
      "Feature (col_32): Percentile: 25th = 0.26, 75th = 0.56, IQR = 0.298\n",
      "Identified outliers: 0, Non-outlier observations: 208\n",
      "Feature (col_33): Percentile: 25th = 0.22, 75th = 0.60, IQR = 0.379\n",
      "Identified outliers: 0, Non-outlier observations: 208\n",
      "Feature (col_34): Percentile: 25th = 0.18, 75th = 0.59, IQR = 0.414\n",
      "Identified outliers: 0, Non-outlier observations: 208\n",
      "Feature (col_35): Percentile: 25th = 0.15, 75th = 0.56, IQR = 0.402\n",
      "Identified outliers: 0, Non-outlier observations: 208\n",
      "Feature (col_36): Percentile: 25th = 0.16, 75th = 0.52, IQR = 0.359\n",
      "Identified outliers: 0, Non-outlier observations: 208\n",
      "Feature (col_37): Percentile: 25th = 0.17, 75th = 0.44, IQR = 0.266\n",
      "Identified outliers: 8, Non-outlier observations: 208\n",
      "Feature (col_38): Percentile: 25th = 0.17, 75th = 0.43, IQR = 0.261\n",
      "Identified outliers: 5, Non-outlier observations: 208\n",
      "Feature (col_39): Percentile: 25th = 0.19, 75th = 0.42, IQR = 0.238\n",
      "Identified outliers: 4, Non-outlier observations: 208\n",
      "Feature (col_40): Percentile: 25th = 0.16, 75th = 0.39, IQR = 0.224\n",
      "Identified outliers: 4, Non-outlier observations: 208\n",
      "Feature (col_41): Percentile: 25th = 0.16, 75th = 0.38, IQR = 0.225\n",
      "Identified outliers: 4, Non-outlier observations: 208\n",
      "Feature (col_42): Percentile: 25th = 0.16, 75th = 0.32, IQR = 0.169\n",
      "Identified outliers: 5, Non-outlier observations: 208\n",
      "Feature (col_43): Percentile: 25th = 0.13, 75th = 0.27, IQR = 0.145\n",
      "Identified outliers: 11, Non-outlier observations: 208\n",
      "Feature (col_44): Percentile: 25th = 0.09, 75th = 0.23, IQR = 0.137\n",
      "Identified outliers: 24, Non-outlier observations: 208\n",
      "Feature (col_45): Percentile: 25th = 0.07, 75th = 0.20, IQR = 0.132\n",
      "Identified outliers: 16, Non-outlier observations: 208\n",
      "Feature (col_46): Percentile: 25th = 0.06, 75th = 0.15, IQR = 0.090\n",
      "Identified outliers: 13, Non-outlier observations: 208\n",
      "Feature (col_47): Percentile: 25th = 0.05, 75th = 0.12, IQR = 0.075\n",
      "Identified outliers: 9, Non-outlier observations: 208\n",
      "Feature (col_48): Percentile: 25th = 0.03, 75th = 0.07, IQR = 0.042\n",
      "Identified outliers: 8, Non-outlier observations: 208\n",
      "Feature (col_49): Percentile: 25th = 0.01, 75th = 0.03, IQR = 0.014\n",
      "Identified outliers: 14, Non-outlier observations: 208\n",
      "Feature (col_50): Percentile: 25th = 0.01, 75th = 0.02, IQR = 0.012\n",
      "Identified outliers: 6, Non-outlier observations: 208\n",
      "Feature (col_51): Percentile: 25th = 0.01, 75th = 0.02, IQR = 0.009\n",
      "Identified outliers: 13, Non-outlier observations: 208\n",
      "Feature (col_52): Percentile: 25th = 0.01, 75th = 0.01, IQR = 0.010\n",
      "Identified outliers: 3, Non-outlier observations: 208\n",
      "Feature (col_53): Percentile: 25th = 0.01, 75th = 0.01, IQR = 0.009\n",
      "Identified outliers: 7, Non-outlier observations: 208\n",
      "Feature (col_54): Percentile: 25th = 0.00, 75th = 0.01, IQR = 0.008\n",
      "Identified outliers: 9, Non-outlier observations: 208\n",
      "Feature (col_55): Percentile: 25th = 0.00, 75th = 0.01, IQR = 0.006\n",
      "Identified outliers: 6, Non-outlier observations: 208\n",
      "Feature (col_56): Percentile: 25th = 0.00, 75th = 0.01, IQR = 0.007\n",
      "Identified outliers: 8, Non-outlier observations: 208\n",
      "Feature (col_57): Percentile: 25th = 0.00, 75th = 0.01, IQR = 0.007\n",
      "Identified outliers: 9, Non-outlier observations: 208\n",
      "Feature (col_58): Percentile: 25th = 0.00, 75th = 0.01, IQR = 0.007\n",
      "Identified outliers: 12, Non-outlier observations: 208\n",
      "Feature (col_59): Percentile: 25th = 0.00, 75th = 0.01, IQR = 0.005\n",
      "Identified outliers: 8, Non-outlier observations: 208\n"
     ]
    }
   ],
   "source": [
    "## data cleaning - data detection to remove\n",
    "detect_column_only_single_value(df)\n",
    "added_section_separate_line()\n",
    "detect_column_very_few_value(df)\n",
    "added_section_separate_line()\n",
    "detect_have_null_value(df)\n",
    "added_section_separate_line()\n",
    "for col in df.columns[:-1]:\n",
    "    print(f\"Feature ({col}):\", end=\" \")\n",
    "    detect_outlier_over3std(df, col)\n",
    "added_section_separate_line()\n",
    "for col in df.columns[:-1]:\n",
    "    print(f\"Feature ({col}):\", end=\" \")\n",
    "    detect_outlier_quartile(df, col)"
   ]
  },
  {
   "cell_type": "markdown",
   "id": "0a9eaff4",
   "metadata": {},
   "source": [
    "* 小結：\n",
    "    * 此dataset沒有null value，但有部分features有outlier的存在，後續可考慮進行優化"
   ]
  },
  {
   "cell_type": "markdown",
   "id": "6d374c6b",
   "metadata": {},
   "source": [
    "#### model & validation"
   ]
  },
  {
   "cell_type": "code",
   "execution_count": 42,
   "id": "010ebd93",
   "metadata": {},
   "outputs": [],
   "source": [
    "seed = 87\n",
    "scoring = 'accuracy'\n",
    "num_folds = 10"
   ]
  },
  {
   "cell_type": "code",
   "execution_count": 43,
   "id": "9e4586e8",
   "metadata": {},
   "outputs": [],
   "source": [
    "data = df.values\n",
    "X = data[:, :-1].astype(float)\n",
    "y = data[:, -1]\n",
    "validation_size = 0.2\n",
    "X_train, X_test, y_train, y_test = train_test_split(X, y, test_size=validation_size, random_state=seed)"
   ]
  },
  {
   "cell_type": "code",
   "execution_count": 44,
   "id": "005b8252",
   "metadata": {},
   "outputs": [
    {
     "name": "stdout",
     "output_type": "stream",
     "text": [
      ">LR 0.771 (0.081)\n",
      ">LDA 0.722 (0.076)\n",
      ">KNN 0.766 (0.082)\n",
      ">CART 0.729 (0.125)\n",
      ">RF 0.831 (0.096)\n",
      ">GBM 0.825 (0.061)\n",
      ">NB 0.681 (0.080)\n",
      ">SVM 0.556 (0.144)\n"
     ]
    }
   ],
   "source": [
    "# build model\n",
    "models = dict()\n",
    "models['LR'] = Pipeline(steps=[('m', LogisticRegression(solver='liblinear'))])\n",
    "models['LDA'] = Pipeline(steps=[('m', LinearDiscriminantAnalysis())])\n",
    "models['KNN'] = Pipeline(steps=[('m', KNeighborsClassifier())])\n",
    "models['CART'] = Pipeline(steps=[('m', DecisionTreeClassifier())])\n",
    "models['RF'] = Pipeline(steps=[('m', RandomForestClassifier())])\n",
    "models['GBM'] = Pipeline(steps=[('m', GradientBoostingClassifier())])\n",
    "models['NB'] = Pipeline(steps=[('m', GaussianNB())])\n",
    "models['SVM'] = Pipeline(steps=[('m', SVC(gamma='auto'))])\n",
    "# train model\n",
    "results, names = list(), list()\n",
    "for name, model in models.items():\n",
    "    cv = KFold(n_splits=10, random_state=seed, shuffle=True)\n",
    "    scores = cross_val_score(model, X_train, y_train, scoring=scoring, cv=cv, n_jobs=-1)\n",
    "    results.append(scores)\n",
    "    names.append(name)\n",
    "    print(f\">{name} {np.mean(scores):.3f} ({np.std(scores):.3f})\")"
   ]
  },
  {
   "cell_type": "markdown",
   "id": "2c2ca27b",
   "metadata": {},
   "source": [
    "#### **Phase III**"
   ]
  },
  {
   "cell_type": "markdown",
   "id": "d1486092",
   "metadata": {},
   "source": [
    "#### prediction"
   ]
  },
  {
   "cell_type": "code",
   "execution_count": 45,
   "id": "18628e69",
   "metadata": {},
   "outputs": [
    {
     "name": "stdout",
     "output_type": "stream",
     "text": [
      "# Baseline model:\n",
      "The most common value in target: M; and ratio of this feature in all dataset: 53.37%\n"
     ]
    }
   ],
   "source": [
    "## 使用base-model進行預測\n",
    "print(\"# Baseline model:\")\n",
    "output_values = df['target'].values.tolist()\n",
    "prediction = max(set(output_values), key=output_values.count)   # 找出比例最大的分類，直接作為所有驗證集的baseline預測結果\n",
    "print(f\"The most common value in target: {prediction}; and ratio of this feature in all dataset: {100*len(df[df['target']==prediction])/len(df):.2f}%\")"
   ]
  },
  {
   "cell_type": "code",
   "execution_count": 46,
   "id": "dbf27a7b",
   "metadata": {},
   "outputs": [
    {
     "name": "stdout",
     "output_type": "stream",
     "text": [
      "> accuracy score: 76.190%\n",
      "> confusion matric: \n",
      "[[18  4]\n",
      " [ 6 14]]\n",
      "> classification report: \n",
      "              precision    recall  f1-score   support\n",
      "\n",
      "           M       0.75      0.82      0.78        22\n",
      "           R       0.78      0.70      0.74        20\n",
      "\n",
      "    accuracy                           0.76        42\n",
      "   macro avg       0.76      0.76      0.76        42\n",
      "weighted avg       0.76      0.76      0.76        42\n",
      "\n"
     ]
    }
   ],
   "source": [
    "# prediction\n",
    "model = RandomForestClassifier()\n",
    "model.fit(X_train, y_train)\n",
    "y_pred = model.predict(X_test)\n",
    "print(f\"> accuracy score: {100*accuracy_score(y_test, y_pred):.3f}%\")\n",
    "print(f\"> confusion matric: \\n{confusion_matrix(y_test, y_pred)}\")\n",
    "print(f\"> classification report: \\n{classification_report(y_test, y_pred)}\")"
   ]
  },
  {
   "cell_type": "code",
   "execution_count": 47,
   "id": "40c9a721",
   "metadata": {},
   "outputs": [
    {
     "name": "stdout",
     "output_type": "stream",
     "text": [
      "> accuracy score: 71.429%\n",
      "> confusion matric: \n",
      "[[18  4]\n",
      " [ 8 12]]\n",
      "> classification report: \n",
      "              precision    recall  f1-score   support\n",
      "\n",
      "           M       0.69      0.82      0.75        22\n",
      "           R       0.75      0.60      0.67        20\n",
      "\n",
      "    accuracy                           0.71        42\n",
      "   macro avg       0.72      0.71      0.71        42\n",
      "weighted avg       0.72      0.71      0.71        42\n",
      "\n"
     ]
    }
   ],
   "source": [
    "# prediction\n",
    "model = GradientBoostingClassifier()\n",
    "model.fit(X_train, y_train)\n",
    "y_pred = model.predict(X_test)\n",
    "print(f\"> accuracy score: {100*accuracy_score(y_test, y_pred):.3f}%\")\n",
    "print(f\"> confusion matric: \\n{confusion_matrix(y_test, y_pred)}\")\n",
    "print(f\"> classification report: \\n{classification_report(y_test, y_pred)}\")"
   ]
  },
  {
   "cell_type": "markdown",
   "id": "4632cdf6",
   "metadata": {},
   "source": [
    "* 小結：\n",
    "    * 在對dataset未進行任何處理的情況下，以10-Fold cross validation進行訓練，其中以RandomForestClassifier & GradientBoostingClassifier訓練accuracy最高\n",
    "    * 但進行prediction時所得accuracy皆偏低，且對於target='R'的recall偏低"
   ]
  },
  {
   "cell_type": "markdown",
   "id": "015c8ada",
   "metadata": {},
   "source": [
    "### Experimant 1: Data transform to Gaussian distribution"
   ]
  },
  {
   "cell_type": "markdown",
   "id": "58543dcb",
   "metadata": {},
   "source": [
    "#### **Phase II**"
   ]
  },
  {
   "cell_type": "markdown",
   "id": "70d1fa42",
   "metadata": {},
   "source": [
    "#### model & validationm"
   ]
  },
  {
   "cell_type": "code",
   "execution_count": 48,
   "id": "178f6f36",
   "metadata": {},
   "outputs": [],
   "source": [
    "seed = 87\n",
    "scoring = 'accuracy'\n",
    "num_folds = 10"
   ]
  },
  {
   "cell_type": "code",
   "execution_count": 49,
   "id": "5b24cbc0",
   "metadata": {},
   "outputs": [],
   "source": [
    "data = df.values\n",
    "X = data[:, :-1].astype(float)\n",
    "y = data[:, -1]\n",
    "validation_size = 0.2\n",
    "X_train, X_test, y_train, y_test = train_test_split(X, y, test_size=validation_size, random_state=seed)"
   ]
  },
  {
   "cell_type": "code",
   "execution_count": 51,
   "id": "464500f1",
   "metadata": {},
   "outputs": [
    {
     "name": "stdout",
     "output_type": "stream",
     "text": [
      ">LR 0.771 (0.092)\n",
      ">LDA 0.722 (0.076)\n",
      ">KNN 0.814 (0.065)\n",
      ">CART 0.718 (0.112)\n",
      ">RF 0.854 (0.094)\n",
      ">GBM 0.825 (0.057)\n",
      ">NB 0.681 (0.080)\n",
      ">SVM 0.850 (0.039)\n"
     ]
    }
   ],
   "source": [
    "# build model\n",
    "models = dict()\n",
    "models['LR'] = Pipeline(steps=[('Scaler', StandardScaler()), ('m', LogisticRegression(solver='liblinear'))])\n",
    "models['LDA'] = Pipeline(steps=[('Scaler', StandardScaler()), ('m', LinearDiscriminantAnalysis())])\n",
    "models['KNN'] = Pipeline(steps=[('Scaler', StandardScaler()), ('m', KNeighborsClassifier())])\n",
    "models['CART'] = Pipeline(steps=[('Scaler', StandardScaler()), ('m', DecisionTreeClassifier())])\n",
    "models['RF'] = Pipeline(steps=[('Scaler', StandardScaler()), ('m', RandomForestClassifier())])\n",
    "models['GBM'] = Pipeline(steps=[('Scaler', StandardScaler()), ('m', GradientBoostingClassifier())])\n",
    "models['NB'] = Pipeline(steps=[('Scaler', StandardScaler()), ('m', GaussianNB())])\n",
    "models['SVM'] = Pipeline(steps=[('Scaler', StandardScaler()), ('m', SVC(gamma='auto'))])\n",
    "# train model\n",
    "results, names = list(), list()\n",
    "for name, model in models.items():\n",
    "    cv = KFold(n_splits=10, random_state=seed, shuffle=True)\n",
    "    scores = cross_val_score(model, X_train, y_train, scoring=scoring, cv=cv, n_jobs=-1)\n",
    "    results.append(scores)\n",
    "    names.append(name)\n",
    "    print(f\">{name} {np.mean(scores):.3f} ({np.std(scores):.3f})\")"
   ]
  },
  {
   "cell_type": "markdown",
   "id": "afc75fef",
   "metadata": {},
   "source": [
    "#### **Phase III**"
   ]
  },
  {
   "cell_type": "markdown",
   "id": "80f793d1",
   "metadata": {},
   "source": [
    "#### prediction"
   ]
  },
  {
   "cell_type": "code",
   "execution_count": 56,
   "id": "7c8c8d89",
   "metadata": {},
   "outputs": [
    {
     "name": "stdout",
     "output_type": "stream",
     "text": [
      "> accuracy score: 78.571%\n",
      "> confusion matric: \n",
      "[[18  4]\n",
      " [ 5 15]]\n",
      "> classification report: \n",
      "              precision    recall  f1-score   support\n",
      "\n",
      "           M       0.78      0.82      0.80        22\n",
      "           R       0.79      0.75      0.77        20\n",
      "\n",
      "    accuracy                           0.79        42\n",
      "   macro avg       0.79      0.78      0.78        42\n",
      "weighted avg       0.79      0.79      0.79        42\n",
      "\n"
     ]
    }
   ],
   "source": [
    "# prediction\n",
    "scaler = StandardScaler().fit(X_train)\n",
    "rescaledX = scaler.transform(X_train)\n",
    "rescaledTestX = scaler.transform(X_test)\n",
    "model = RandomForestClassifier()\n",
    "model.fit(rescaledX, y_train)\n",
    "y_pred = model.predict(rescaledTestX)\n",
    "print(f\"> accuracy score: {100*accuracy_score(y_test, y_pred):.3f}%\")\n",
    "print(f\"> confusion matric: \\n{confusion_matrix(y_test, y_pred)}\")\n",
    "print(f\"> classification report: \\n{classification_report(y_test, y_pred)}\")"
   ]
  },
  {
   "cell_type": "code",
   "execution_count": 57,
   "id": "5d350cbd",
   "metadata": {},
   "outputs": [
    {
     "name": "stdout",
     "output_type": "stream",
     "text": [
      "> accuracy score: 69.048%\n",
      "> confusion matric: \n",
      "[[18  4]\n",
      " [ 9 11]]\n",
      "> classification report: \n",
      "              precision    recall  f1-score   support\n",
      "\n",
      "           M       0.67      0.82      0.73        22\n",
      "           R       0.73      0.55      0.63        20\n",
      "\n",
      "    accuracy                           0.69        42\n",
      "   macro avg       0.70      0.68      0.68        42\n",
      "weighted avg       0.70      0.69      0.68        42\n",
      "\n"
     ]
    }
   ],
   "source": [
    "# prediction\n",
    "scaler = StandardScaler().fit(X_train)\n",
    "rescaledX = scaler.transform(X_train)\n",
    "rescaledTestX = scaler.transform(X_test)\n",
    "model = GradientBoostingClassifier()\n",
    "model.fit(rescaledX, y_train)\n",
    "y_pred = model.predict(rescaledTestX)\n",
    "print(f\"> accuracy score: {100*accuracy_score(y_test, y_pred):.3f}%\")\n",
    "print(f\"> confusion matric: \\n{confusion_matrix(y_test, y_pred)}\")\n",
    "print(f\"> classification report: \\n{classification_report(y_test, y_pred)}\")"
   ]
  },
  {
   "cell_type": "code",
   "execution_count": 58,
   "id": "4c1bf50e",
   "metadata": {},
   "outputs": [
    {
     "name": "stdout",
     "output_type": "stream",
     "text": [
      "> accuracy score: 73.810%\n",
      "> confusion matric: \n",
      "[[21  1]\n",
      " [10 10]]\n",
      "> classification report: \n",
      "              precision    recall  f1-score   support\n",
      "\n",
      "           M       0.68      0.95      0.79        22\n",
      "           R       0.91      0.50      0.65        20\n",
      "\n",
      "    accuracy                           0.74        42\n",
      "   macro avg       0.79      0.73      0.72        42\n",
      "weighted avg       0.79      0.74      0.72        42\n",
      "\n"
     ]
    }
   ],
   "source": [
    "# prediction\n",
    "scaler = StandardScaler().fit(X_train)\n",
    "rescaledX = scaler.transform(X_train)\n",
    "rescaledTestX = scaler.transform(X_test)\n",
    "model = KNeighborsClassifier()\n",
    "model.fit(rescaledX, y_train)\n",
    "y_pred = model.predict(rescaledTestX)\n",
    "print(f\"> accuracy score: {100*accuracy_score(y_test, y_pred):.3f}%\")\n",
    "print(f\"> confusion matric: \\n{confusion_matrix(y_test, y_pred)}\")\n",
    "print(f\"> classification report: \\n{classification_report(y_test, y_pred)}\")"
   ]
  },
  {
   "cell_type": "markdown",
   "id": "d03ba238",
   "metadata": {},
   "source": [
    "* 小結：\n",
    "    * 通過Standardize後，部分algorithm提升accuracy，其中以RandomForestClassifier在train&prediction的效果有提升，但其target='R'的Recall依舊偏低，後續需優化"
   ]
  },
  {
   "cell_type": "markdown",
   "id": "2545e0d0",
   "metadata": {},
   "source": [
    "### Experiment 2: Outlier treatment"
   ]
  },
  {
   "cell_type": "code",
   "execution_count": 12,
   "id": "8a85723d",
   "metadata": {},
   "outputs": [],
   "source": [
    "from sklearn.neighbors import LocalOutlierFactor\n",
    "from my_template import detect_outlier_over3std, remove_outlier_over3std"
   ]
  },
  {
   "cell_type": "markdown",
   "id": "d889ad65",
   "metadata": {},
   "source": [
    "#### **Phase II**"
   ]
  },
  {
   "cell_type": "markdown",
   "id": "d2b8d22d",
   "metadata": {},
   "source": [
    "#### data preprocessing"
   ]
  },
  {
   "cell_type": "code",
   "execution_count": 13,
   "id": "ec88accf",
   "metadata": {},
   "outputs": [],
   "source": [
    "# remove outliers\n",
    "df_outlier = df.copy(deep=True)\n",
    "for col in df_outlier.columns[:-1]:\n",
    "    df_outlier = remove_outlier_over3std(df_outlier, col)"
   ]
  },
  {
   "cell_type": "markdown",
   "id": "efa5e6ce",
   "metadata": {},
   "source": [
    "#### model & validation"
   ]
  },
  {
   "cell_type": "code",
   "execution_count": 15,
   "id": "6369cd30",
   "metadata": {},
   "outputs": [],
   "source": [
    "seed = 87\n",
    "scoring = \"accuracy\""
   ]
  },
  {
   "cell_type": "code",
   "execution_count": 16,
   "id": "5cb77e1c",
   "metadata": {},
   "outputs": [],
   "source": [
    "data_outlier = df_outlier.values\n",
    "X = data_outlier[:, :-1].astype(float)\n",
    "y = data_outlier[:, -1]\n",
    "validation_size = 0.2\n",
    "X_train, X_test, y_train, y_test = train_test_split(X, y, test_size=validation_size, random_state=seed)"
   ]
  },
  {
   "cell_type": "code",
   "execution_count": 17,
   "id": "80defb82",
   "metadata": {},
   "outputs": [
    {
     "name": "stdout",
     "output_type": "stream",
     "text": [
      ">LR 0.825 (0.103)\n",
      ">LDA 0.817 (0.146)\n",
      ">KNN 0.731 (0.121)\n",
      ">CART 0.735 (0.147)\n",
      ">RF 0.815 (0.071)\n",
      ">GBM 0.835 (0.078)\n",
      ">NB 0.778 (0.082)\n",
      ">SVM 0.871 (0.092)\n"
     ]
    }
   ],
   "source": [
    "# build model\n",
    "models = dict()\n",
    "models['LR'] = Pipeline(steps=[('Scaler', StandardScaler()), ('m', LogisticRegression(solver='liblinear'))])\n",
    "models['LDA'] = Pipeline(steps=[('Scaler', StandardScaler()), ('m', LinearDiscriminantAnalysis())])\n",
    "models['KNN'] = Pipeline(steps=[('Scaler', StandardScaler()), ('m', KNeighborsClassifier())])\n",
    "models['CART'] = Pipeline(steps=[('Scaler', StandardScaler()), ('m', DecisionTreeClassifier())])\n",
    "models['RF'] = Pipeline(steps=[('Scaler', StandardScaler()), ('m', RandomForestClassifier())])\n",
    "models['GBM'] = Pipeline(steps=[('Scaler', StandardScaler()), ('m', GradientBoostingClassifier())])\n",
    "models['NB'] = Pipeline(steps=[('Scaler', StandardScaler()), ('m', GaussianNB())])\n",
    "models['SVM'] = Pipeline(steps=[('Scaler', StandardScaler()), ('m', SVC(gamma='auto'))])\n",
    "# train model\n",
    "results, names = list(), list()\n",
    "for name, model in models.items():\n",
    "    cv = KFold(n_splits=10, random_state=seed, shuffle=True)\n",
    "    scores = cross_val_score(model, X_train, y_train, scoring=scoring, cv=cv, n_jobs=-1)\n",
    "    results.append(scores)\n",
    "    names.append(name)\n",
    "    print(f\">{name} {np.mean(scores):.3f} ({np.std(scores):.3f})\")"
   ]
  },
  {
   "cell_type": "markdown",
   "id": "6a358a55",
   "metadata": {},
   "source": [
    "#### **Phase II**"
   ]
  },
  {
   "cell_type": "markdown",
   "id": "bf917bb8",
   "metadata": {},
   "source": [
    "#### prediction"
   ]
  },
  {
   "cell_type": "code",
   "execution_count": 18,
   "id": "900bf48e",
   "metadata": {},
   "outputs": [
    {
     "name": "stdout",
     "output_type": "stream",
     "text": [
      "> accuracy score: 89.286%\n",
      "> confusion matric: \n",
      "[[12  1]\n",
      " [ 2 13]]\n",
      "> classification report: \n",
      "              precision    recall  f1-score   support\n",
      "\n",
      "           M       0.86      0.92      0.89        13\n",
      "           R       0.93      0.87      0.90        15\n",
      "\n",
      "    accuracy                           0.89        28\n",
      "   macro avg       0.89      0.89      0.89        28\n",
      "weighted avg       0.90      0.89      0.89        28\n",
      "\n"
     ]
    }
   ],
   "source": [
    "scaler = StandardScaler().fit(X_train)\n",
    "rescaledX = scaler.transform(X_train)\n",
    "rescaledTestX = scaler.transform(X_test)\n",
    "model = SVC(gamma='auto')\n",
    "model.fit(rescaledX, y_train)\n",
    "y_pred = model.predict(rescaledTestX)\n",
    "print(f\"> accuracy score: {100*accuracy_score(y_test, y_pred):.3f}%\")\n",
    "print(f\"> confusion matric: \\n{confusion_matrix(y_test, y_pred)}\")\n",
    "print(f\"> classification report: \\n{classification_report(y_test, y_pred)}\")"
   ]
  },
  {
   "cell_type": "code",
   "execution_count": 19,
   "id": "6179e2b8",
   "metadata": {},
   "outputs": [
    {
     "name": "stdout",
     "output_type": "stream",
     "text": [
      "> accuracy score: 85.714%\n",
      "> confusion matric: \n",
      "[[12  1]\n",
      " [ 3 12]]\n",
      "> classification report: \n",
      "              precision    recall  f1-score   support\n",
      "\n",
      "           M       0.80      0.92      0.86        13\n",
      "           R       0.92      0.80      0.86        15\n",
      "\n",
      "    accuracy                           0.86        28\n",
      "   macro avg       0.86      0.86      0.86        28\n",
      "weighted avg       0.87      0.86      0.86        28\n",
      "\n"
     ]
    }
   ],
   "source": [
    "scaler = StandardScaler().fit(X_train)\n",
    "rescaledX = scaler.transform(X_train)\n",
    "rescaledTestX = scaler.transform(X_test)\n",
    "model = LogisticRegression(solver='liblinear')\n",
    "model.fit(rescaledX, y_train)\n",
    "y_pred = model.predict(rescaledTestX)\n",
    "print(f\"> accuracy score: {100*accuracy_score(y_test, y_pred):.3f}%\")\n",
    "print(f\"> confusion matric: \\n{confusion_matrix(y_test, y_pred)}\")\n",
    "print(f\"> classification report: \\n{classification_report(y_test, y_pred)}\")"
   ]
  },
  {
   "cell_type": "markdown",
   "id": "a9c88c1a",
   "metadata": {},
   "source": [
    "* 小結：\n",
    "    * 使用Stadardize Scaling + Outlier removing有效提升accuracy，其中SVM Classifier於train accuracy為87.1%，於prediction accuracy為89.3%"
   ]
  },
  {
   "cell_type": "markdown",
   "id": "f3f22184",
   "metadata": {},
   "source": [
    "### Experiment 3 : Model hyperparameter Tuning"
   ]
  },
  {
   "cell_type": "markdown",
   "id": "00fcfb0e",
   "metadata": {},
   "source": [
    "#### **Phase II**"
   ]
  },
  {
   "cell_type": "markdown",
   "id": "0ee2a5e4",
   "metadata": {},
   "source": [
    "#### data preprocessing"
   ]
  },
  {
   "cell_type": "code",
   "execution_count": 20,
   "id": "027192c0",
   "metadata": {},
   "outputs": [],
   "source": [
    "# remove outliers\n",
    "df_outlier = df.copy(deep=True)\n",
    "for col in df_outlier.columns[:-1]:\n",
    "    df_outlier = remove_outlier_over3std(df_outlier, col)"
   ]
  },
  {
   "cell_type": "markdown",
   "id": "e4ec4460",
   "metadata": {},
   "source": [
    "#### model & validation"
   ]
  },
  {
   "cell_type": "code",
   "execution_count": 60,
   "id": "a8dde89d",
   "metadata": {},
   "outputs": [],
   "source": [
    "seed = 87\n",
    "scoring = 'accuracy'"
   ]
  },
  {
   "cell_type": "code",
   "execution_count": 21,
   "id": "2ddbe348",
   "metadata": {},
   "outputs": [],
   "source": [
    "data_outlier = df_outlier.values\n",
    "X = data_outlier[:, :-1].astype(float)\n",
    "y = data_outlier[:, -1]\n",
    "validation_size = 0.2\n",
    "X_train, X_test, y_train, y_test = train_test_split(X, y, test_size=validation_size, random_state=seed)"
   ]
  },
  {
   "cell_type": "code",
   "execution_count": 22,
   "id": "f1a713a1",
   "metadata": {},
   "outputs": [
    {
     "name": "stdout",
     "output_type": "stream",
     "text": [
      "Accuracy(origin): 0.871 (0.092)\n",
      "------------------------------\n",
      "Tuned hpyerparameters :(best parameters) {'C': 5}\n",
      "Accuracy : 0.824\n"
     ]
    }
   ],
   "source": [
    "# SVM Classifier\n",
    "scaler = StandardScaler().fit(X_train)\n",
    "rescaledX = scaler.transform(X_train)\n",
    "model = Pipeline(steps=[('m', SVC(gamma='auto'))])\n",
    "cv = KFold(n_splits=10, random_state=seed, shuffle=True)\n",
    "scores = cross_val_score(model, rescaledX, y_train, scoring=scoring, cv=cv, n_jobs=-1)\n",
    "print(f\"Accuracy(origin): {np.mean(scores):.3f} ({np.std(scores):.3f})\")\n",
    "added_section_separate_line()\n",
    "params = [{'C': [0.1, 1, 1.5, 2, 2.2, 2.5, 2.7, 3, 5]}]\n",
    "model = SVC()\n",
    "cv = KFold(n_splits=10, random_state=seed, shuffle=True)\n",
    "grid = GridSearchCV(estimator=model, param_grid=params, scoring=scoring, cv=cv)\n",
    "grid.fit(X_train, y_train)\n",
    "print(f\"Tuned hpyerparameters :(best parameters) {grid.best_params_}\")\n",
    "print(f\"Accuracy : {grid.best_score_:.3f}\")"
   ]
  },
  {
   "cell_type": "markdown",
   "id": "9e1840a0",
   "metadata": {},
   "source": [
    "#### **Phase III**"
   ]
  },
  {
   "cell_type": "markdown",
   "id": "0296136a",
   "metadata": {},
   "source": [
    "#### prediction"
   ]
  },
  {
   "cell_type": "code",
   "execution_count": 23,
   "id": "248720d6",
   "metadata": {},
   "outputs": [
    {
     "name": "stdout",
     "output_type": "stream",
     "text": [
      "> accuracy score: 89.286%\n",
      "> confusion matric: \n",
      "[[12  1]\n",
      " [ 2 13]]\n",
      "> classification report: \n",
      "              precision    recall  f1-score   support\n",
      "\n",
      "           M       0.86      0.92      0.89        13\n",
      "           R       0.93      0.87      0.90        15\n",
      "\n",
      "    accuracy                           0.89        28\n",
      "   macro avg       0.89      0.89      0.89        28\n",
      "weighted avg       0.90      0.89      0.89        28\n",
      "\n"
     ]
    }
   ],
   "source": [
    "scaler = StandardScaler().fit(X_train)\n",
    "rescaledX = scaler.transform(X_train)\n",
    "rescaledTestX = scaler.transform(X_test)\n",
    "model = SVC(C=5)\n",
    "model.fit(rescaledX, y_train)\n",
    "y_pred = model.predict(rescaledTestX)\n",
    "print(f\"> accuracy score: {100*accuracy_score(y_test, y_pred):.3f}%\")\n",
    "print(f\"> confusion matric: \\n{confusion_matrix(y_test, y_pred)}\")\n",
    "print(f\"> classification report: \\n{classification_report(y_test, y_pred)}\")"
   ]
  },
  {
   "cell_type": "markdown",
   "id": "31ed56f1",
   "metadata": {},
   "source": [
    "* 小結：\n",
    "    * 使用Stadardize Scaling + Outlier removing + model tuning相較於Stadardize Scaling + Outlier removing的accuracy提升有限"
   ]
  },
  {
   "cell_type": "markdown",
   "id": "f36a7d41",
   "metadata": {},
   "source": [
    "* 結論：\n",
    "    * 此dataset作為二元分類問題，其baseline model accuracy為53.37%\n",
    "    * 通過分類模型(如RandomForestClassifier)，可將prediction accuacy提升至76.19%\n",
    "    * 進行accuracy優化，最終進行Standardize rescaling (Gaussian distribution) + Outlier treatment，訓練出SVM Classifier，可將prediction accuracy提升至89.3%\n",
    "    * 專門針對SVM Classifier進行hyperparameter，並無進一步提升accuracy"
   ]
  },
  {
   "cell_type": "code",
   "execution_count": null,
   "id": "d1884aec",
   "metadata": {},
   "outputs": [],
   "source": []
  }
 ],
 "metadata": {
  "kernelspec": {
   "display_name": "Python 3",
   "language": "python",
   "name": "python3"
  },
  "language_info": {
   "codemirror_mode": {
    "name": "ipython",
    "version": 3
   },
   "file_extension": ".py",
   "mimetype": "text/x-python",
   "name": "python",
   "nbconvert_exporter": "python",
   "pygments_lexer": "ipython3",
   "version": "3.8.8"
  }
 },
 "nbformat": 4,
 "nbformat_minor": 5
}
