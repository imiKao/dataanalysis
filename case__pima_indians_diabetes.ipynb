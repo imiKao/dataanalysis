{
 "cells": [
  {
   "cell_type": "markdown",
   "id": "5c5542f2",
   "metadata": {},
   "source": [
    "#### **Phase I**"
   ]
  },
  {
   "cell_type": "markdown",
   "id": "193588f5",
   "metadata": {},
   "source": [
    "#### 1. Problem & Target"
   ]
  },
  {
   "cell_type": "markdown",
   "id": "401f0ee9",
   "metadata": {},
   "source": [
    "#### Context\n",
    "* This dataset is originally from the National Institute of Diabetes and Digestive and Kidney Diseases. The objective of the dataset is to \n",
    "* diagnostically predict whether or not a patient has diabetes, based on certain diagnostic measurements included in the dataset. Several constraints \n",
    "* were placed on the selection of these instances from a larger database. In particular, all patients here are females at least 21 years old of Pima \n",
    "* Indian heritage.\n",
    "\n",
    "#### Content\n",
    "* The datasets consists of several medical predictor variables and one target variable, Outcome. Predictor variables includes the number of \n",
    "* pregnancies the patient has had, their BMI, insulin level, age, and so on.\n",
    "\n",
    "#### Inspiration\n",
    "* Can you build a machine learning model to accurately predict whether or not the patients in the dataset have diabetes or not?\n",
    "\n",
    "#### columns definition\n",
    "* Pregnancies: Number of times pregnant\n",
    "* Glucose(葡萄糖): Plasma glucose concentration a 2 hours in an oral glucose tolerance test\n",
    "* BloodPressure: Diastolic blood pressure (mm Hg)\n",
    "* SkinThickness: Triceps skin fold thickness (mm)\n",
    "* Insulin(胰島素): 2-Hour serum insulin (mu U/ml)\n",
    "* BMI: Body mass index (weight in kg/(height in m)^2)\n",
    "* DiabetesPedigreeFunction: Diabetes pedigree function\n",
    "* Age\n",
    "* Outcome Class variable (0 or 1) 268 of 768 are 1, the others are 0"
   ]
  },
  {
   "cell_type": "markdown",
   "id": "b09001db",
   "metadata": {},
   "source": [
    "#### 2. dataset"
   ]
  },
  {
   "cell_type": "code",
   "execution_count": 1,
   "id": "f6131579",
   "metadata": {},
   "outputs": [],
   "source": [
    "## load libraries\n",
    "import numpy as np\n",
    "import pandas as pd\n",
    "import matplotlib.pyplot as plt\n",
    "import seaborn as sns\n",
    "import time\n",
    "import missingno as msno\n",
    "from my_template import tot_exec_time, added_section_separate_line\n",
    "from my_template import describe_skew_unvariate_distribution, describe_class_distribution\n",
    "from my_template import visualize_features_hist, visualize_density_plot, visualize_box_whisker_plot, visualize_correlation_matrix\n",
    "from my_template import detect_column_only_single_value, detect_column_very_few_value, detect_outlier_over3std, detect_outlier_quartile, detect_have_null_value, detect_zero_value_counts\n",
    "from sklearn.pipeline import Pipeline\n",
    "from sklearn.model_selection import train_test_split, KFold, RepeatedStratifiedKFold, cross_val_score\n",
    "from sklearn.metrics import classification_report, confusion_matrix, accuracy_score\n",
    "from sklearn.linear_model import LogisticRegression, Perceptron\n",
    "from sklearn.tree import DecisionTreeClassifier\n",
    "from sklearn.neighbors import KNeighborsClassifier\n",
    "from sklearn.ensemble import RandomForestClassifier, GradientBoostingClassifier\n",
    "from sklearn.discriminant_analysis import LinearDiscriminantAnalysis\n",
    "from sklearn.naive_bayes import GaussianNB\n",
    "from sklearn.svm import SVC"
   ]
  },
  {
   "cell_type": "code",
   "execution_count": 2,
   "id": "3032b6b7",
   "metadata": {},
   "outputs": [
    {
     "name": "stdout",
     "output_type": "stream",
     "text": [
      "   Pregnancies  Glucose  BloodPressure  SkinThickness  Insulin   BMI  \\\n",
      "0            6      148             72             35        0  33.6   \n",
      "1            1       85             66             29        0  26.6   \n",
      "2            8      183             64              0        0  23.3   \n",
      "3            1       89             66             23       94  28.1   \n",
      "4            0      137             40             35      168  43.1   \n",
      "\n",
      "   DiabetesPedigreeFunction  Age  Outcome  \n",
      "0                     0.627   50        1  \n",
      "1                     0.351   31        0  \n",
      "2                     0.672   32        1  \n",
      "3                     0.167   21        0  \n",
      "4                     2.288   33        1  \n"
     ]
    }
   ],
   "source": [
    "## load dataset\n",
    "data_url = \"./dataset/pima-indians-diabetes.csv\"\n",
    "df = pd.read_csv(data_url, header=None)\n",
    "df.columns = ['Pregnancies', 'Glucose', 'BloodPressure', 'SkinThickness', 'Insulin', 'BMI', 'DiabetesPedigreeFunction', 'Age', 'Outcome']\n",
    "print(df.head())"
   ]
  },
  {
   "cell_type": "code",
   "execution_count": 3,
   "id": "0809d4e9",
   "metadata": {
    "scrolled": true
   },
   "outputs": [
    {
     "name": "stdout",
     "output_type": "stream",
     "text": [
      "dataset head: \n",
      "   Pregnancies  Glucose  BloodPressure  SkinThickness  Insulin   BMI  \\\n",
      "0            6      148             72             35        0  33.6   \n",
      "1            1       85             66             29        0  26.6   \n",
      "2            8      183             64              0        0  23.3   \n",
      "3            1       89             66             23       94  28.1   \n",
      "4            0      137             40             35      168  43.1   \n",
      "\n",
      "   DiabetesPedigreeFunction  Age  Outcome  \n",
      "0                     0.627   50        1  \n",
      "1                     0.351   31        0  \n",
      "2                     0.672   32        1  \n",
      "3                     0.167   21        0  \n",
      "4                     2.288   33        1  \n",
      "------------------------------\n",
      "dataset shape: (768, 9)\n",
      "------------------------------\n",
      "dataset description: \n",
      "       Pregnancies  Glucose  BloodPressure  SkinThickness  Insulin    BMI  \\\n",
      "count        768.0    768.0          768.0          768.0    768.0  768.0   \n",
      "mean           3.8    120.9           69.1           20.5     79.8   32.0   \n",
      "std            3.4     32.0           19.4           16.0    115.2    7.9   \n",
      "min            0.0      0.0            0.0            0.0      0.0    0.0   \n",
      "25%            1.0     99.0           62.0            0.0      0.0   27.3   \n",
      "50%            3.0    117.0           72.0           23.0     30.5   32.0   \n",
      "75%            6.0    140.2           80.0           32.0    127.2   36.6   \n",
      "max           17.0    199.0          122.0           99.0    846.0   67.1   \n",
      "\n",
      "       DiabetesPedigreeFunction    Age  Outcome  \n",
      "count                   7.7e+02  768.0    768.0  \n",
      "mean                    4.7e-01   33.2      0.3  \n",
      "std                     3.3e-01   11.8      0.5  \n",
      "min                     7.8e-02   21.0      0.0  \n",
      "25%                     2.4e-01   24.0      0.0  \n",
      "50%                     3.7e-01   29.0      0.0  \n",
      "75%                     6.3e-01   41.0      1.0  \n",
      "max                     2.4e+00   81.0      1.0  \n",
      "------------------------------\n",
      "feaures skew:\n",
      "Pregnancies                 0.9\n",
      "Glucose                     0.2\n",
      "BloodPressure              -1.8\n",
      "SkinThickness               0.1\n",
      "Insulin                     2.3\n",
      "BMI                        -0.4\n",
      "DiabetesPedigreeFunction    1.9\n",
      "Age                         1.1\n",
      "Outcome                     0.6\n",
      "dtype: float64\n",
      "------------------------------\n",
      "target class distribution:\n"
     ]
    },
    {
     "data": {
      "text/plain": [
       "Outcome\n",
       "0    500\n",
       "1    268\n",
       "dtype: int64"
      ]
     },
     "execution_count": 3,
     "metadata": {},
     "output_type": "execute_result"
    }
   ],
   "source": [
    "## summarize data\n",
    "print(f\"dataset head: \\n{df.head()}\")\n",
    "added_section_separate_line()\n",
    "print(f\"dataset shape: {df.shape}\")\n",
    "added_section_separate_line()\n",
    "pd.set_option('precision', 1)\n",
    "print(f\"dataset description: \\n{df.describe()}\")\n",
    "added_section_separate_line()\n",
    "print(\"feaures skew:\")\n",
    "describe_skew_unvariate_distribution(df, df.columns)\n",
    "added_section_separate_line()\n",
    "print(\"target class distribution:\")\n",
    "describe_class_distribution(df, 'Outcome')"
   ]
  },
  {
   "cell_type": "code",
   "execution_count": 6,
   "id": "7a074bad",
   "metadata": {
    "scrolled": false
   },
   "outputs": [
    {
     "name": "stdout",
     "output_type": "stream",
     "text": [
      "Histogram of features:\n"
     ]
    },
    {
     "data": {
      "image/png": "[encoded data removed]",
      "text/plain": [
       "<Figure size 432x288 with 9 Axes>"
      ]
     },
     "metadata": {},
     "output_type": "display_data"
    },
    {
     "name": "stdout",
     "output_type": "stream",
     "text": [
      "------------------------------\n",
      "Density Plots of features:\n"
     ]
    },
    {
     "data": {
      "image/png": "[encoded data removed]",
      "text/plain": [
       "<Figure size 432x288 with 9 Axes>"
      ]
     },
     "metadata": {},
     "output_type": "display_data"
    },
    {
     "name": "stdout",
     "output_type": "stream",
     "text": [
      "------------------------------\n",
      "Box-whisker Plots of features:\n"
     ]
    },
    {
     "data": {
      "image/png": "[encoded data removed]",
      "text/plain": [
       "<Figure size 432x288 with 9 Axes>"
      ]
     },
     "metadata": {},
     "output_type": "display_data"
    },
    {
     "name": "stdout",
     "output_type": "stream",
     "text": [
      "Correlation matrix of features:\n"
     ]
    },
    {
     "data": {
      "image/png": "[encoded data removed]",
      "text/plain": [
       "<Figure size 432x288 with 2 Axes>"
      ]
     },
     "metadata": {},
     "output_type": "display_data"
    }
   ],
   "source": [
    "## data visualization\n",
    "sns.set_theme(style=\"darkgrid\")\n",
    "visualize_features_hist(df, df.columns)\n",
    "added_section_separate_line()\n",
    "visualize_density_plot(df, df.columns, layout=(3,3))\n",
    "added_section_separate_line()\n",
    "visualize_box_whisker_plot(df, df.columns, layout=(3,3))\n",
    "visualize_correlation_matrix(df, df.columns)"
   ]
  },
  {
   "cell_type": "code",
   "execution_count": 14,
   "id": "3d5cce1c",
   "metadata": {},
   "outputs": [
    {
     "name": "stdout",
     "output_type": "stream",
     "text": [
      "Missing value viz (black & white light):\n"
     ]
    },
    {
     "data": {
      "image/png": "[encoded data removed]",
      "text/plain": [
       "<Figure size 576x288 with 2 Axes>"
      ]
     },
     "metadata": {},
     "output_type": "display_data"
    },
    {
     "name": "stdout",
     "output_type": "stream",
     "text": [
      "------------------------------\n",
      "Missing value viz (correlation between missing):\n"
     ]
    },
    {
     "data": {
      "image/png": "[encoded data removed]",
      "text/plain": [
       "<Figure size 576x288 with 2 Axes>"
      ]
     },
     "metadata": {},
     "output_type": "display_data"
    }
   ],
   "source": [
    "## data visualization - missing value\n",
    "print(\"Missing value viz (black & white light):\")\n",
    "df_na = df.copy(deep=True)\n",
    "feature_check_zero_list = ['Glucose', 'BloodPressure', 'SkinThickness', 'Insulin', 'BMI']\n",
    "df_na[feature_check_zero_list] = df_na[feature_check_zero_list].replace(0, np.nan)\n",
    "fig = msno.matrix(df_na, figsize=(8,4))\n",
    "plt.xlabel('Variables', size=14, labelpad=12)\n",
    "plt.ylabel('Total Observations', size=14, labelpad=12)\n",
    "plt.tick_params(axis='both', labelsize=14, length=8)\n",
    "plt.show()\n",
    "added_section_separate_line()\n",
    "print(\"Missing value viz (correlation between missing):\")\n",
    "fig = msno.heatmap(df_na, figsize=(8,4))\n",
    "plt.xlabel('Variables with Missing Values', size=14, labelpad=12)\n",
    "plt.ylabel('Variables with Missing Values', size=14, labelpad=12)\n",
    "plt.tick_params(axis='both', labelsize=14, length=8)\n",
    "plt.show()"
   ]
  },
  {
   "cell_type": "markdown",
   "id": "d60aac95",
   "metadata": {},
   "source": [
    "* 小結：\n",
    "    * 觀察feature: Pregnancies、SkinThickness、Insulin、DiabetesPedigreeFunction與Age都有右偏的情況\n",
    "    * 觀察原始資料中，Glucose與Insulin、Age還有Outcome有正相關；Pregnancies與Age有正相關(需觀察Age的範圍有哪些)；SkinThickness與Insulin、BMI有正相關。因為資料尚未處理，故尚不考慮其是否有不合理性"
   ]
  },
  {
   "cell_type": "markdown",
   "id": "bc9656bd",
   "metadata": {},
   "source": [
    "#### **Phase II**"
   ]
  },
  {
   "cell_type": "markdown",
   "id": "9f72c6a3",
   "metadata": {},
   "source": [
    "#### 3. data preprocessing"
   ]
  },
  {
   "cell_type": "code",
   "execution_count": 10,
   "id": "ab6c5e2a",
   "metadata": {},
   "outputs": [
    {
     "name": "stdout",
     "output_type": "stream",
     "text": [
      "feature 0: Pregnancies\n",
      "feature 1: Glucose\n",
      "feature 2: BloodPressure\n",
      "feature 3: SkinThickness\n",
      "feature 4: Insulin\n",
      "feature 5: BMI\n",
      "feature 6: DiabetesPedigreeFunction\n",
      "feature 7: Age\n",
      "feature 8: Outcome\n",
      "------------------------------\n",
      "Record columns to delete (only single value): []\n",
      "------------------------------\n",
      "Record columns to delete (very few value): [8]\n",
      "------------------------------\n",
      "There is no null value in dataframe.\n",
      "------------------------------\n",
      "Feature (Pregnancies): Identified outliers: 4, Non-outlier observation: 768\n",
      "Feature (Glucose): Identified outliers: 5, Non-outlier observation: 768\n",
      "Feature (BloodPressure): Identified outliers: 35, Non-outlier observation: 768\n",
      "Feature (SkinThickness): Identified outliers: 1, Non-outlier observation: 768\n",
      "Feature (Insulin): Identified outliers: 18, Non-outlier observation: 768\n",
      "Feature (BMI): Identified outliers: 14, Non-outlier observation: 768\n",
      "Feature (DiabetesPedigreeFunction): Identified outliers: 11, Non-outlier observation: 768\n",
      "Feature (Age): Identified outliers: 5, Non-outlier observation: 768\n",
      "------------------------------\n",
      "Feature (Pregnancies): Percentile: 25th = 1.00, 75th = 6.00, IQR = 5.000\n",
      "Identified outliers: 4, Non-outlier observations: 768\n",
      "Feature (Glucose): Percentile: 25th = 99.00, 75th = 140.25, IQR = 41.250\n",
      "Identified outliers: 5, Non-outlier observations: 768\n",
      "Feature (BloodPressure): Percentile: 25th = 62.00, 75th = 80.00, IQR = 18.000\n",
      "Identified outliers: 45, Non-outlier observations: 768\n",
      "Feature (SkinThickness): Percentile: 25th = 0.00, 75th = 32.00, IQR = 32.000\n",
      "Identified outliers: 1, Non-outlier observations: 768\n",
      "Feature (Insulin): Percentile: 25th = 0.00, 75th = 127.25, IQR = 127.250\n",
      "Identified outliers: 34, Non-outlier observations: 768\n",
      "Feature (BMI): Percentile: 25th = 27.30, 75th = 36.60, IQR = 9.300\n",
      "Identified outliers: 19, Non-outlier observations: 768\n",
      "Feature (DiabetesPedigreeFunction): Percentile: 25th = 0.24, 75th = 0.63, IQR = 0.382\n",
      "Identified outliers: 29, Non-outlier observations: 768\n",
      "Feature (Age): Percentile: 25th = 24.00, 75th = 41.00, IQR = 17.000\n",
      "Identified outliers: 9, Non-outlier observations: 768\n"
     ]
    }
   ],
   "source": [
    "## data cleaning - data detection to remove\n",
    "for idx, name in enumerate(df.columns):\n",
    "    print(f\"feature {idx}: {name}\")\n",
    "added_section_separate_line()\n",
    "detect_column_only_single_value(df)\n",
    "added_section_separate_line()\n",
    "detect_column_very_few_value(df)\n",
    "added_section_separate_line()\n",
    "detect_have_null_value(df)\n",
    "added_section_separate_line()\n",
    "for col in df.columns[:-1]:\n",
    "    print(f\"Feature ({col}):\", end=\" \")\n",
    "    detect_outlier_over3std(df, col)\n",
    "added_section_separate_line()\n",
    "for col in df.columns[:-1]:\n",
    "    print(f\"Feature ({col}):\", end=\" \")\n",
    "    detect_outlier_quartile(df, col)"
   ]
  },
  {
   "cell_type": "markdown",
   "id": "2a28ca39",
   "metadata": {},
   "source": [
    "* 小結：\n",
    "    * 在Record columns to delete中，feature 8為Outcome，故不刪除\n",
    "    * 雖然檢測null value並無發現空值，但實際上再往上確認data description時，發現共有6個(不含target)的最小值為0，除了Pregnancies以外，在Glucose、BloodPressure、SkinThickness、Insulin與BMI的features特性實際上不應該出現0，故推測是當時未量測到數值而填入0，故認定其為空值"
   ]
  },
  {
   "cell_type": "code",
   "execution_count": 11,
   "id": "7377a56e",
   "metadata": {},
   "outputs": [
    {
     "name": "stdout",
     "output_type": "stream",
     "text": [
      "Detect 0 value in these features:\n",
      "> Count of zeros in Column Glucose: 5\n",
      "> Count of zeros in Column BloodPressure: 35\n",
      "> Count of zeros in Column SkinThickness: 227\n",
      "> Count of zeros in Column Insulin: 374\n",
      "> Count of zeros in Column BMI: 11\n",
      "------------------------------\n",
      "Dataframe shape before drop 0 values: (768, 9)\n",
      "Dataframe shape after drop 0 values: (392, 9)\n",
      "Data ratio after drop: 51.04%\n"
     ]
    }
   ],
   "source": [
    "## data cleaning - data remove 0(null) values\n",
    "feature_check_zero_list = ['Glucose', 'BloodPressure', 'SkinThickness', 'Insulin', 'BMI']\n",
    "detect_zero_value_counts(df, feature_check_zero_list)\n",
    "added_section_separate_line()\n",
    "print(f\"Dataframe shape before drop 0 values: {df.shape}\")\n",
    "df_rm0 = df.copy(deep=True)\n",
    "for feature in feature_check_zero_list:\n",
    "    idx_names = df_rm0[df_rm0[feature]==0].index\n",
    "    df_rm0 = df_rm0.drop(idx_names)\n",
    "    df_rm0 = df_rm0.reset_index(drop=True)\n",
    "print(f\"Dataframe shape after drop 0 values: {df_rm0.shape}\")\n",
    "print(f\"Data ratio after drop: {100*df_rm0.shape[0]/df.shape[0]:.2f}%\")"
   ]
  },
  {
   "cell_type": "code",
   "execution_count": 7,
   "id": "8363a58c",
   "metadata": {},
   "outputs": [
    {
     "name": "stdout",
     "output_type": "stream",
     "text": [
      "Correlation matrix of features:\n"
     ]
    },
    {
     "data": {
      "image/png": "[encoded data removed]",
      "text/plain": [
       "<Figure size 432x288 with 2 Axes>"
      ]
     },
     "metadata": {},
     "output_type": "display_data"
    }
   ],
   "source": [
    "sns.set_theme(style=\"darkgrid\")\n",
    "visualize_correlation_matrix(df_rm0, df_rm0.columns)"
   ]
  },
  {
   "cell_type": "markdown",
   "id": "1e34aa58",
   "metadata": {},
   "source": [
    "* 小結：\n",
    "    * 觀察刪除空值後的data correlation，Glucose與Insulin及Outcome有正相關性；Pregnancies與Age有正相關性；BMI與SkinThickness有正相關性\n",
    "    * 其中與目標(Outcome)有正相關性的feature為Glucose，可考慮僅用此feature做baseline model驗證"
   ]
  },
  {
   "cell_type": "markdown",
   "id": "6d374c6b",
   "metadata": {},
   "source": [
    "#### 4. model & validation"
   ]
  },
  {
   "cell_type": "code",
   "execution_count": 20,
   "id": "010ebd93",
   "metadata": {},
   "outputs": [],
   "source": [
    "seed = 87\n",
    "scoring = \"accuracy\"   # 使用accuracy評估model"
   ]
  },
  {
   "cell_type": "code",
   "execution_count": 21,
   "id": "86c97f09",
   "metadata": {},
   "outputs": [
    {
     "name": "stdout",
     "output_type": "stream",
     "text": [
      "Input: (262, 8)\n",
      "[[3.000e+00 1.730e+02 8.200e+01 4.800e+01 4.650e+02 3.840e+01 2.137e+00\n",
      "  2.500e+01]\n",
      " [1.200e+01 1.510e+02 7.000e+01 4.000e+01 2.710e+02 4.180e+01 7.420e-01\n",
      "  3.800e+01]\n",
      " [6.000e+00 1.030e+02 7.200e+01 3.200e+01 1.900e+02 3.770e+01 3.240e-01\n",
      "  5.500e+01]\n",
      " [1.000e+00 1.120e+02 8.000e+01 4.500e+01 1.320e+02 3.480e+01 2.170e-01\n",
      "  2.400e+01]\n",
      " [1.000e+00 8.600e+01 6.600e+01 5.200e+01 6.500e+01 4.130e+01 9.170e-01\n",
      "  2.900e+01]]\n",
      "Output: (262,)\n",
      "[1. 1. 0. 0. 0.]\n"
     ]
    }
   ],
   "source": [
    "data = df_rm0.values\n",
    "X = data[:, :-1]\n",
    "y = data[:, -1]\n",
    "validation_size = 0.33\n",
    "X_train, X_test, y_train, y_test = train_test_split(X, y, test_size=validation_size, random_state=seed)\n",
    "print(f\"Input: {X_train.shape}\")\n",
    "print(X_train[:5, :])\n",
    "print(f\"Output: {y_train.shape}\")\n",
    "print(y_train[:5])"
   ]
  },
  {
   "cell_type": "code",
   "execution_count": 22,
   "id": "f616dd68",
   "metadata": {},
   "outputs": [
    {
     "name": "stdout",
     "output_type": "stream",
     "text": [
      ">LR 0.764 (0.066)\n",
      ">LDA 0.809 (0.057)\n",
      ">KNN 0.725 (0.066)\n",
      ">CART 0.752 (0.056)\n",
      ">RF 0.802 (0.074)\n",
      ">GBM 0.797 (0.065)\n",
      ">NB 0.763 (0.062)\n",
      ">SVM 0.668 (0.099)\n"
     ]
    }
   ],
   "source": [
    "# build model\n",
    "models = dict()\n",
    "models['LR'] = Pipeline(steps=[('m', LogisticRegression(solver='liblinear'))])\n",
    "models['LDA'] = Pipeline(steps=[('m', LinearDiscriminantAnalysis())])\n",
    "models['KNN'] = Pipeline(steps=[('m', KNeighborsClassifier())])\n",
    "models['CART'] = Pipeline(steps=[('m', DecisionTreeClassifier())])\n",
    "models['RF'] = Pipeline(steps=[('m', RandomForestClassifier())])\n",
    "models['GBM'] = Pipeline(steps=[('m', GradientBoostingClassifier())])\n",
    "models['NB'] = Pipeline(steps=[('m', GaussianNB())])\n",
    "models['SVM'] = Pipeline(steps=[('m', SVC(gamma='auto'))])\n",
    "# train model\n",
    "results, names = list(), list()\n",
    "for name, model in models.items():\n",
    "    cv = KFold(n_splits=10, random_state=seed, shuffle=True)\n",
    "    scores = cross_val_score(model, X_train, y_train, scoring=scoring, cv=cv, n_jobs=-1)\n",
    "    results.append(scores)\n",
    "    names.append(name)\n",
    "    print(f\">{name} {np.mean(scores):.3f} ({np.std(scores):.3f})\")"
   ]
  },
  {
   "cell_type": "markdown",
   "id": "2c2ca27b",
   "metadata": {},
   "source": [
    "#### **Phase III**"
   ]
  },
  {
   "cell_type": "markdown",
   "id": "d1486092",
   "metadata": {},
   "source": [
    "#### 5. prediction"
   ]
  },
  {
   "cell_type": "code",
   "execution_count": 24,
   "id": "121c0da2",
   "metadata": {},
   "outputs": [
    {
     "name": "stdout",
     "output_type": "stream",
     "text": [
      "# Method 1 for baseline model:\n",
      "The most common value in target: 0; and ratio of this feature in all dataset: 66.84%\n",
      "------------------------------\n",
      "# Method 2 for baseline model:\n",
      "> accuracy score: 75.385%\n",
      "> confusion matric: \n",
      "[[80  7]\n",
      " [25 18]]\n",
      "> classification report: \n",
      "              precision    recall  f1-score   support\n",
      "\n",
      "           0       0.76      0.92      0.83        87\n",
      "           1       0.72      0.42      0.53        43\n",
      "\n",
      "    accuracy                           0.75       130\n",
      "   macro avg       0.74      0.67      0.68       130\n",
      "weighted avg       0.75      0.75      0.73       130\n",
      "\n"
     ]
    }
   ],
   "source": [
    "## 使用base-model進行預測\n",
    "# 1. 以常理預測\n",
    "print(\"# Method 1 for baseline model:\")\n",
    "output_values = df_rm0['Outcome'].values.tolist()\n",
    "prediction = max(set(output_values), key=output_values.count)   # 找出比例最大的分類，直接作為所有驗證集的baseline預測結果\n",
    "print(f\"The most common value in target: {prediction}; and ratio of this feature in all dataset: {100*len(df_rm0[df_rm0['Outcome']==prediction])/len(df_rm0):.2f}%\")\n",
    "added_section_separate_line()\n",
    "# 2. 以正相關性較高的feature(Glucose)進行預測\n",
    "print(\"# Method 2 for baseline model:\")\n",
    "data = df_rm0.values\n",
    "X = np.reshape(df_rm0['Glucose'].values, (len(df_rm0),-1))\n",
    "y = df_rm0['Outcome'].values\n",
    "validation_size = 0.33\n",
    "X_train, X_test, y_train, y_test = train_test_split(X, y, test_size=validation_size, random_state=seed)\n",
    "lr = LogisticRegression(solver='liblinear')\n",
    "lr.fit(X_train, y_train)\n",
    "y_pred = lr.predict(X_test)\n",
    "print(f\"> accuracy score: {100*accuracy_score(y_test, y_pred):.3f}%\")\n",
    "print(f\"> confusion matric: \\n{confusion_matrix(y_test, y_pred)}\")\n",
    "print(f\"> classification report: \\n{classification_report(y_test, y_pred)}\")"
   ]
  },
  {
   "cell_type": "code",
   "execution_count": 23,
   "id": "18628e69",
   "metadata": {},
   "outputs": [
    {
     "name": "stdout",
     "output_type": "stream",
     "text": [
      "> accuracy score: 76.923%\n",
      "> confusion matric: \n",
      "[[75 12]\n",
      " [18 25]]\n",
      "> classification report: \n",
      "              precision    recall  f1-score   support\n",
      "\n",
      "         0.0       0.81      0.86      0.83        87\n",
      "         1.0       0.68      0.58      0.63        43\n",
      "\n",
      "    accuracy                           0.77       130\n",
      "   macro avg       0.74      0.72      0.73       130\n",
      "weighted avg       0.76      0.77      0.76       130\n",
      "\n"
     ]
    }
   ],
   "source": [
    "# 進行訓練與預測\n",
    "model = LinearDiscriminantAnalysis()\n",
    "model.fit(X_train, y_train)\n",
    "y_pred = model.predict(X_test)\n",
    "print(f\"> accuracy score: {100*accuracy_score(y_test, y_pred):.3f}%\")\n",
    "print(f\"> confusion matric: \\n{confusion_matrix(y_test, y_pred)}\")\n",
    "print(f\"> classification report: \\n{classification_report(y_test, y_pred)}\")"
   ]
  },
  {
   "cell_type": "markdown",
   "id": "eb97c920",
   "metadata": {},
   "source": [
    "* 小結：\n",
    "    * 比較僅以Glucose對target做的baseline model，發現其accuracy=75.4%;隨意猜測的accuracy也有66.8%；而對於LDA進行預測的accuracy為76.9%，雖有進步但幅度不大(僅對預測target=1有進步)，需考量其它優化方式"
   ]
  },
  {
   "cell_type": "markdown",
   "id": "47fcfbfc",
   "metadata": {},
   "source": [
    "### Experiment & Improvement 1: missing value treatment by using imputation"
   ]
  },
  {
   "cell_type": "markdown",
   "id": "8677b480",
   "metadata": {},
   "source": [
    "#### **Phase II**"
   ]
  },
  {
   "cell_type": "code",
   "execution_count": 3,
   "id": "5ee25452",
   "metadata": {},
   "outputs": [],
   "source": [
    "from sklearn.experimental import enable_iterative_imputer\n",
    "from sklearn.impute import SimpleImputer, KNNImputer, IterativeImputer"
   ]
  },
  {
   "cell_type": "code",
   "execution_count": 4,
   "id": "0dace8e0",
   "metadata": {},
   "outputs": [],
   "source": [
    "seed = 87\n",
    "scoring = \"accuracy\"   # 使用accuracy評估model"
   ]
  },
  {
   "cell_type": "code",
   "execution_count": 5,
   "id": "ddb5275a",
   "metadata": {},
   "outputs": [
    {
     "name": "stdout",
     "output_type": "stream",
     "text": [
      "===> Strategy: mean <===\n",
      "> LR: 0.759 (0.052)\n",
      "> LDA: 0.774 (0.040)\n",
      "> KNN: 0.724 (0.055)\n",
      "> CART: 0.693 (0.042)\n",
      "> RF: 0.755 (0.041)\n",
      "> GBM: 0.747 (0.039)\n",
      "> NB: 0.755 (0.040)\n",
      "> SVM: 0.669 (0.071)\n",
      "===> Strategy: median <===\n",
      "> LR: 0.757 (0.047)\n",
      "> LDA: 0.772 (0.043)\n",
      "> KNN: 0.733 (0.053)\n",
      "> CART: 0.716 (0.047)\n",
      "> RF: 0.753 (0.042)\n",
      "> GBM: 0.759 (0.041)\n",
      "> NB: 0.753 (0.041)\n",
      "> SVM: 0.669 (0.071)\n",
      "===> Strategy: most_frequent <===\n",
      "> LR: 0.759 (0.049)\n",
      "> LDA: 0.774 (0.042)\n",
      "> KNN: 0.729 (0.053)\n",
      "> CART: 0.722 (0.047)\n",
      "> RF: 0.749 (0.043)\n",
      "> GBM: 0.749 (0.027)\n",
      "> NB: 0.755 (0.042)\n",
      "> SVM: 0.669 (0.071)\n",
      "===> Strategy: constant <===\n",
      "> LR: 0.765 (0.052)\n",
      "> LDA: 0.768 (0.045)\n",
      "> KNN: 0.728 (0.043)\n",
      "> CART: 0.732 (0.065)\n",
      "> RF: 0.755 (0.051)\n",
      "> GBM: 0.757 (0.039)\n",
      "> NB: 0.745 (0.049)\n",
      "> SVM: 0.669 (0.071)\n"
     ]
    }
   ],
   "source": [
    "# simple imputation\n",
    "df_impute = df.copy(deep=True)\n",
    "feature_check_zero_list = ['Glucose', 'BloodPressure', 'SkinThickness', 'Insulin', 'BMI']\n",
    "df_impute[feature_check_zero_list] = df_impute[feature_check_zero_list].replace(0, np.nan)\n",
    "data_impute = df_impute.values\n",
    "X, y = data_impute[:, :-1], data_impute[:, -1]\n",
    "validation_size = 0.33\n",
    "X_train, X_test, y_train, y_test = train_test_split(X, y, test_size=validation_size, random_state=seed)\n",
    "# build\n",
    "def temp_model():\n",
    "    models = dict()\n",
    "    models['LR'] = Pipeline(steps=[('i', SimpleImputer(missing_values=np.nan, strategy=s)), ('m', LogisticRegression(solver='liblinear'))])\n",
    "    models['LDA'] = Pipeline(steps=[('i', SimpleImputer(missing_values=np.nan, strategy=s)), ('m', LinearDiscriminantAnalysis())])\n",
    "    models['KNN'] = Pipeline(steps=[('i', SimpleImputer(missing_values=np.nan, strategy=s)), ('m', KNeighborsClassifier())])\n",
    "    models['CART'] = Pipeline(steps=[('i', SimpleImputer(missing_values=np.nan, strategy=s)), ('m', DecisionTreeClassifier())])\n",
    "    models['RF'] = Pipeline(steps=[('i', SimpleImputer(missing_values=np.nan, strategy=s)), ('m', RandomForestClassifier())])\n",
    "    models['GBM'] = Pipeline(steps=[('i', SimpleImputer(missing_values=np.nan, strategy=s)), ('m', GradientBoostingClassifier())])\n",
    "    models['NB'] = Pipeline(steps=[('i', SimpleImputer(missing_values=np.nan, strategy=s)), ('m', GaussianNB())])\n",
    "    models['SVM'] = Pipeline(steps=[('i', SimpleImputer(missing_values=np.nan, strategy=s)), ('m', SVC(gamma='auto'))])\n",
    "    return models\n",
    "# train model\n",
    "results, names = list(), list()\n",
    "strategies = ['mean', 'median', 'most_frequent', 'constant']\n",
    "for s in strategies:\n",
    "    print(f\"===> Strategy: {s} <===\")\n",
    "    models = temp_model()\n",
    "    for name, model in models.items():\n",
    "        cv = KFold(n_splits=10, random_state=seed, shuffle=True)\n",
    "        scores = cross_val_score(model, X_train, y_train, scoring=scoring, cv=cv, n_jobs=-1)\n",
    "        results.append(scores)\n",
    "        names.append(name)\n",
    "        print(f\"> {name}: {np.mean(scores):.3f} ({np.std(scores):.3f})\")"
   ]
  },
  {
   "cell_type": "code",
   "execution_count": 6,
   "id": "bc5f1c41",
   "metadata": {},
   "outputs": [
    {
     "name": "stdout",
     "output_type": "stream",
     "text": [
      "> LR 0.751 (0.052)\n",
      "> LDA 0.767 (0.044)\n",
      "> KNN 0.733 (0.028)\n",
      "> CART 0.708 (0.046)\n",
      "> RF 0.741 (0.020)\n",
      "> GBM 0.770 (0.035)\n",
      "> NB 0.745 (0.035)\n",
      "> SVM 0.669 (0.071)\n"
     ]
    }
   ],
   "source": [
    "## knn imputation\n",
    "df_impute = df.copy(deep=True)\n",
    "feature_check_zero_list = ['Glucose', 'BloodPressure', 'SkinThickness', 'Insulin', 'BMI']\n",
    "df_impute[feature_check_zero_list] = df_impute[feature_check_zero_list].replace(0, np.nan)\n",
    "data_impute = df_impute.values\n",
    "X, y = data_impute[:, :-1], data_impute[:, -1]\n",
    "validation_size = 0.33\n",
    "X_train, X_test, y_train, y_test = train_test_split(X, y, test_size=validation_size, random_state=seed)\n",
    "# build\n",
    "models = dict()\n",
    "models['LR'] = Pipeline(steps=[('i', KNNImputer()), ('m', LogisticRegression(solver='liblinear'))])\n",
    "models['LDA'] = Pipeline(steps=[('i', KNNImputer()), ('m', LinearDiscriminantAnalysis())])\n",
    "models['KNN'] = Pipeline(steps=[('i', KNNImputer()), ('m', KNeighborsClassifier())])\n",
    "models['CART'] = Pipeline(steps=[('i', KNNImputer()), ('m', DecisionTreeClassifier())])\n",
    "models['RF'] = Pipeline(steps=[('i', KNNImputer()), ('m', RandomForestClassifier())])\n",
    "models['GBM'] = Pipeline(steps=[('i', KNNImputer()), ('m', GradientBoostingClassifier())])\n",
    "models['NB'] = Pipeline(steps=[('i', KNNImputer()), ('m', GaussianNB())])\n",
    "models['SVM'] = Pipeline(steps=[('i', KNNImputer()), ('m', SVC(gamma='auto'))])\n",
    "# train model\n",
    "results, names = list(), list()\n",
    "for name, model in models.items():\n",
    "    cv = KFold(n_splits=10, random_state=seed, shuffle=True)\n",
    "    scores = cross_val_score(model, X_train, y_train, scoring=scoring, cv=cv, n_jobs=-1)\n",
    "    results.append(scores)\n",
    "    names.append(name)\n",
    "    print(f\"> {name} {np.mean(scores):.3f} ({np.std(scores):.3f})\")"
   ]
  },
  {
   "cell_type": "code",
   "execution_count": 7,
   "id": "f7fbaec8",
   "metadata": {},
   "outputs": [
    {
     "name": "stdout",
     "output_type": "stream",
     "text": [
      "> LR 0.757 (0.045)\n",
      "> LDA 0.782 (0.036)\n",
      "> KNN 0.745 (0.050)\n",
      "> CART 0.667 (0.053)\n",
      "> RF 0.755 (0.022)\n",
      "> GBM 0.763 (0.032)\n",
      "> NB 0.757 (0.045)\n",
      "> SVM 0.669 (0.071)\n"
     ]
    }
   ],
   "source": [
    "## iterative imputer\n",
    "df_impute = df.copy(deep=True)\n",
    "feature_check_zero_list = ['Glucose', 'BloodPressure', 'SkinThickness', 'Insulin', 'BMI']\n",
    "df_impute[feature_check_zero_list] = df_impute[feature_check_zero_list].replace(0, np.nan)\n",
    "data_impute = df_impute.values\n",
    "X, y = data_impute[:, :-1], data_impute[:, -1]\n",
    "validation_size = 0.33\n",
    "X_train, X_test, y_train, y_test = train_test_split(X, y, test_size=validation_size, random_state=seed)\n",
    "# build model\n",
    "models = dict()\n",
    "models['LR'] = Pipeline(steps=[('i', IterativeImputer()), ('m', LogisticRegression(solver='liblinear'))])\n",
    "models['LDA'] = Pipeline(steps=[('i', IterativeImputer()), ('m', LinearDiscriminantAnalysis())])\n",
    "models['KNN'] = Pipeline(steps=[('i', IterativeImputer()), ('m', KNeighborsClassifier())])\n",
    "models['CART'] = Pipeline(steps=[('i', IterativeImputer()), ('m', DecisionTreeClassifier())])\n",
    "models['RF'] = Pipeline(steps=[('i', IterativeImputer()), ('m', RandomForestClassifier())])\n",
    "models['GBM'] = Pipeline(steps=[('i', IterativeImputer()), ('m', GradientBoostingClassifier())])\n",
    "models['NB'] = Pipeline(steps=[('i', IterativeImputer()), ('m', GaussianNB())])\n",
    "models['SVM'] = Pipeline(steps=[('i', IterativeImputer()), ('m', SVC(gamma='auto'))])\n",
    "# train model\n",
    "results, names = list(), list()\n",
    "for name, model in models.items():\n",
    "    cv = KFold(n_splits=10, random_state=seed, shuffle=True)\n",
    "    scores = cross_val_score(model, X_train, y_train, scoring=scoring, cv=cv, n_jobs=-1)\n",
    "    results.append(scores)\n",
    "    names.append(name)\n",
    "    print(f\"> {name} {np.mean(scores):.3f} ({np.std(scores):.3f})\")"
   ]
  },
  {
   "cell_type": "markdown",
   "id": "5744a3f3",
   "metadata": {},
   "source": [
    "#### **Phase III**"
   ]
  },
  {
   "cell_type": "code",
   "execution_count": 8,
   "id": "d63532c6",
   "metadata": {},
   "outputs": [
    {
     "name": "stdout",
     "output_type": "stream",
     "text": [
      "> accuracy score: 75.984%\n",
      "> confusion matric: \n",
      "[[130  26]\n",
      " [ 35  63]]\n",
      "> classification report: \n",
      "              precision    recall  f1-score   support\n",
      "\n",
      "         0.0       0.79      0.83      0.81       156\n",
      "         1.0       0.71      0.64      0.67        98\n",
      "\n",
      "    accuracy                           0.76       254\n",
      "   macro avg       0.75      0.74      0.74       254\n",
      "weighted avg       0.76      0.76      0.76       254\n",
      "\n"
     ]
    }
   ],
   "source": [
    "df_impute = df.copy(deep=True)\n",
    "feature_check_zero_list = ['Glucose', 'BloodPressure', 'SkinThickness', 'Insulin', 'BMI']\n",
    "df_impute[feature_check_zero_list] = df_impute[feature_check_zero_list].replace(0, np.nan)\n",
    "data_impute = df_impute.values\n",
    "X, y = data_impute[:, :-1], data_impute[:, -1]\n",
    "validation_size = 0.33\n",
    "X_train, X_test, y_train, y_test = train_test_split(X, y, test_size=validation_size, random_state=seed)\n",
    "ki = KNNImputer().fit(X_train)\n",
    "X_train = ki.transform(X_train)\n",
    "X_test = ki.transform(X_test)\n",
    "model = LinearDiscriminantAnalysis()\n",
    "model.fit(X_train, y_train)\n",
    "y_pred = model.predict(X_test)\n",
    "print(f\"> accuracy score: {100*accuracy_score(y_test, y_pred):.3f}%\")\n",
    "print(f\"> confusion matric: \\n{confusion_matrix(y_test, y_pred)}\")\n",
    "print(f\"> classification report: \\n{classification_report(y_test, y_pred)}\")"
   ]
  },
  {
   "cell_type": "markdown",
   "id": "3ef21141",
   "metadata": {},
   "source": [
    "* 小結：\n",
    "    * 測試以impute null value的方法皆無較大優化效果，後續測試仍以remove 0(null value)進行\n",
    "    * 雖然目前僅將可以處理missing value的方式來一併處理，但實際上仍需思考「為什麼data一開始會發生這些missing value?」，以及其missing是否有規律or隨機?"
   ]
  },
  {
   "cell_type": "markdown",
   "id": "4197c621",
   "metadata": {},
   "source": [
    "### Experimant 2: Data transform to Gaussian distribution"
   ]
  },
  {
   "cell_type": "markdown",
   "id": "b174020e",
   "metadata": {},
   "source": [
    "#### **Phase II**"
   ]
  },
  {
   "cell_type": "code",
   "execution_count": 9,
   "id": "d6f4cdd6",
   "metadata": {},
   "outputs": [],
   "source": [
    "from sklearn.preprocessing import StandardScaler"
   ]
  },
  {
   "cell_type": "markdown",
   "id": "7ebf230d",
   "metadata": {},
   "source": [
    "#### data preprocessing"
   ]
  },
  {
   "cell_type": "code",
   "execution_count": 20,
   "id": "01be522f",
   "metadata": {},
   "outputs": [
    {
     "name": "stdout",
     "output_type": "stream",
     "text": [
      "Detect 0 value in these features:\n",
      "> Count of zeros in Column Glucose: 5\n",
      "> Count of zeros in Column BloodPressure: 35\n",
      "> Count of zeros in Column SkinThickness: 227\n",
      "> Count of zeros in Column Insulin: 374\n",
      "> Count of zeros in Column BMI: 11\n",
      "------------------------------\n",
      "Dataframe shape before drop 0 values: (768, 9)\n",
      "Dataframe shape after drop 0 values: (392, 9)\n",
      "Data ratio after drop: 51.04%\n",
      "------------------------------\n",
      "Input: (313, 8)\n",
      "[[  5.    155.     84.     44.    545.     38.7     0.619  34.   ]\n",
      " [  6.    119.     50.     22.    176.     27.1     1.318  33.   ]\n",
      " [  6.    104.     74.     18.    156.     29.9     0.722  41.   ]]\n",
      "Output: (313,)\n",
      "[0. 1. 1.]\n"
     ]
    }
   ],
   "source": [
    "## data cleaning\n",
    "feature_check_zero_list = ['Glucose', 'BloodPressure', 'SkinThickness', 'Insulin', 'BMI']\n",
    "detect_zero_value_counts(df, feature_check_zero_list)\n",
    "added_section_separate_line()\n",
    "print(f\"Dataframe shape before drop 0 values: {df.shape}\")\n",
    "df_rm0 = df.copy(deep=True)\n",
    "for feature in feature_check_zero_list:\n",
    "    idx_names = df_rm0[df_rm0[feature]==0].index\n",
    "    df_rm0 = df_rm0.drop(idx_names)\n",
    "    df_rm0 = df_rm0.reset_index(drop=True)\n",
    "print(f\"Dataframe shape after drop 0 values: {df_rm0.shape}\")\n",
    "print(f\"Data ratio after drop: {100*df_rm0.shape[0]/df.shape[0]:.2f}%\")\n",
    "added_section_separate_line()\n",
    "# data spliting\n",
    "df_gd = df_rm0.copy(deep=True)\n",
    "data_gd = df_gd.values\n",
    "X = data_gd[:, :-1]\n",
    "y = data_gd[:, -1]\n",
    "validation_size = 0.2\n",
    "X_train, X_test, y_train, y_test = train_test_split(X, y, test_size=validation_size, random_state=seed)\n",
    "print(f\"Input: {X_train.shape}\")\n",
    "print(X_train[:3, :])\n",
    "print(f\"Output: {y_train.shape}\")\n",
    "print(y_train[:3])"
   ]
  },
  {
   "cell_type": "markdown",
   "id": "c1b5053e",
   "metadata": {},
   "source": [
    "#### model & validation"
   ]
  },
  {
   "cell_type": "code",
   "execution_count": 21,
   "id": "8b38666c",
   "metadata": {},
   "outputs": [
    {
     "name": "stdout",
     "output_type": "stream",
     "text": [
      "> LR 0.787 (0.080)\n",
      "> LDA 0.780 (0.083)\n",
      "> KNN 0.748 (0.058)\n",
      "> CART 0.748 (0.060)\n",
      "> RF 0.780 (0.076)\n",
      "> GBM 0.812 (0.090)\n",
      "> NB 0.767 (0.081)\n",
      "> SVM 0.752 (0.079)\n"
     ]
    }
   ],
   "source": [
    "# build model\n",
    "models = dict()\n",
    "models['LR'] = Pipeline(steps=[('Scaler',StandardScaler()), ('m', LogisticRegression(solver='liblinear'))])\n",
    "models['LDA'] = Pipeline(steps=[('Scaler',StandardScaler()), ('m', LinearDiscriminantAnalysis())])\n",
    "models['KNN'] = Pipeline(steps=[('Scaler',StandardScaler()), ('m', KNeighborsClassifier())])\n",
    "models['CART'] = Pipeline(steps=[('Scaler',StandardScaler()), ('m', DecisionTreeClassifier())])\n",
    "models['RF'] = Pipeline(steps=[('Scaler',StandardScaler()), ('m', RandomForestClassifier())])\n",
    "models['GBM'] = Pipeline(steps=[('Scaler',StandardScaler()), ('m', GradientBoostingClassifier())])\n",
    "models['NB'] = Pipeline(steps=[('Scaler',StandardScaler()), ('m', GaussianNB())])\n",
    "models['SVM'] = Pipeline(steps=[('Scaler',StandardScaler()), ('m', SVC(gamma='auto'))])\n",
    "# train model\n",
    "results, names = list(), list()\n",
    "for name, model in models.items():\n",
    "    cv = KFold(n_splits=10, random_state=seed, shuffle=True)\n",
    "    scores = cross_val_score(model, X_train, y_train, scoring=scoring, cv=cv, n_jobs=-1)\n",
    "    results.append(scores)\n",
    "    names.append(name)\n",
    "    print(f\"> {name} {np.mean(scores):.3f} ({np.std(scores):.3f})\")"
   ]
  },
  {
   "cell_type": "markdown",
   "id": "f631b27b",
   "metadata": {},
   "source": [
    "#### **Phase III**"
   ]
  },
  {
   "cell_type": "markdown",
   "id": "32416248",
   "metadata": {},
   "source": [
    "#### prediction"
   ]
  },
  {
   "cell_type": "code",
   "execution_count": 22,
   "id": "b0771dae",
   "metadata": {},
   "outputs": [
    {
     "name": "stdout",
     "output_type": "stream",
     "text": [
      "> accuracy score: 75.949%\n",
      "> confusion matric: \n",
      "[[45  8]\n",
      " [11 15]]\n",
      "> classification report: \n",
      "              precision    recall  f1-score   support\n",
      "\n",
      "         0.0       0.80      0.85      0.83        53\n",
      "         1.0       0.65      0.58      0.61        26\n",
      "\n",
      "    accuracy                           0.76        79\n",
      "   macro avg       0.73      0.71      0.72        79\n",
      "weighted avg       0.75      0.76      0.76        79\n",
      "\n"
     ]
    }
   ],
   "source": [
    "# 進行訓練與預測\n",
    "scaler = StandardScaler().fit(X_train)\n",
    "X_train = scaler.transform(X_train)\n",
    "X_test = scaler.transform(X_test)\n",
    "model = GradientBoostingClassifier()\n",
    "model.fit(X_train, y_train)\n",
    "y_pred = model.predict(X_test)\n",
    "print(f\"> accuracy score: {100*accuracy_score(y_test, y_pred):.3f}%\")\n",
    "print(f\"> confusion matric: \\n{confusion_matrix(y_test, y_pred)}\")\n",
    "print(f\"> classification report: \\n{classification_report(y_test, y_pred)}\")"
   ]
  },
  {
   "cell_type": "markdown",
   "id": "5eb6fb99",
   "metadata": {},
   "source": [
    "* 小結：\n",
    "    * 針對feature做Gaussian distribution有優化train&validation，但就prediction而言效果有限"
   ]
  },
  {
   "cell_type": "markdown",
   "id": "6bbdb498",
   "metadata": {},
   "source": [
    "### Experiment 3: Data transform by normalization"
   ]
  },
  {
   "cell_type": "markdown",
   "id": "4e7c319a",
   "metadata": {},
   "source": [
    "#### **Phase II**"
   ]
  },
  {
   "cell_type": "code",
   "execution_count": 23,
   "id": "a2c286aa",
   "metadata": {},
   "outputs": [],
   "source": [
    "from sklearn.preprocessing import LabelEncoder, MinMaxScaler"
   ]
  },
  {
   "cell_type": "code",
   "execution_count": 24,
   "id": "366de2c0",
   "metadata": {},
   "outputs": [],
   "source": [
    "seed = 87\n",
    "scoring = \"accuracy\""
   ]
  },
  {
   "cell_type": "code",
   "execution_count": 25,
   "id": "bd5d2085",
   "metadata": {},
   "outputs": [
    {
     "name": "stdout",
     "output_type": "stream",
     "text": [
      "Detect 0 value in these features:\n",
      "> Count of zeros in Column Glucose: 5\n",
      "> Count of zeros in Column BloodPressure: 35\n",
      "> Count of zeros in Column SkinThickness: 227\n",
      "> Count of zeros in Column Insulin: 374\n",
      "> Count of zeros in Column BMI: 11\n",
      "------------------------------\n",
      "> LR 0.775 (0.059)\n",
      "> LDA 0.809 (0.057)\n",
      "> KNN 0.779 (0.067)\n",
      "> CART 0.740 (0.073)\n",
      "> RF 0.782 (0.065)\n",
      "> GBM 0.794 (0.063)\n",
      "> NB 0.763 (0.062)\n",
      "> SVM 0.786 (0.066)\n"
     ]
    }
   ],
   "source": [
    "# data cleaning - missing value treatment\n",
    "feature_check_zero_list = ['Glucose', 'BloodPressure', 'SkinThickness', 'Insulin', 'BMI']\n",
    "detect_zero_value_counts(df, feature_check_zero_list)\n",
    "added_section_separate_line()\n",
    "df_rm0 = df.copy(deep=True)\n",
    "for feature in feature_check_zero_list:\n",
    "    idx_names = df_rm0[df_rm0[feature]==0].index\n",
    "    df_rm0 = df_rm0.drop(idx_names)\n",
    "    df_rm0 = df_rm0.reset_index(drop=True)\n",
    "df_nor = df_rm0.copy(deep=True)\n",
    "data_nor = df_nor.values\n",
    "X, y = data[:, :-1], data[:, -1]\n",
    "X_train, X_test, y_train, y_test = train_test_split(X, y, test_size=0.33, random_state=seed)\n",
    "# define normalization method\n",
    "trans = MinMaxScaler()\n",
    "# build model\n",
    "models = dict()\n",
    "models['LR'] = Pipeline(steps=[('t', trans), ('m', LogisticRegression(solver='liblinear'))])\n",
    "models['LDA'] = Pipeline(steps=[('t', trans), ('m', LinearDiscriminantAnalysis())])\n",
    "models['KNN'] = Pipeline(steps=[('t', trans), ('m', KNeighborsClassifier())])\n",
    "models['CART'] = Pipeline(steps=[('t', trans), ('m', DecisionTreeClassifier())])\n",
    "models['RF'] = Pipeline(steps=[('t', trans), ('m', RandomForestClassifier())])\n",
    "models['GBM'] = Pipeline(steps=[('t', trans), ('m', GradientBoostingClassifier())])\n",
    "models['NB'] = Pipeline(steps=[('t', trans), ('m', GaussianNB())])\n",
    "models['SVM'] = Pipeline(steps=[('t', trans), ('m', SVC(gamma='auto'))])\n",
    "# train model\n",
    "results, names = list(), list()\n",
    "for name, model in models.items():\n",
    "    cv = KFold(n_splits=10, random_state=seed, shuffle=True)\n",
    "    scores = cross_val_score(model, X_train, y_train, scoring=scoring, cv=cv, n_jobs=-1)\n",
    "    results.append(scores)\n",
    "    names.append(name)\n",
    "    print(f\"> {name} {np.mean(scores):.3f} ({np.std(scores):.3f})\")"
   ]
  },
  {
   "cell_type": "code",
   "execution_count": 26,
   "id": "8554c9ba",
   "metadata": {},
   "outputs": [
    {
     "name": "stdout",
     "output_type": "stream",
     "text": [
      "Model (LDA):\n",
      "> accuracy score: 76.923%\n",
      "> confusion matric: \n",
      "[[75 12]\n",
      " [18 25]]\n",
      "> classification report: \n",
      "              precision    recall  f1-score   support\n",
      "\n",
      "         0.0       0.81      0.86      0.83        87\n",
      "         1.0       0.68      0.58      0.63        43\n",
      "\n",
      "    accuracy                           0.77       130\n",
      "   macro avg       0.74      0.72      0.73       130\n",
      "weighted avg       0.76      0.77      0.76       130\n",
      "\n",
      "------------------------------\n",
      "Model (Random Forest):\n",
      "> accuracy score: 76.923%\n",
      "> confusion matric: \n",
      "[[77 10]\n",
      " [20 23]]\n",
      "> classification report: \n",
      "              precision    recall  f1-score   support\n",
      "\n",
      "         0.0       0.79      0.89      0.84        87\n",
      "         1.0       0.70      0.53      0.61        43\n",
      "\n",
      "    accuracy                           0.77       130\n",
      "   macro avg       0.75      0.71      0.72       130\n",
      "weighted avg       0.76      0.77      0.76       130\n",
      "\n"
     ]
    }
   ],
   "source": [
    "# 進行訓練與預測\n",
    "print(\"Model (LDA):\")\n",
    "model = LinearDiscriminantAnalysis()\n",
    "model.fit(X_train, y_train)\n",
    "y_pred = model.predict(X_test)\n",
    "print(f\"> accuracy score: {100*accuracy_score(y_test, y_pred):.3f}%\")\n",
    "print(f\"> confusion matric: \\n{confusion_matrix(y_test, y_pred)}\")\n",
    "print(f\"> classification report: \\n{classification_report(y_test, y_pred)}\")\n",
    "added_section_separate_line()\n",
    "print(\"Model (Random Forest):\")\n",
    "model = RandomForestClassifier()\n",
    "model.fit(X_train, y_train)\n",
    "y_pred = model.predict(X_test)\n",
    "print(f\"> accuracy score: {100*accuracy_score(y_test, y_pred):.3f}%\")\n",
    "print(f\"> confusion matric: \\n{confusion_matrix(y_test, y_pred)}\")\n",
    "print(f\"> classification report: \\n{classification_report(y_test, y_pred)}\")"
   ]
  },
  {
   "cell_type": "markdown",
   "id": "15bebb2e",
   "metadata": {},
   "source": [
    "* 小結：\n",
    "    * 同standardize，normalize有優化train&validation，但就prediction而言效果有限"
   ]
  },
  {
   "cell_type": "markdown",
   "id": "d1a61fbd",
   "metadata": {},
   "source": [
    "### Experiment 4: Outlier treatment"
   ]
  },
  {
   "cell_type": "code",
   "execution_count": 13,
   "id": "257a9291",
   "metadata": {},
   "outputs": [],
   "source": [
    "from sklearn.neighbors import LocalOutlierFactor"
   ]
  },
  {
   "cell_type": "code",
   "execution_count": 14,
   "id": "716f5c0a",
   "metadata": {},
   "outputs": [],
   "source": [
    "seed = 87\n",
    "scoring = \"accuracy\""
   ]
  },
  {
   "cell_type": "markdown",
   "id": "101d61b4",
   "metadata": {},
   "source": [
    "#### **Phase II**"
   ]
  },
  {
   "cell_type": "code",
   "execution_count": 15,
   "id": "2d8b30a5",
   "metadata": {},
   "outputs": [
    {
     "name": "stdout",
     "output_type": "stream",
     "text": [
      "Detect 0 value in these features:\n",
      "> Count of zeros in Column Glucose: 5\n",
      "> Count of zeros in Column BloodPressure: 35\n",
      "> Count of zeros in Column SkinThickness: 227\n",
      "> Count of zeros in Column Insulin: 374\n",
      "> Count of zeros in Column BMI: 11\n",
      "------------------------------\n",
      "Delete outlier:\n",
      "> Origin training dataset shape: (392, 8), (392,)\n",
      "> Updated training dataset shape: (381, 8), (381,)\n",
      "------------------------------\n",
      "> LR 0.773 (0.076)\n",
      "> LDA 0.789 (0.083)\n",
      "> KNN 0.753 (0.072)\n",
      "> CART 0.741 (0.076)\n",
      "> RF 0.781 (0.057)\n",
      "> GBM 0.780 (0.080)\n",
      "> NB 0.757 (0.081)\n",
      "> SVM 0.679 (0.075)\n"
     ]
    }
   ],
   "source": [
    "## remove outliers (before train test split)\n",
    "# data cleaning - missing value treatment\n",
    "feature_check_zero_list = ['Glucose', 'BloodPressure', 'SkinThickness', 'Insulin', 'BMI']\n",
    "detect_zero_value_counts(df, feature_check_zero_list)\n",
    "added_section_separate_line()\n",
    "df_rm0 = df.copy(deep=True)\n",
    "for feature in feature_check_zero_list:\n",
    "    idx_names = df_rm0[df_rm0[feature]==0].index\n",
    "    df_rm0 = df_rm0.drop(idx_names)\n",
    "    df_rm0 = df_rm0.reset_index(drop=True)\n",
    "# remove outlier before train test split\n",
    "df_rm_outlier = df_rm0.copy(deep=True)\n",
    "data_rm_outlier = df_rm_outlier.values\n",
    "X, y = data_rm_outlier[:,:-1], data_rm_outlier[:, -1]\n",
    "print(\"Delete outlier:\")\n",
    "print(f\"> Origin training dataset shape: {X.shape}, {y.shape}\")\n",
    "lof = LocalOutlierFactor()\n",
    "y_hat = lof.fit_predict(X)\n",
    "mask = y_hat != -1\n",
    "X, y = X[mask, :], y[mask]\n",
    "print(f\"> Updated training dataset shape: {X.shape}, {y.shape}\")\n",
    "added_section_separate_line()\n",
    "# train test split\n",
    "X_train, X_test, y_train, y_test = train_test_split(X, y, test_size=0.33, random_state=seed)\n",
    "# build model\n",
    "models = dict()\n",
    "models['LR'] = Pipeline(steps=[('m', LogisticRegression(solver='liblinear'))])\n",
    "models['LDA'] = Pipeline(steps=[('m', LinearDiscriminantAnalysis())])\n",
    "models['KNN'] = Pipeline(steps=[('m', KNeighborsClassifier())])\n",
    "models['CART'] = Pipeline(steps=[('m', DecisionTreeClassifier())])\n",
    "models['RF'] = Pipeline(steps=[('m', RandomForestClassifier())])\n",
    "models['GBM'] = Pipeline(steps=[('m', GradientBoostingClassifier())])\n",
    "models['NB'] = Pipeline(steps=[('m', GaussianNB())])\n",
    "models['SVM'] = Pipeline(steps=[('m', SVC(gamma='auto'))])\n",
    "# train model\n",
    "results, names = list(), list()\n",
    "for name, model in models.items():\n",
    "    cv = KFold(n_splits=10, random_state=seed, shuffle=True)\n",
    "    scores = cross_val_score(model, X_train, y_train, scoring=scoring, cv=cv, n_jobs=-1)\n",
    "    results.append(scores)\n",
    "    names.append(name)\n",
    "    print(f\"> {name} {np.mean(scores):.3f} ({np.std(scores):.3f})\")"
   ]
  },
  {
   "cell_type": "markdown",
   "id": "c38ff5d0",
   "metadata": {},
   "source": [
    "#### **Phase III**"
   ]
  },
  {
   "cell_type": "markdown",
   "id": "7a7e1569",
   "metadata": {},
   "source": [
    "#### prediction"
   ]
  },
  {
   "cell_type": "code",
   "execution_count": 16,
   "id": "7048631f",
   "metadata": {},
   "outputs": [
    {
     "name": "stdout",
     "output_type": "stream",
     "text": [
      "Model (LDA):\n",
      "> accuracy score: 76.190%\n",
      "> confusion matric: \n",
      "[[72 11]\n",
      " [19 24]]\n",
      "> classification report: \n",
      "              precision    recall  f1-score   support\n",
      "\n",
      "         0.0       0.79      0.87      0.83        83\n",
      "         1.0       0.69      0.56      0.62        43\n",
      "\n",
      "    accuracy                           0.76       126\n",
      "   macro avg       0.74      0.71      0.72       126\n",
      "weighted avg       0.76      0.76      0.76       126\n",
      "\n",
      "------------------------------\n",
      "Model (Random Forest):\n",
      "> accuracy score: 80.952%\n",
      "> confusion matric: \n",
      "[[72 11]\n",
      " [13 30]]\n",
      "> classification report: \n",
      "              precision    recall  f1-score   support\n",
      "\n",
      "         0.0       0.85      0.87      0.86        83\n",
      "         1.0       0.73      0.70      0.71        43\n",
      "\n",
      "    accuracy                           0.81       126\n",
      "   macro avg       0.79      0.78      0.79       126\n",
      "weighted avg       0.81      0.81      0.81       126\n",
      "\n"
     ]
    }
   ],
   "source": [
    "# 進行訓練與預測\n",
    "print(\"Model (LDA):\")\n",
    "model = LinearDiscriminantAnalysis()\n",
    "model.fit(X_train, y_train)\n",
    "y_pred = model.predict(X_test)\n",
    "print(f\"> accuracy score: {100*accuracy_score(y_test, y_pred):.3f}%\")\n",
    "print(f\"> confusion matric: \\n{confusion_matrix(y_test, y_pred)}\")\n",
    "print(f\"> classification report: \\n{classification_report(y_test, y_pred)}\")\n",
    "added_section_separate_line()\n",
    "print(\"Model (Random Forest):\")\n",
    "model = RandomForestClassifier()\n",
    "model.fit(X_train, y_train)\n",
    "y_pred = model.predict(X_test)\n",
    "print(f\"> accuracy score: {100*accuracy_score(y_test, y_pred):.3f}%\")\n",
    "print(f\"> confusion matric: \\n{confusion_matrix(y_test, y_pred)}\")\n",
    "print(f\"> classification report: \\n{classification_report(y_test, y_pred)}\")"
   ]
  },
  {
   "cell_type": "markdown",
   "id": "9212e2e5",
   "metadata": {},
   "source": [
    "* 小結：\n",
    "    * 此次使用的是LocalOutlierFactor()來進行remove outlier，此方法稱為區域性異常因子演算法(Local Outlier Factor，LOF)，常用於異常分析\n",
    "        * 說明：LOF通過計算一個數值score來反映一個樣本的異常程度。大致意思是：一個樣本點周圍的樣本點所處位置的平均密度比上該樣本點所在位置的密度。比值越大於1，則該點所在位置的密度越小於其周圍樣本所在位置的密度，這個點就越有可能是異常點\n",
    "    * remove outlier對於模型訓練與預測有顯著提升，尤其是target=1的recall與f1-score，後續可考慮加入此條件"
   ]
  },
  {
   "cell_type": "code",
   "execution_count": 19,
   "id": "d3bbd320",
   "metadata": {},
   "outputs": [],
   "source": [
    "seed = 87\n",
    "scoring = \"accuracy\""
   ]
  },
  {
   "cell_type": "code",
   "execution_count": 20,
   "id": "19003bae",
   "metadata": {},
   "outputs": [
    {
     "name": "stdout",
     "output_type": "stream",
     "text": [
      "Detect 0 value in these features:\n",
      "> Count of zeros in Column Glucose: 5\n",
      "> Count of zeros in Column BloodPressure: 35\n",
      "> Count of zeros in Column SkinThickness: 227\n",
      "> Count of zeros in Column Insulin: 374\n",
      "> Count of zeros in Column BMI: 11\n",
      "------------------------------\n",
      "Delete outlier:\n",
      "> Origin training dataset shape: (262, 8), (262,)\n",
      "> Updated training dataset shape: (248, 8), (248,)\n",
      "------------------------------\n",
      "> LR 0.787 (0.083)\n",
      "> LDA 0.795 (0.095)\n",
      "> KNN 0.730 (0.063)\n",
      "> CART 0.718 (0.068)\n",
      "> RF 0.799 (0.098)\n",
      "> GBM 0.783 (0.093)\n",
      "> NB 0.767 (0.093)\n",
      "> SVM 0.682 (0.078)\n"
     ]
    }
   ],
   "source": [
    "## remove outliers (after train test split)\n",
    "# data cleaning - missing value treatment\n",
    "feature_check_zero_list = ['Glucose', 'BloodPressure', 'SkinThickness', 'Insulin', 'BMI']\n",
    "detect_zero_value_counts(df, feature_check_zero_list)\n",
    "added_section_separate_line()\n",
    "df_rm0 = df.copy(deep=True)\n",
    "for feature in feature_check_zero_list:\n",
    "    idx_names = df_rm0[df_rm0[feature]==0].index\n",
    "    df_rm0 = df_rm0.drop(idx_names)\n",
    "    df_rm0 = df_rm0.reset_index(drop=True)\n",
    "# remove outlier before train test split\n",
    "df_rm_outlier = df_rm0.copy(deep=True)\n",
    "data_rm_outlier = df_rm_outlier.values\n",
    "X, y = data_rm_outlier[:,:-1], data_rm_outlier[:, -1]\n",
    "X_train, X_test, y_train, y_test = train_test_split(X, y, test_size=0.33, random_state=seed)\n",
    "print(\"Delete outlier:\")\n",
    "print(f\"> Origin training dataset shape: {X_train.shape}, {y_train.shape}\")\n",
    "lof = LocalOutlierFactor()\n",
    "y_hat = lof.fit_predict(X_train)\n",
    "mask = y_hat != -1\n",
    "X_train, y_train = X_train[mask, :], y_train[mask]\n",
    "print(f\"> Updated training dataset shape: {X_train.shape}, {y_train.shape}\")\n",
    "added_section_separate_line()\n",
    "# build model\n",
    "models = dict()\n",
    "models['LR'] = Pipeline(steps=[('m', LogisticRegression(solver='liblinear'))])\n",
    "models['LDA'] = Pipeline(steps=[('m', LinearDiscriminantAnalysis())])\n",
    "models['KNN'] = Pipeline(steps=[('m', KNeighborsClassifier())])\n",
    "models['CART'] = Pipeline(steps=[('m', DecisionTreeClassifier())])\n",
    "models['RF'] = Pipeline(steps=[('m', RandomForestClassifier())])\n",
    "models['GBM'] = Pipeline(steps=[('m', GradientBoostingClassifier())])\n",
    "models['NB'] = Pipeline(steps=[('m', GaussianNB())])\n",
    "models['SVM'] = Pipeline(steps=[('m', SVC(gamma='auto'))])\n",
    "# train model\n",
    "results, names = list(), list()\n",
    "for name, model in models.items():\n",
    "    cv = KFold(n_splits=10, random_state=seed, shuffle=True)\n",
    "    scores = cross_val_score(model, X_train, y_train, scoring=scoring, cv=cv, n_jobs=-1)\n",
    "    results.append(scores)\n",
    "    names.append(name)\n",
    "    print(f\"> {name} {np.mean(scores):.3f} ({np.std(scores):.3f})\")"
   ]
  },
  {
   "cell_type": "code",
   "execution_count": 21,
   "id": "ff45db99",
   "metadata": {},
   "outputs": [
    {
     "name": "stdout",
     "output_type": "stream",
     "text": [
      "Model (LDA):\n",
      "> accuracy score: 73.077%\n",
      "> confusion matric: \n",
      "[[74 13]\n",
      " [22 21]]\n",
      "> classification report: \n",
      "              precision    recall  f1-score   support\n",
      "\n",
      "         0.0       0.77      0.85      0.81        87\n",
      "         1.0       0.62      0.49      0.55        43\n",
      "\n",
      "    accuracy                           0.73       130\n",
      "   macro avg       0.69      0.67      0.68       130\n",
      "weighted avg       0.72      0.73      0.72       130\n",
      "\n",
      "------------------------------\n",
      "Model (Random Forest):\n",
      "> accuracy score: 76.154%\n",
      "> confusion matric: \n",
      "[[75 12]\n",
      " [19 24]]\n",
      "> classification report: \n",
      "              precision    recall  f1-score   support\n",
      "\n",
      "         0.0       0.80      0.86      0.83        87\n",
      "         1.0       0.67      0.56      0.61        43\n",
      "\n",
      "    accuracy                           0.76       130\n",
      "   macro avg       0.73      0.71      0.72       130\n",
      "weighted avg       0.75      0.76      0.76       130\n",
      "\n"
     ]
    }
   ],
   "source": [
    "# 進行訓練與預測\n",
    "print(\"Model (LDA):\")\n",
    "model = LinearDiscriminantAnalysis()\n",
    "model.fit(X_train, y_train)\n",
    "y_pred = model.predict(X_test)\n",
    "print(f\"> accuracy score: {100*accuracy_score(y_test, y_pred):.3f}%\")\n",
    "print(f\"> confusion matric: \\n{confusion_matrix(y_test, y_pred)}\")\n",
    "print(f\"> classification report: \\n{classification_report(y_test, y_pred)}\")\n",
    "added_section_separate_line()\n",
    "print(\"Model (Random Forest):\")\n",
    "model = RandomForestClassifier()\n",
    "model.fit(X_train, y_train)\n",
    "y_pred = model.predict(X_test)\n",
    "print(f\"> accuracy score: {100*accuracy_score(y_test, y_pred):.3f}%\")\n",
    "print(f\"> confusion matric: \\n{confusion_matrix(y_test, y_pred)}\")\n",
    "print(f\"> classification report: \\n{classification_report(y_test, y_pred)}\")"
   ]
  },
  {
   "cell_type": "markdown",
   "id": "678942eb",
   "metadata": {},
   "source": [
    "* 小結：\n",
    "    * 另外測試remove outlier的時機比較，比較在train test split之前，在train test split之後做remove outlier對於模型訓練會有較好的效果，但對於預測來說則表現較差\n",
    "    * 懷疑是僅針對train set做remove outlier會更容易使模型趨近於overfitting；另一個角度來思考則是沒有對test set做remove outlier的動作，相對於還存在outlier的dataset來說，已經調教好的模型可能不會有較好的表現(因為此情境較接近於實務情境)，所以需考慮實際應用中remove outlier是否有必要?"
   ]
  },
  {
   "cell_type": "markdown",
   "id": "33408758",
   "metadata": {},
   "source": [
    "### Experiment 5: Feature selection"
   ]
  },
  {
   "cell_type": "markdown",
   "id": "3f570cac",
   "metadata": {},
   "source": [
    "#### **Phase II**"
   ]
  },
  {
   "cell_type": "code",
   "execution_count": 3,
   "id": "ffc7bfdf",
   "metadata": {},
   "outputs": [],
   "source": [
    "from sklearn.feature_selection import SelectKBest, f_classif, mutual_info_classif\n",
    "from my_template import select_features"
   ]
  },
  {
   "cell_type": "code",
   "execution_count": 4,
   "id": "ada2d5fc",
   "metadata": {},
   "outputs": [],
   "source": [
    "seed = 87\n",
    "scoring = 'accuracy'"
   ]
  },
  {
   "cell_type": "code",
   "execution_count": 24,
   "id": "3b11b272",
   "metadata": {},
   "outputs": [
    {
     "name": "stdout",
     "output_type": "stream",
     "text": [
      "Detect 0 value in these features:\n",
      "> Count of zeros in Column Glucose: 5\n",
      "> Count of zeros in Column BloodPressure: 35\n",
      "> Count of zeros in Column SkinThickness: 227\n",
      "> Count of zeros in Column Insulin: 374\n",
      "> Count of zeros in Column BMI: 11\n",
      "------------------------------\n",
      "Feature 0: 23.17717733023113\n",
      "Feature 1: 100.23235756525887\n",
      "Feature 2: 12.590841197274417\n",
      "Feature 3: 23.036392395209123\n",
      "Feature 4: 21.583635421113826\n",
      "Feature 5: 19.890502696250593\n",
      "Feature 6: 15.69024675045845\n",
      "Feature 7: 39.26801574753291\n",
      "------------------------------\n",
      "Feature importance:\n",
      "> 19.44, Glucose\n",
      "> 8.82, Age\n",
      "> 5.60, Pregnancies\n",
      "> 5.57, SkinThickness\n",
      "> 5.27, Insulin\n",
      "> 4.91, BMI\n",
      "> 4.02, DiabetesPedigreeFunction\n",
      "> 3.34, BloodPressure\n"
     ]
    }
   ],
   "source": [
    "## anova f-statistic - selectbset + f_classif\n",
    "# data cleaning - missing value treatment\n",
    "feature_check_zero_list = ['Glucose', 'BloodPressure', 'SkinThickness', 'Insulin', 'BMI']\n",
    "detect_zero_value_counts(df, feature_check_zero_list)\n",
    "added_section_separate_line()\n",
    "df_rm0 = df.copy(deep=True)\n",
    "for feature in feature_check_zero_list:\n",
    "    idx_names = df_rm0[df_rm0[feature]==0].index\n",
    "    df_rm0 = df_rm0.drop(idx_names)\n",
    "    df_rm0 = df_rm0.reset_index(drop=True)\n",
    "df_fs = df_rm0.copy(deep=True)\n",
    "data_fs = df_fs.values\n",
    "X, y = data_fs[:, :-1], data_fs[:, -1]\n",
    "X_train, X_test, y_train, y_test = train_test_split(X, y, test_size=0.33, random_state=seed)\n",
    "# feature selection\n",
    "X_train_fs, X_test_fs, fs = select_features(X_train, y_train, X_test, k_num='all')\n",
    "# what are scores for the features\n",
    "for i in range(len(fs.scores_)):\n",
    "    print(f\"Feature {i}: {fs.scores_[i]}\")\n",
    "added_section_separate_line()\n",
    "feature_scores = -np.log10(fs.pvalues_)\n",
    "indices = np.argsort(feature_scores)[::-1]\n",
    "print(\"Feature importance:\")\n",
    "for f in range(len(feature_scores)):\n",
    "    print(f\"> {feature_scores[indices[f]]:.2f}, {df_fs.columns[:-1][indices[f]]}\")"
   ]
  },
  {
   "cell_type": "code",
   "execution_count": 44,
   "id": "b0a4106a",
   "metadata": {},
   "outputs": [
    {
     "name": "stdout",
     "output_type": "stream",
     "text": [
      "   Glucose  Age  Outcome\n",
      "0       89   21        0\n",
      "1      137   33        1\n",
      "2       78   26        1\n",
      "3      197   53        1\n",
      "4      189   59        1\n",
      "------------------------------\n",
      "> LR 0.790 (0.045)\n",
      "> LDA 0.798 (0.052)\n",
      "> KNN 0.756 (0.065)\n",
      "> CART 0.706 (0.053)\n",
      "> RF 0.736 (0.053)\n",
      "> GBM 0.740 (0.050)\n",
      "> NB 0.798 (0.052)\n",
      "> SVM 0.665 (0.113)\n"
     ]
    }
   ],
   "source": [
    "## choose features\n",
    "df_fs = df_rm0.copy(deep=True)\n",
    "#choose_features = ['Pregnancies', 'Glucose', 'SkinThickness', 'Insulin', 'Age', 'Outcome']\n",
    "choose_features = ['Glucose', 'Age', 'Outcome']\n",
    "df_fs = df_fs[choose_features]\n",
    "print(df_fs.head())\n",
    "added_section_separate_line()\n",
    "data_fs = df_fs.values\n",
    "X, y = data_fs[:, :-1], data_fs[:, -1]\n",
    "X_train, X_test, y_train, y_test = train_test_split(X, y, test_size=0.33, random_state=seed)\n",
    "# build model\n",
    "models = dict()\n",
    "models['LR'] = Pipeline(steps=[('m', LogisticRegression(solver='liblinear'))])\n",
    "models['LDA'] = Pipeline(steps=[('m', LinearDiscriminantAnalysis())])\n",
    "models['KNN'] = Pipeline(steps=[('m', KNeighborsClassifier())])\n",
    "models['CART'] = Pipeline(steps=[('m', DecisionTreeClassifier())])\n",
    "models['RF'] = Pipeline(steps=[('m', RandomForestClassifier())])\n",
    "models['GBM'] = Pipeline(steps=[('m', GradientBoostingClassifier())])\n",
    "models['NB'] = Pipeline(steps=[('m', GaussianNB())])\n",
    "models['SVM'] = Pipeline(steps=[('m', SVC(gamma='auto'))])\n",
    "# train model\n",
    "results, names = list(), list()\n",
    "for name, model in models.items():\n",
    "    cv = KFold(n_splits=10, random_state=seed, shuffle=True)\n",
    "    scores = cross_val_score(model, X_train, y_train, scoring=scoring, cv=cv, n_jobs=-1)\n",
    "    results.append(scores)\n",
    "    names.append(name)\n",
    "    print(f\"> {name} {np.mean(scores):.3f} ({np.std(scores):.3f})\")"
   ]
  },
  {
   "cell_type": "code",
   "execution_count": 45,
   "id": "18d220d6",
   "metadata": {},
   "outputs": [
    {
     "name": "stdout",
     "output_type": "stream",
     "text": [
      "Model (RandomForest):\n",
      "> accuracy score: 76.923%\n",
      "> confusion matric: \n",
      "[[73 14]\n",
      " [16 27]]\n",
      "> classification report: \n",
      "              precision    recall  f1-score   support\n",
      "\n",
      "           0       0.82      0.84      0.83        87\n",
      "           1       0.66      0.63      0.64        43\n",
      "\n",
      "    accuracy                           0.77       130\n",
      "   macro avg       0.74      0.73      0.74       130\n",
      "weighted avg       0.77      0.77      0.77       130\n",
      "\n",
      "------------------------------\n",
      "Model (GBM):\n",
      "> accuracy score: 77.692%\n",
      "> confusion matric: \n",
      "[[76 11]\n",
      " [18 25]]\n",
      "> classification report: \n",
      "              precision    recall  f1-score   support\n",
      "\n",
      "           0       0.81      0.87      0.84        87\n",
      "           1       0.69      0.58      0.63        43\n",
      "\n",
      "    accuracy                           0.78       130\n",
      "   macro avg       0.75      0.73      0.74       130\n",
      "weighted avg       0.77      0.78      0.77       130\n",
      "\n"
     ]
    }
   ],
   "source": [
    "# 進行訓練與預測\n",
    "print(\"Model (RandomForest):\")\n",
    "model = RandomForestClassifier()\n",
    "model.fit(X_train, y_train)\n",
    "y_pred = model.predict(X_test)\n",
    "print(f\"> accuracy score: {100*accuracy_score(y_test, y_pred):.3f}%\")\n",
    "print(f\"> confusion matric: \\n{confusion_matrix(y_test, y_pred)}\")\n",
    "print(f\"> classification report: \\n{classification_report(y_test, y_pred)}\")\n",
    "added_section_separate_line()\n",
    "print(\"Model (GBM):\")\n",
    "model = GradientBoostingClassifier()\n",
    "model.fit(X_train, y_train)\n",
    "y_pred = model.predict(X_test)\n",
    "print(f\"> accuracy score: {100*accuracy_score(y_test, y_pred):.3f}%\")\n",
    "print(f\"> confusion matric: \\n{confusion_matrix(y_test, y_pred)}\")\n",
    "print(f\"> classification report: \\n{classification_report(y_test, y_pred)}\")"
   ]
  },
  {
   "cell_type": "markdown",
   "id": "32ab9b5d",
   "metadata": {},
   "source": [
    "* 小結：\n",
    "    * 此次訓練與預測效果並無顯著提升，可能在於feature selection雖然有方法幫助選擇，但對於個別特徵重要度來看，是有其選擇困難度的，包括數量與交互作用，或許需針對個別特徵的專業涵意與其之間的mutual information做進一部探討"
   ]
  },
  {
   "cell_type": "markdown",
   "id": "4a31b1ce",
   "metadata": {},
   "source": [
    "### Experiment 6: Tuning the hyperparameters"
   ]
  },
  {
   "cell_type": "code",
   "execution_count": 3,
   "id": "2f3fb0f8",
   "metadata": {},
   "outputs": [],
   "source": [
    "from sklearn.model_selection import GridSearchCV"
   ]
  },
  {
   "cell_type": "code",
   "execution_count": 4,
   "id": "17a74122",
   "metadata": {},
   "outputs": [],
   "source": [
    "seed = 87\n",
    "scoring = \"accuracy\""
   ]
  },
  {
   "cell_type": "code",
   "execution_count": 5,
   "id": "8be554c6",
   "metadata": {},
   "outputs": [
    {
     "name": "stdout",
     "output_type": "stream",
     "text": [
      "Detect 0 value in these features:\n",
      "> Count of zeros in Column Glucose: 5\n",
      "> Count of zeros in Column BloodPressure: 35\n",
      "> Count of zeros in Column SkinThickness: 227\n",
      "> Count of zeros in Column Insulin: 374\n",
      "> Count of zeros in Column BMI: 11\n"
     ]
    }
   ],
   "source": [
    "# data cleaning - missing value treatment\n",
    "feature_check_zero_list = ['Glucose', 'BloodPressure', 'SkinThickness', 'Insulin', 'BMI']\n",
    "detect_zero_value_counts(df, feature_check_zero_list)\n",
    "df_rm0 = df.copy(deep=True)\n",
    "for feature in feature_check_zero_list:\n",
    "    idx_names = df_rm0[df_rm0[feature]==0].index\n",
    "    df_rm0 = df_rm0.drop(idx_names)\n",
    "    df_rm0 = df_rm0.reset_index(drop=True)\n",
    "df_h = df_rm0.copy(deep=True)"
   ]
  },
  {
   "cell_type": "code",
   "execution_count": 6,
   "id": "b2c184a8",
   "metadata": {},
   "outputs": [
    {
     "name": "stdout",
     "output_type": "stream",
     "text": [
      "Input: (262, 8)\n",
      "[[3.000e+00 1.730e+02 8.200e+01 4.800e+01 4.650e+02 3.840e+01 2.137e+00\n",
      "  2.500e+01]\n",
      " [1.200e+01 1.510e+02 7.000e+01 4.000e+01 2.710e+02 4.180e+01 7.420e-01\n",
      "  3.800e+01]\n",
      " [6.000e+00 1.030e+02 7.200e+01 3.200e+01 1.900e+02 3.770e+01 3.240e-01\n",
      "  5.500e+01]\n",
      " [1.000e+00 1.120e+02 8.000e+01 4.500e+01 1.320e+02 3.480e+01 2.170e-01\n",
      "  2.400e+01]\n",
      " [1.000e+00 8.600e+01 6.600e+01 5.200e+01 6.500e+01 4.130e+01 9.170e-01\n",
      "  2.900e+01]]\n",
      "Output: (262,)\n",
      "[1. 1. 0. 0. 0.]\n"
     ]
    }
   ],
   "source": [
    "data_h = df_h.values\n",
    "X, y = data_h[:, :-1], data_h[:, -1]\n",
    "validation_size = 0.33\n",
    "X_train, X_test, y_train, y_test = train_test_split(X, y, test_size=validation_size, random_state=seed)\n",
    "print(f\"Input: {X_train.shape}\")\n",
    "print(X_train[:5, :])\n",
    "print(f\"Output: {y_train.shape}\")\n",
    "print(y_train[:5])"
   ]
  },
  {
   "cell_type": "code",
   "execution_count": 71,
   "id": "d84effb4",
   "metadata": {},
   "outputs": [
    {
     "name": "stdout",
     "output_type": "stream",
     "text": [
      "Accuracy(origin): 0.764 (0.066)\n",
      "------------------------------\n",
      "Tuned hpyerparameters :(best parameters) {'C': 10, 'penalty': 'l1'}\n",
      "Accuracy : 0.794\n"
     ]
    }
   ],
   "source": [
    "# Logistic regression\n",
    "model = Pipeline(steps=[('m', LogisticRegression(solver='liblinear'))])\n",
    "cv = KFold(n_splits=10, random_state=seed, shuffle=True)\n",
    "scores = cross_val_score(model, X_train, y_train, scoring=scoring, cv=cv, n_jobs=-1)\n",
    "print(f\"Accuracy(origin): {np.mean(scores):.3f} ({np.std(scores):.3f})\")\n",
    "added_section_separate_line()\n",
    "# tuning parameter\n",
    "params = [{'penalty': ['l1', 'l2'], 'C': [0.01, 0.1, 1, 10]}]\n",
    "model = LogisticRegression(solver='liblinear')\n",
    "cv = KFold(n_splits=10, random_state=seed, shuffle=True)\n",
    "grid = GridSearchCV(estimator=model, param_grid=params, scoring=scoring, cv=cv)\n",
    "grid.fit(X_train, y_train)\n",
    "print(f\"Tuned hpyerparameters :(best parameters) {grid.best_params_}\")\n",
    "print(f\"Accuracy : {grid.best_score_:.3f}\")"
   ]
  },
  {
   "cell_type": "code",
   "execution_count": 73,
   "id": "7f2040ff",
   "metadata": {},
   "outputs": [
    {
     "name": "stdout",
     "output_type": "stream",
     "text": [
      "> accuracy score(origin): 0.746\n",
      "------------------------------\n",
      "> accuracy score: 0.754\n",
      "> confusion matric: \n",
      "[[74 13]\n",
      " [19 24]]\n",
      "> classification report: \n",
      "              precision    recall  f1-score   support\n",
      "\n",
      "         0.0       0.80      0.85      0.82        87\n",
      "         1.0       0.65      0.56      0.60        43\n",
      "\n",
      "    accuracy                           0.75       130\n",
      "   macro avg       0.72      0.70      0.71       130\n",
      "weighted avg       0.75      0.75      0.75       130\n",
      "\n"
     ]
    }
   ],
   "source": [
    "# prediction\n",
    "model = LogisticRegression(solver='liblinear')\n",
    "model.fit(X_train, y_train)\n",
    "y_pred = model.predict(X_test)\n",
    "print(f\"> accuracy score(origin): {accuracy_score(y_test, y_pred):.3f}\")\n",
    "added_section_separate_line()\n",
    "model = LogisticRegression(solver='liblinear', penalty='l1', C=10)\n",
    "model.fit(X_train, y_train)\n",
    "y_pred = model.predict(X_test)\n",
    "print(f\"> accuracy score: {accuracy_score(y_test, y_pred):.3f}\")\n",
    "print(f\"> confusion matric: \\n{confusion_matrix(y_test, y_pred)}\")\n",
    "print(f\"> classification report: \\n{classification_report(y_test, y_pred)}\")"
   ]
  },
  {
   "cell_type": "markdown",
   "id": "407b4786",
   "metadata": {},
   "source": [
    "* 小結：\n",
    "    * LR比較tuning前後，accuracy微幅提升(74.6%->75.4%)\n",
    "    * 比較僅取Glucose的LR baseline model則無優化成效(75.4%->75.4%)\n",
    "    * 以同樣Logistic Regression比較僅取Glucose的baseline model與取全部features的model，僅取Glucose的baseline model得到的accuracy反而較好"
   ]
  },
  {
   "cell_type": "code",
   "execution_count": 33,
   "id": "b889ac98",
   "metadata": {},
   "outputs": [
    {
     "name": "stdout",
     "output_type": "stream",
     "text": [
      "Accuracy(origin): 0.809 (0.057)\n",
      "------------------------------\n",
      "Tuned hpyerparameters :(best parameters) {'solver': 'svd'}\n",
      "Accuracy : 0.809\n"
     ]
    }
   ],
   "source": [
    "# LDA\n",
    "model = Pipeline(steps=[('m', LinearDiscriminantAnalysis())])\n",
    "cv = KFold(n_splits=10, random_state=seed, shuffle=True)\n",
    "scores = cross_val_score(model, X_train, y_train, scoring=scoring, cv=cv, n_jobs=-1)\n",
    "print(f\"Accuracy(origin): {np.mean(scores):.3f} ({np.std(scores):.3f})\")\n",
    "added_section_separate_line()\n",
    "params = [{'solver': ['svd', 'lsqr', 'eigen']}]\n",
    "model = LinearDiscriminantAnalysis()\n",
    "cv = KFold(n_splits=10, random_state=seed, shuffle=True)\n",
    "grid = GridSearchCV(estimator=model, param_grid=params, scoring=scoring, cv=cv)\n",
    "grid.fit(X_train, y_train)\n",
    "print(f\"Tuned hpyerparameters :(best parameters) {grid.best_params_}\")\n",
    "print(f\"Accuracy : {grid.best_score_:.3f}\")"
   ]
  },
  {
   "cell_type": "code",
   "execution_count": 34,
   "id": "4df4aa69",
   "metadata": {},
   "outputs": [
    {
     "name": "stdout",
     "output_type": "stream",
     "text": [
      "> accuracy score(origin): 0.769\n",
      "------------------------------\n",
      "> accuracy score: 0.769\n",
      "> confusion matric: \n",
      "[[75 12]\n",
      " [18 25]]\n",
      "> classification report: \n",
      "              precision    recall  f1-score   support\n",
      "\n",
      "         0.0       0.81      0.86      0.83        87\n",
      "         1.0       0.68      0.58      0.63        43\n",
      "\n",
      "    accuracy                           0.77       130\n",
      "   macro avg       0.74      0.72      0.73       130\n",
      "weighted avg       0.76      0.77      0.76       130\n",
      "\n"
     ]
    }
   ],
   "source": [
    "# prediction\n",
    "model = LinearDiscriminantAnalysis()\n",
    "model.fit(X_train, y_train)\n",
    "y_pred = model.predict(X_test)\n",
    "print(f\"> accuracy score(origin): {accuracy_score(y_test, y_pred):.3f}\")\n",
    "added_section_separate_line()\n",
    "model = LinearDiscriminantAnalysis(solver='lsqr')\n",
    "model.fit(X_train, y_train)\n",
    "y_pred = model.predict(X_test)\n",
    "print(f\"> accuracy score: {accuracy_score(y_test, y_pred):.3f}\")\n",
    "print(f\"> confusion matric: \\n{confusion_matrix(y_test, y_pred)}\")\n",
    "print(f\"> classification report: \\n{classification_report(y_test, y_pred)}\")"
   ]
  },
  {
   "cell_type": "markdown",
   "id": "edcb8c3b",
   "metadata": {},
   "source": [
    "* 小結：\n",
    "    * LDA比較tuning前後，accuracy無優化效果(76.9%->76.9%)\n",
    "    * 比較LR baseline model有些微提升(75.4%->76.9%)"
   ]
  },
  {
   "cell_type": "code",
   "execution_count": 35,
   "id": "de56a758",
   "metadata": {},
   "outputs": [
    {
     "name": "stdout",
     "output_type": "stream",
     "text": [
      "Accuracy(origin): 0.725 (0.066)\n",
      "------------------------------\n",
      "Tuned hpyerparameters :(best parameters) {'n_neighbors': 8}\n",
      "Accuracy : 0.763\n"
     ]
    }
   ],
   "source": [
    "# KNN\n",
    "model = Pipeline(steps=[('m', KNeighborsClassifier())])\n",
    "cv = KFold(n_splits=10, random_state=seed, shuffle=True)\n",
    "scores = cross_val_score(model, X_train, y_train, scoring=scoring, cv=cv, n_jobs=-1)\n",
    "print(f\"Accuracy(origin): {np.mean(scores):.3f} ({np.std(scores):.3f})\")\n",
    "added_section_separate_line()\n",
    "params = [{'n_neighbors': [2, 4, 6, 8, 10, 15, 20, 50, 100]}]\n",
    "model = KNeighborsClassifier()\n",
    "cv = KFold(n_splits=10, random_state=seed, shuffle=True)\n",
    "grid = GridSearchCV(estimator=model, param_grid=params, scoring=scoring, cv=cv)\n",
    "grid.fit(X_train, y_train)\n",
    "print(f\"Tuned hpyerparameters :(best parameters) {grid.best_params_}\")\n",
    "print(f\"Accuracy : {grid.best_score_:.3f}\")"
   ]
  },
  {
   "cell_type": "code",
   "execution_count": 37,
   "id": "d4d0787b",
   "metadata": {},
   "outputs": [
    {
     "name": "stdout",
     "output_type": "stream",
     "text": [
      "> accuracy score(origin): 0.731\n",
      "------------------------------\n",
      "> accuracy score: 0.715\n",
      "> confusion matric: \n",
      "[[77 10]\n",
      " [27 16]]\n",
      "> classification report: \n",
      "              precision    recall  f1-score   support\n",
      "\n",
      "         0.0       0.74      0.89      0.81        87\n",
      "         1.0       0.62      0.37      0.46        43\n",
      "\n",
      "    accuracy                           0.72       130\n",
      "   macro avg       0.68      0.63      0.64       130\n",
      "weighted avg       0.70      0.72      0.69       130\n",
      "\n"
     ]
    }
   ],
   "source": [
    "# prediction\n",
    "model = KNeighborsClassifier()\n",
    "model.fit(X_train, y_train)\n",
    "y_pred = model.predict(X_test)\n",
    "print(f\"> accuracy score(origin): {accuracy_score(y_test, y_pred):.3f}\")\n",
    "added_section_separate_line()\n",
    "model = KNeighborsClassifier(n_neighbors=8)\n",
    "model.fit(X_train, y_train)\n",
    "y_pred = model.predict(X_test)\n",
    "print(f\"> accuracy score: {accuracy_score(y_test, y_pred):.3f}\")\n",
    "print(f\"> confusion matric: \\n{confusion_matrix(y_test, y_pred)}\")\n",
    "print(f\"> classification report: \\n{classification_report(y_test, y_pred)}\")"
   ]
  },
  {
   "cell_type": "markdown",
   "id": "edf6b5bd",
   "metadata": {},
   "source": [
    "* 小結：\n",
    "    * KNeighborsClassifier比較tuning前後，accuracy無優化效果(73.1% -> 71.5%)\n",
    "    * 比較LR baseline model，accuracy無優化效果(75.4% -> 71.5%)"
   ]
  },
  {
   "cell_type": "code",
   "execution_count": 38,
   "id": "97386b76",
   "metadata": {},
   "outputs": [
    {
     "name": "stdout",
     "output_type": "stream",
     "text": [
      "Accuracy(origin): 0.740 (0.062)\n",
      "------------------------------\n",
      "Tuned hpyerparameters :(best parameters) {'max_depth': 2}\n",
      "Accuracy : 0.767\n"
     ]
    }
   ],
   "source": [
    "# Decision Tree\n",
    "model = Pipeline(steps=[('m', DecisionTreeClassifier())])\n",
    "cv = KFold(n_splits=10, random_state=seed, shuffle=True)\n",
    "scores = cross_val_score(model, X_train, y_train, scoring=scoring, cv=cv, n_jobs=-1)\n",
    "print(f\"Accuracy(origin): {np.mean(scores):.3f} ({np.std(scores):.3f})\")\n",
    "added_section_separate_line()\n",
    "params = [{'max_depth': [2, 4, 6, 8, 10]}]\n",
    "model = DecisionTreeClassifier()\n",
    "cv = KFold(n_splits=10, random_state=seed, shuffle=True)\n",
    "grid = GridSearchCV(estimator=model, param_grid=params, scoring=scoring, cv=cv)\n",
    "grid.fit(X_train, y_train)\n",
    "print(f\"Tuned hpyerparameters :(best parameters) {grid.best_params_}\")\n",
    "print(f\"Accuracy : {grid.best_score_:.3f}\")"
   ]
  },
  {
   "cell_type": "code",
   "execution_count": 39,
   "id": "ac2f41ba",
   "metadata": {},
   "outputs": [
    {
     "name": "stdout",
     "output_type": "stream",
     "text": [
      "> accuracy score(origin): 0.677\n",
      "------------------------------\n",
      "> accuracy score: 0.731\n",
      "> confusion matric: \n",
      "[[85  2]\n",
      " [33 10]]\n",
      "> classification report: \n",
      "              precision    recall  f1-score   support\n",
      "\n",
      "         0.0       0.72      0.98      0.83        87\n",
      "         1.0       0.83      0.23      0.36        43\n",
      "\n",
      "    accuracy                           0.73       130\n",
      "   macro avg       0.78      0.60      0.60       130\n",
      "weighted avg       0.76      0.73      0.68       130\n",
      "\n"
     ]
    }
   ],
   "source": [
    "# prediction\n",
    "model = DecisionTreeClassifier()\n",
    "model.fit(X_train, y_train)\n",
    "y_pred = model.predict(X_test)\n",
    "print(f\"> accuracy score(origin): {accuracy_score(y_test, y_pred):.3f}\")\n",
    "added_section_separate_line()\n",
    "model = DecisionTreeClassifier(max_depth=2)\n",
    "model.fit(X_train, y_train)\n",
    "y_pred = model.predict(X_test)\n",
    "print(f\"> accuracy score: {accuracy_score(y_test, y_pred):.3f}\")\n",
    "print(f\"> confusion matric: \\n{confusion_matrix(y_test, y_pred)}\")\n",
    "print(f\"> classification report: \\n{classification_report(y_test, y_pred)}\")"
   ]
  },
  {
   "cell_type": "markdown",
   "id": "73c2ea02",
   "metadata": {},
   "source": [
    "* 小結：\n",
    "    * DecisionTreeClassifier比較tuning前後，accuracy有提升效果(67.7% -> 73.1%)\n",
    "    * 比較LR baseline model則無優化效果(75.4% -> 73.1%)"
   ]
  },
  {
   "cell_type": "code",
   "execution_count": 40,
   "id": "9cb7909f",
   "metadata": {},
   "outputs": [
    {
     "name": "stdout",
     "output_type": "stream",
     "text": [
      "Accuracy(origin): 0.794 (0.082)\n",
      "------------------------------\n",
      "Tuned hpyerparameters :(best parameters) {'max_depth': 6, 'max_features': 4, 'min_samples_leaf': 25, 'n_estimators': 100}\n",
      "Accuracy : 0.786\n"
     ]
    }
   ],
   "source": [
    "# Random Forest\n",
    "model = Pipeline(steps=[('m', RandomForestClassifier())])\n",
    "cv = KFold(n_splits=10, random_state=seed, shuffle=True)\n",
    "scores = cross_val_score(model, X_train, y_train, scoring=scoring, cv=cv, n_jobs=-1)\n",
    "print(f\"Accuracy(origin): {np.mean(scores):.3f} ({np.std(scores):.3f})\")\n",
    "added_section_separate_line()\n",
    "params = [{'max_depth': [2, 4, 6], 'n_estimators': [100, 250, 300], 'max_features': [4, 5, 6, 'sqrt'], 'min_samples_leaf': [25, 30]}]\n",
    "model = RandomForestClassifier()\n",
    "cv = KFold(n_splits=10, random_state=seed, shuffle=True)\n",
    "grid = GridSearchCV(estimator=model, param_grid=params, scoring=scoring, cv=cv)\n",
    "grid.fit(X_train, y_train)\n",
    "print(f\"Tuned hpyerparameters :(best parameters) {grid.best_params_}\")\n",
    "print(f\"Accuracy : {grid.best_score_:.3f}\")"
   ]
  },
  {
   "cell_type": "code",
   "execution_count": 41,
   "id": "a00fc32e",
   "metadata": {},
   "outputs": [
    {
     "name": "stdout",
     "output_type": "stream",
     "text": [
      "> accuracy score(origin): 0.762\n",
      "------------------------------\n",
      "> accuracy score: 0.785\n",
      "> confusion matric: \n",
      "[[81  6]\n",
      " [22 21]]\n",
      "> classification report: \n",
      "              precision    recall  f1-score   support\n",
      "\n",
      "         0.0       0.79      0.93      0.85        87\n",
      "         1.0       0.78      0.49      0.60        43\n",
      "\n",
      "    accuracy                           0.78       130\n",
      "   macro avg       0.78      0.71      0.73       130\n",
      "weighted avg       0.78      0.78      0.77       130\n",
      "\n"
     ]
    }
   ],
   "source": [
    "# prediction\n",
    "model = RandomForestClassifier()\n",
    "model.fit(X_train, y_train)\n",
    "y_pred = model.predict(X_test)\n",
    "print(f\"> accuracy score(origin): {accuracy_score(y_test, y_pred):.3f}\")\n",
    "added_section_separate_line()\n",
    "model = RandomForestClassifier(max_depth=6, max_features=4, min_samples_leaf=25, n_estimators=100)\n",
    "model.fit(X_train, y_train)\n",
    "y_pred = model.predict(X_test)\n",
    "print(f\"> accuracy score: {accuracy_score(y_test, y_pred):.3f}\")\n",
    "print(f\"> confusion matric: \\n{confusion_matrix(y_test, y_pred)}\")\n",
    "print(f\"> classification report: \\n{classification_report(y_test, y_pred)}\")"
   ]
  },
  {
   "cell_type": "markdown",
   "id": "c395009a",
   "metadata": {},
   "source": [
    "* 小結：\n",
    "    * 通過tuning後取得參數：樹最大深度=6, 單決策數最大特徵數量=4, 最小樣本葉片大小=25, 最佳子樹數量=100\n",
    "    * RandomForestClassifier比較tuning前後，accuracy有提升效果(76.2%->78.5%)\n",
    "    * 比較LR baseline model亦有提升效果(75.4%->78.5%)"
   ]
  },
  {
   "cell_type": "code",
   "execution_count": 42,
   "id": "b701555e",
   "metadata": {},
   "outputs": [
    {
     "name": "stdout",
     "output_type": "stream",
     "text": [
      "Accuracy(origin): 0.794 (0.063)\n",
      "------------------------------\n",
      "Tuned hpyerparameters :(best parameters) {'learning_rate': 0.2, 'max_depth': 3, 'n_estimators': 50}\n",
      "Accuracy : 0.805\n"
     ]
    }
   ],
   "source": [
    "# Gradient Boosting\n",
    "model = Pipeline(steps=[('m', GradientBoostingClassifier())])\n",
    "cv = KFold(n_splits=10, random_state=seed, shuffle=True)\n",
    "scores = cross_val_score(model, X_train, y_train, scoring=scoring, cv=cv, n_jobs=-1)\n",
    "print(f\"Accuracy(origin): {np.mean(scores):.3f} ({np.std(scores):.3f})\")\n",
    "added_section_separate_line()\n",
    "params = [{'learning_rate': [0.01, 0.1, 0.2], 'n_estimators': [50, 100, 200], 'max_depth': [3, 5, 10, 20]}]\n",
    "model = GradientBoostingClassifier()\n",
    "cv = KFold(n_splits=10, random_state=seed, shuffle=True)\n",
    "grid = GridSearchCV(estimator=model, param_grid=params, scoring=scoring, cv=cv)\n",
    "grid.fit(X_train, y_train)\n",
    "print(f\"Tuned hpyerparameters :(best parameters) {grid.best_params_}\")\n",
    "print(f\"Accuracy : {grid.best_score_:.3f}\")"
   ]
  },
  {
   "cell_type": "code",
   "execution_count": 43,
   "id": "25828d73",
   "metadata": {},
   "outputs": [
    {
     "name": "stdout",
     "output_type": "stream",
     "text": [
      "> accuracy score(origin): 0.731\n",
      "------------------------------\n",
      "> accuracy score: 0.746\n",
      "> confusion matric: \n",
      "[[75 12]\n",
      " [21 22]]\n",
      "> classification report: \n",
      "              precision    recall  f1-score   support\n",
      "\n",
      "         0.0       0.78      0.86      0.82        87\n",
      "         1.0       0.65      0.51      0.57        43\n",
      "\n",
      "    accuracy                           0.75       130\n",
      "   macro avg       0.71      0.69      0.70       130\n",
      "weighted avg       0.74      0.75      0.74       130\n",
      "\n"
     ]
    }
   ],
   "source": [
    "# prediction\n",
    "model = GradientBoostingClassifier()\n",
    "model.fit(X_train, y_train)\n",
    "y_pred = model.predict(X_test)\n",
    "print(f\"> accuracy score(origin): {accuracy_score(y_test, y_pred):.3f}\")\n",
    "added_section_separate_line()\n",
    "model = GradientBoostingClassifier(learning_rate=0.2, max_depth=3, n_estimators=50)\n",
    "model.fit(X_train, y_train)\n",
    "y_pred = model.predict(X_test)\n",
    "print(f\"> accuracy score: {accuracy_score(y_test, y_pred):.3f}\")\n",
    "print(f\"> confusion matric: \\n{confusion_matrix(y_test, y_pred)}\")\n",
    "print(f\"> classification report: \\n{classification_report(y_test, y_pred)}\")"
   ]
  },
  {
   "cell_type": "markdown",
   "id": "6a81c57b",
   "metadata": {},
   "source": [
    "* 小結：\n",
    "    * GradientBoostingClassifier比較tuning前後，accuracy有優化效果\n",
    "    * 比較LR baseline model則無提升效果(75.4%->74.6%)"
   ]
  },
  {
   "cell_type": "code",
   "execution_count": 44,
   "id": "11a17665",
   "metadata": {},
   "outputs": [
    {
     "name": "stdout",
     "output_type": "stream",
     "text": [
      "Accuracy(origin): 0.763 (0.062)\n",
      "------------------------------\n",
      "Tuned hpyerparameters :(best parameters) {'var_smoothing': 1e-05}\n",
      "Accuracy : 0.771\n"
     ]
    }
   ],
   "source": [
    "# Naive Bayes\n",
    "model = Pipeline(steps=[('m', GaussianNB())])\n",
    "cv = KFold(n_splits=10, random_state=seed, shuffle=True)\n",
    "scores = cross_val_score(model, X_train, y_train, scoring=scoring, cv=cv, n_jobs=-1)\n",
    "print(f\"Accuracy(origin): {np.mean(scores):.3f} ({np.std(scores):.3f})\")\n",
    "added_section_separate_line()\n",
    "params = [{'var_smoothing': [1e-9, 1e-8, 1e-5, 1e-1]}]\n",
    "model = GaussianNB()\n",
    "cv = KFold(n_splits=10, random_state=seed, shuffle=True)\n",
    "grid = GridSearchCV(estimator=model, param_grid=params, scoring=scoring, cv=cv)\n",
    "grid.fit(X_train, y_train)\n",
    "print(f\"Tuned hpyerparameters :(best parameters) {grid.best_params_}\")\n",
    "print(f\"Accuracy : {grid.best_score_:.3f}\")"
   ]
  },
  {
   "cell_type": "code",
   "execution_count": 45,
   "id": "d433b563",
   "metadata": {},
   "outputs": [
    {
     "name": "stdout",
     "output_type": "stream",
     "text": [
      "> accuracy score(origin): 0.738\n",
      "------------------------------\n",
      "> accuracy score: 0.746\n",
      "> confusion matric: \n",
      "[[67 20]\n",
      " [13 30]]\n",
      "> classification report: \n",
      "              precision    recall  f1-score   support\n",
      "\n",
      "         0.0       0.84      0.77      0.80        87\n",
      "         1.0       0.60      0.70      0.65        43\n",
      "\n",
      "    accuracy                           0.75       130\n",
      "   macro avg       0.72      0.73      0.72       130\n",
      "weighted avg       0.76      0.75      0.75       130\n",
      "\n"
     ]
    }
   ],
   "source": [
    "# prediction\n",
    "model = GaussianNB()\n",
    "model.fit(X_train, y_train)\n",
    "y_pred = model.predict(X_test)\n",
    "print(f\"> accuracy score(origin): {accuracy_score(y_test, y_pred):.3f}\")\n",
    "added_section_separate_line()\n",
    "model = GaussianNB(var_smoothing=1e-05)\n",
    "model.fit(X_train, y_train)\n",
    "y_pred = model.predict(X_test)\n",
    "print(f\"> accuracy score: {accuracy_score(y_test, y_pred):.3f}\")\n",
    "print(f\"> confusion matric: \\n{confusion_matrix(y_test, y_pred)}\")\n",
    "print(f\"> classification report: \\n{classification_report(y_test, y_pred)}\")"
   ]
  },
  {
   "cell_type": "markdown",
   "id": "1df20250",
   "metadata": {},
   "source": [
    "* 小結：\n",
    "    * GaussianNB比較tuning前後，accuracy有優化效果\n",
    "    * 比較LR baseline model則無優化效果(75.4%->74.6%)"
   ]
  },
  {
   "cell_type": "code",
   "execution_count": 9,
   "id": "6d0042fd",
   "metadata": {},
   "outputs": [
    {
     "name": "stdout",
     "output_type": "stream",
     "text": [
      "Accuracy(origin): 0.668 (0.099)\n",
      "------------------------------\n",
      "Tuned hpyerparameters :(best parameters) {'C': 0.1, 'gamma': 1, 'kernel': 'rbf'}\n",
      "Accuracy : 0.668\n"
     ]
    }
   ],
   "source": [
    "# SVM Classifier\n",
    "model = Pipeline(steps=[('m', SVC(gamma='auto'))])\n",
    "cv = KFold(n_splits=10, random_state=seed, shuffle=True)\n",
    "scores = cross_val_score(model, X_train, y_train, scoring=scoring, cv=cv, n_jobs=-1)\n",
    "print(f\"Accuracy(origin): {np.mean(scores):.3f} ({np.std(scores):.3f})\")\n",
    "added_section_separate_line()\n",
    "params = [{'C': [0.1, 1, 2, 2.2, 2.5, 2.7, 3, 5], 'gamma': [1, 0.1, 0.01], 'kernel': ['rbf', 'sigmoid']}]\n",
    "model = SVC()\n",
    "cv = KFold(n_splits=10, random_state=seed, shuffle=True)\n",
    "grid = GridSearchCV(estimator=model, param_grid=params, scoring=scoring, cv=cv)\n",
    "grid.fit(X_train, y_train)\n",
    "print(f\"Tuned hpyerparameters :(best parameters) {grid.best_params_}\")\n",
    "print(f\"Accuracy : {grid.best_score_:.3f}\")"
   ]
  },
  {
   "cell_type": "code",
   "execution_count": 11,
   "id": "f100ea02",
   "metadata": {},
   "outputs": [
    {
     "name": "stdout",
     "output_type": "stream",
     "text": [
      "> accuracy score(origin): 0.746\n",
      "------------------------------\n",
      "> accuracy score: 0.669\n",
      "> confusion matric: \n",
      "[[87  0]\n",
      " [43  0]]\n",
      "> classification report: \n",
      "              precision    recall  f1-score   support\n",
      "\n",
      "         0.0       0.67      1.00      0.80        87\n",
      "         1.0       0.00      0.00      0.00        43\n",
      "\n",
      "    accuracy                           0.67       130\n",
      "   macro avg       0.33      0.50      0.40       130\n",
      "weighted avg       0.45      0.67      0.54       130\n",
      "\n"
     ]
    },
    {
     "name": "stderr",
     "output_type": "stream",
     "text": [
      "C:\\Users\\aidan.kao\\Anaconda3\\lib\\site-packages\\sklearn\\metrics\\_classification.py:1245: UndefinedMetricWarning: Precision and F-score are ill-defined and being set to 0.0 in labels with no predicted samples. Use `zero_division` parameter to control this behavior.\n",
      "  _warn_prf(average, modifier, msg_start, len(result))\n",
      "C:\\Users\\aidan.kao\\Anaconda3\\lib\\site-packages\\sklearn\\metrics\\_classification.py:1245: UndefinedMetricWarning: Precision and F-score are ill-defined and being set to 0.0 in labels with no predicted samples. Use `zero_division` parameter to control this behavior.\n",
      "  _warn_prf(average, modifier, msg_start, len(result))\n",
      "C:\\Users\\aidan.kao\\Anaconda3\\lib\\site-packages\\sklearn\\metrics\\_classification.py:1245: UndefinedMetricWarning: Precision and F-score are ill-defined and being set to 0.0 in labels with no predicted samples. Use `zero_division` parameter to control this behavior.\n",
      "  _warn_prf(average, modifier, msg_start, len(result))\n"
     ]
    }
   ],
   "source": [
    "# prediction\n",
    "model = SVC()\n",
    "model.fit(X_train, y_train)\n",
    "y_pred = model.predict(X_test)\n",
    "print(f\"> accuracy score(origin): {accuracy_score(y_test, y_pred):.3f}\")\n",
    "added_section_separate_line()\n",
    "model = SVC(kernel='rbf', C=0.1, gamma=1)\n",
    "model.fit(X_train, y_train)\n",
    "y_pred = model.predict(X_test)\n",
    "print(f\"> accuracy score: {accuracy_score(y_test, y_pred):.3f}\")\n",
    "print(f\"> confusion matric: \\n{confusion_matrix(y_test, y_pred)}\")\n",
    "print(f\"> classification report: \\n{classification_report(y_test, y_pred)}\")"
   ]
  },
  {
   "cell_type": "markdown",
   "id": "9f938130",
   "metadata": {},
   "source": [
    "* 小結：\n",
    "    * SVC比較tuning前後，accuracy反而下降\n",
    "    * 比較LR baseline model的accuracy則無優化效果(75.4%->66.9%)"
   ]
  },
  {
   "cell_type": "code",
   "execution_count": null,
   "id": "aaa96963",
   "metadata": {},
   "outputs": [],
   "source": []
  }
 ],
 "metadata": {
  "kernelspec": {
   "display_name": "Python 3",
   "language": "python",
   "name": "python3"
  },
  "language_info": {
   "codemirror_mode": {
    "name": "ipython",
    "version": 3
   },
   "file_extension": ".py",
   "mimetype": "text/x-python",
   "name": "python",
   "nbconvert_exporter": "python",
   "pygments_lexer": "ipython3",
   "version": "3.8.8"
  }
 },
 "nbformat": 4,
 "nbformat_minor": 5
}
