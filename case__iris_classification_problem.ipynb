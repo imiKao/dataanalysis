{
 "cells": [
  {
   "cell_type": "markdown",
   "id": "5c5542f2",
   "metadata": {},
   "source": [
    "#### **Phase I**"
   ]
  },
  {
   "cell_type": "markdown",
   "id": "193588f5",
   "metadata": {},
   "source": [
    "#### 1. Problem & Target"
   ]
  },
  {
   "cell_type": "markdown",
   "id": "f400e014",
   "metadata": {},
   "source": [
    "#### features說明\n",
    "* sepal length(花萼長度)\n",
    "* sepal width(花萼寬度)\n",
    "* petal length(花瓣長度)\n",
    "* petal width(花瓣寬度)\n",
    "* class: 鳶尾花類別，包括山鳶尾（setosa）、變色鳶尾（verscicolor）和維吉尼亞鳶尾（virginica）三種"
   ]
  },
  {
   "cell_type": "markdown",
   "id": "b09001db",
   "metadata": {},
   "source": [
    "#### 2. dataset"
   ]
  },
  {
   "cell_type": "code",
   "execution_count": 77,
   "id": "f6131579",
   "metadata": {},
   "outputs": [],
   "source": [
    "## load libraries\n",
    "import pandas as pd\n",
    "import numpy as np\n",
    "import matplotlib.pyplot as plt\n",
    "import seaborn as sns\n",
    "from my_template import added_section_separate_line, describe_skew_unvariate_distribution, describe_class_distribution\n",
    "from my_template import visualize_features_hist, visualize_density_plot, visualize_box_whisker_plot, visualize_correlation_matrix\n",
    "from my_template import remove_duplicate_rows, detect_column_only_single_value, detect_have_null_value\n",
    "from sklearn.pipeline import Pipeline\n",
    "from sklearn.preprocessing import LabelEncoder\n",
    "from sklearn.model_selection import train_test_split, KFold, RepeatedStratifiedKFold, cross_val_score\n",
    "from sklearn.metrics import classification_report, confusion_matrix, accuracy_score\n",
    "from sklearn.linear_model import LogisticRegression, Perceptron\n",
    "from sklearn.tree import DecisionTreeClassifier\n",
    "from sklearn.neighbors import KNeighborsClassifier\n",
    "from sklearn.ensemble import RandomForestClassifier, GradientBoostingClassifier\n",
    "from sklearn.discriminant_analysis import LinearDiscriminantAnalysis\n",
    "from sklearn.naive_bayes import GaussianNB\n",
    "from sklearn.svm import SVC"
   ]
  },
  {
   "cell_type": "code",
   "execution_count": 58,
   "id": "3032b6b7",
   "metadata": {},
   "outputs": [],
   "source": [
    "## load dataset\n",
    "filename = './dataset/iris.data.csv'\n",
    "names = ['sepal-length', 'sepal-width', 'petal-length', 'petal-width', 'class']\n",
    "df = pd.read_csv(filename, names=names)"
   ]
  },
  {
   "cell_type": "code",
   "execution_count": 59,
   "id": "0809d4e9",
   "metadata": {},
   "outputs": [
    {
     "name": "stdout",
     "output_type": "stream",
     "text": [
      "dataset head: \n",
      "   sepal-length  sepal-width  petal-length  petal-width        class\n",
      "0           5.1          3.5           1.4          0.2  Iris-setosa\n",
      "1           4.9          3.0           1.4          0.2  Iris-setosa\n",
      "2           4.7          3.2           1.3          0.2  Iris-setosa\n",
      "3           4.6          3.1           1.5          0.2  Iris-setosa\n",
      "4           5.0          3.6           1.4          0.2  Iris-setosa\n",
      "------------------------------\n",
      "dataset shape: (150, 5)\n",
      "------------------------------\n",
      "dataset description: \n",
      "       sepal-length  sepal-width  petal-length  petal-width\n",
      "count         150.0        150.0         150.0        150.0\n",
      "mean            5.8          3.1           3.8          1.2\n",
      "std             0.8          0.4           1.8          0.8\n",
      "min             4.3          2.0           1.0          0.1\n",
      "25%             5.1          2.8           1.6          0.3\n",
      "50%             5.8          3.0           4.3          1.3\n",
      "75%             6.4          3.3           5.1          1.8\n",
      "max             7.9          4.4           6.9          2.5\n",
      "------------------------------\n",
      "feaures skew:\n",
      "sepal-length    0.3\n",
      "sepal-width     0.3\n",
      "petal-length   -0.3\n",
      "petal-width    -0.1\n",
      "dtype: float64\n",
      "------------------------------\n",
      "target class distribution:\n"
     ]
    },
    {
     "data": {
      "text/plain": [
       "class\n",
       "Iris-setosa        50\n",
       "Iris-versicolor    50\n",
       "Iris-virginica     50\n",
       "dtype: int64"
      ]
     },
     "execution_count": 59,
     "metadata": {},
     "output_type": "execute_result"
    }
   ],
   "source": [
    "## summarize data\n",
    "print(f\"dataset head: \\n{df.head()}\")\n",
    "added_section_separate_line()\n",
    "print(f\"dataset shape: {df.shape}\")\n",
    "added_section_separate_line()\n",
    "pd.set_option('precision', 1)\n",
    "print(f\"dataset description: \\n{df.describe()}\")\n",
    "added_section_separate_line()\n",
    "print(\"feaures skew:\")\n",
    "describe_skew_unvariate_distribution(df, df.columns)\n",
    "added_section_separate_line()\n",
    "print(\"target class distribution:\")\n",
    "describe_class_distribution(df, 'class')"
   ]
  },
  {
   "cell_type": "code",
   "execution_count": 60,
   "id": "7a074bad",
   "metadata": {},
   "outputs": [
    {
     "name": "stdout",
     "output_type": "stream",
     "text": [
      "Histogram of features:\n"
     ]
    },
    {
     "data": {
      "image/png": "[encoded data removed]",
      "text/plain": [
       "<Figure size 432x288 with 4 Axes>"
      ]
     },
     "metadata": {},
     "output_type": "display_data"
    },
    {
     "name": "stdout",
     "output_type": "stream",
     "text": [
      "------------------------------\n",
      "Density Plots of features:\n"
     ]
    },
    {
     "data": {
      "image/png": "[encoded data removed]",
      "text/plain": [
       "<Figure size 432x288 with 4 Axes>"
      ]
     },
     "metadata": {},
     "output_type": "display_data"
    },
    {
     "name": "stdout",
     "output_type": "stream",
     "text": [
      "------------------------------\n",
      "Box-whisker Plots of features:\n"
     ]
    },
    {
     "data": {
      "image/png": "[encoded data removed]",
      "text/plain": [
       "<Figure size 432x288 with 4 Axes>"
      ]
     },
     "metadata": {},
     "output_type": "display_data"
    }
   ],
   "source": [
    "## data visualization\n",
    "sns.set_theme(style=\"darkgrid\")\n",
    "visualize_features_hist(df, df.columns)\n",
    "added_section_separate_line()\n",
    "visualize_density_plot(df, df.columns, layout=(2,2))\n",
    "added_section_separate_line()\n",
    "visualize_box_whisker_plot(df, df.columns, layout=(2,2))"
   ]
  },
  {
   "cell_type": "markdown",
   "id": "bc9656bd",
   "metadata": {},
   "source": [
    "#### **Phase II** (Round 0)"
   ]
  },
  {
   "cell_type": "markdown",
   "id": "9f72c6a3",
   "metadata": {},
   "source": [
    "#### 3. data preprocessing"
   ]
  },
  {
   "cell_type": "code",
   "execution_count": 61,
   "id": "ab6c5e2a",
   "metadata": {},
   "outputs": [
    {
     "name": "stdout",
     "output_type": "stream",
     "text": [
      "Origin shape: (150, 5)\n",
      "     sepal-length  sepal-width  petal-length  petal-width           class\n",
      "34            4.9          3.1           1.5          0.1     Iris-setosa\n",
      "37            4.9          3.1           1.5          0.1     Iris-setosa\n",
      "142           5.8          2.7           5.1          1.9  Iris-virginica\n",
      "--------------------\n",
      "Before duplicate removed: (150, 5)\n",
      "After duplicate removed: (147, 5)\n",
      "New shape: (147, 5)\n"
     ]
    }
   ],
   "source": [
    "## data cleaning - remove duplicate\n",
    "print(f\"Origin shape: {df.shape}\")\n",
    "remove_duplicate_rows(df)\n",
    "print(f\"New shape: {df.shape}\")"
   ]
  },
  {
   "cell_type": "markdown",
   "id": "bdbd5391",
   "metadata": {},
   "source": [
    "* 觀察有3條duplicate data，予以刪除"
   ]
  },
  {
   "cell_type": "code",
   "execution_count": 62,
   "id": "08c12bdf",
   "metadata": {},
   "outputs": [
    {
     "name": "stdout",
     "output_type": "stream",
     "text": [
      "Record columns to delete (only single value): []\n",
      "------------------------------\n",
      "There is no null value in dataframe.\n"
     ]
    }
   ],
   "source": [
    "## data cleaning - data detection to remove\n",
    "detect_column_only_single_value(df)\n",
    "added_section_separate_line()\n",
    "detect_have_null_value(df)"
   ]
  },
  {
   "cell_type": "markdown",
   "id": "51ec627c",
   "metadata": {},
   "source": [
    "* 無null value，不須刪除"
   ]
  },
  {
   "cell_type": "markdown",
   "id": "6d374c6b",
   "metadata": {},
   "source": [
    "#### 4. model & validation"
   ]
  },
  {
   "cell_type": "code",
   "execution_count": 63,
   "id": "010ebd93",
   "metadata": {},
   "outputs": [],
   "source": [
    "seed = 87\n",
    "scoring = \"accuracy\"   # 使用accuracy評估model"
   ]
  },
  {
   "cell_type": "code",
   "execution_count": 64,
   "id": "791b8fcc",
   "metadata": {},
   "outputs": [
    {
     "name": "stdout",
     "output_type": "stream",
     "text": [
      "Input: (117, 4)\n",
      "[[4.7 3.2 1.6 0.2]\n",
      " [6.4 2.8 5.6 2.2]\n",
      " [5.0 2.3 3.3 1.0]\n",
      " [6.0 2.9 4.5 1.5]\n",
      " [5.0 3.4 1.6 0.4]]\n",
      "Output: (117,)\n",
      "['Iris-setosa' 'Iris-virginica' 'Iris-versicolor' 'Iris-versicolor'\n",
      " 'Iris-setosa']\n"
     ]
    }
   ],
   "source": [
    "data = df.values\n",
    "X = data[:, :4]\n",
    "y = data[:, 4]\n",
    "validation_size = 0.2\n",
    "X_train, X_test, y_train, y_test = train_test_split(X, y, test_size=validation_size, random_state=seed)\n",
    "print(f\"Input: {X_train.shape}\")\n",
    "print(X_train[:5, :])\n",
    "print(f\"Output: {y_train.shape}\")\n",
    "print(y_train[:5])"
   ]
  },
  {
   "cell_type": "code",
   "execution_count": 65,
   "id": "b9b0f89d",
   "metadata": {},
   "outputs": [
    {
     "name": "stdout",
     "output_type": "stream",
     "text": [
      ">LR 0.969 (0.051)\n",
      ">LDA 1.000 (0.000)\n",
      ">KNN 0.972 (0.050)\n",
      ">CART 0.955 (0.068)\n",
      ">RF 0.969 (0.046)\n",
      ">GBM 0.969 (0.055)\n",
      ">NB 0.971 (0.040)\n",
      ">SVM 0.977 (0.043)\n"
     ]
    }
   ],
   "source": [
    "# build model\n",
    "models = dict()\n",
    "models['LR'] = Pipeline(steps=[('m', LogisticRegression(solver='liblinear', multi_class='ovr'))])\n",
    "models['LDA'] = Pipeline(steps=[('m', LinearDiscriminantAnalysis())])\n",
    "models['KNN'] = Pipeline(steps=[('m', KNeighborsClassifier())])\n",
    "models['CART'] = Pipeline(steps=[('m', DecisionTreeClassifier())])\n",
    "models['RF'] = Pipeline(steps=[('m', RandomForestClassifier())])\n",
    "models['GBM'] = Pipeline(steps=[('m', GradientBoostingClassifier())])\n",
    "models['NB'] = Pipeline(steps=[('m', GaussianNB())])\n",
    "models['SVM'] = Pipeline(steps=[('m', SVC(gamma='auto'))])\n",
    "# train model\n",
    "results, names = list(), list()\n",
    "for name, model in models.items():\n",
    "    cv = RepeatedStratifiedKFold(n_splits=10, n_repeats=3, random_state=seed)\n",
    "    scores = cross_val_score(model, X_train, y_train, scoring=scoring, cv=cv, n_jobs=-1)\n",
    "    results.append(scores)\n",
    "    names.append(name)\n",
    "    print(f\">{name} {np.mean(scores):.3f} ({np.std(scores):.3f})\")"
   ]
  },
  {
   "cell_type": "markdown",
   "id": "4ecc5c5e",
   "metadata": {},
   "source": [
    "* 小結：\n",
    "    * 雖然看起來LDA的accuracy最佳，但100%有機率會是overfitting，所以先挑選前幾大model作為後續確認：LDA、SVM、KNN"
   ]
  },
  {
   "cell_type": "markdown",
   "id": "2c2ca27b",
   "metadata": {},
   "source": [
    "#### **Phase III** (Round 0)"
   ]
  },
  {
   "cell_type": "markdown",
   "id": "d1486092",
   "metadata": {},
   "source": [
    "#### 5. prediction"
   ]
  },
  {
   "cell_type": "code",
   "execution_count": 66,
   "id": "bfaf4b8b",
   "metadata": {},
   "outputs": [
    {
     "name": "stdout",
     "output_type": "stream",
     "text": [
      "accuracy score: 90.000%\n",
      "------------------------------\n",
      "confusion matric: \n",
      "[[14  0  0]\n",
      " [ 0  7  2]\n",
      " [ 0  1  6]]\n",
      "------------------------------\n",
      "classification report: \n",
      "                 precision    recall  f1-score   support\n",
      "\n",
      "    Iris-setosa       1.00      1.00      1.00        14\n",
      "Iris-versicolor       0.88      0.78      0.82         9\n",
      " Iris-virginica       0.75      0.86      0.80         7\n",
      "\n",
      "       accuracy                           0.90        30\n",
      "      macro avg       0.88      0.88      0.87        30\n",
      "   weighted avg       0.90      0.90      0.90        30\n",
      "\n"
     ]
    }
   ],
   "source": [
    "model = LinearDiscriminantAnalysis()\n",
    "model.fit(X_train, y_train)\n",
    "y_pred = model.predict(X_test)\n",
    "print(f\"accuracy score: {100*accuracy_score(y_test, y_pred):.3f}%\")\n",
    "added_section_separate_line()\n",
    "print(f\"confusion matric: \\n{confusion_matrix(y_test, y_pred)}\")\n",
    "added_section_separate_line()\n",
    "print(f\"classification report: \\n{classification_report(y_test, y_pred)}\")"
   ]
  },
  {
   "cell_type": "code",
   "execution_count": 67,
   "id": "18628e69",
   "metadata": {},
   "outputs": [
    {
     "name": "stdout",
     "output_type": "stream",
     "text": [
      "accuracy score: 93.333%\n",
      "------------------------------\n",
      "confusion matric: \n",
      "[[14  0  0]\n",
      " [ 0  7  2]\n",
      " [ 0  0  7]]\n",
      "------------------------------\n",
      "classification report: \n",
      "                 precision    recall  f1-score   support\n",
      "\n",
      "    Iris-setosa       1.00      1.00      1.00        14\n",
      "Iris-versicolor       1.00      0.78      0.88         9\n",
      " Iris-virginica       0.78      1.00      0.88         7\n",
      "\n",
      "       accuracy                           0.93        30\n",
      "      macro avg       0.93      0.93      0.92        30\n",
      "   weighted avg       0.95      0.93      0.93        30\n",
      "\n"
     ]
    }
   ],
   "source": [
    "model = SVC(gamma='auto')\n",
    "model.fit(X_train, y_train)\n",
    "y_pred = model.predict(X_test)\n",
    "print(f\"accuracy score: {100*accuracy_score(y_test, y_pred):.3f}%\")\n",
    "added_section_separate_line()\n",
    "print(f\"confusion matric: \\n{confusion_matrix(y_test, y_pred)}\")\n",
    "added_section_separate_line()\n",
    "print(f\"classification report: \\n{classification_report(y_test, y_pred)}\")"
   ]
  },
  {
   "cell_type": "code",
   "execution_count": 68,
   "id": "f01c13f9",
   "metadata": {},
   "outputs": [
    {
     "name": "stdout",
     "output_type": "stream",
     "text": [
      "accuracy score: 93.333%\n",
      "------------------------------\n",
      "confusion matric: \n",
      "[[14  0  0]\n",
      " [ 0  7  2]\n",
      " [ 0  0  7]]\n",
      "------------------------------\n",
      "classification report: \n",
      "                 precision    recall  f1-score   support\n",
      "\n",
      "    Iris-setosa       1.00      1.00      1.00        14\n",
      "Iris-versicolor       1.00      0.78      0.88         9\n",
      " Iris-virginica       0.78      1.00      0.88         7\n",
      "\n",
      "       accuracy                           0.93        30\n",
      "      macro avg       0.93      0.93      0.92        30\n",
      "   weighted avg       0.95      0.93      0.93        30\n",
      "\n"
     ]
    }
   ],
   "source": [
    "model = KNeighborsClassifier()\n",
    "model.fit(X_train, y_train)\n",
    "y_pred = model.predict(X_test)\n",
    "print(f\"accuracy score: {100*accuracy_score(y_test, y_pred):.3f}%\")\n",
    "added_section_separate_line()\n",
    "print(f\"confusion matric: \\n{confusion_matrix(y_test, y_pred)}\")\n",
    "added_section_separate_line()\n",
    "print(f\"classification report: \\n{classification_report(y_test, y_pred)}\")"
   ]
  },
  {
   "cell_type": "markdown",
   "id": "65691e31",
   "metadata": {},
   "source": [
    "* 小結：\n",
    "    * 比較LDA、SVC與KNN在預測後的確認，雖然LDA在模型訓練後驗證有最佳的accuracy(100%)，但預測後與測試集的差異卻比SVC與KNN高，有很大程度是出現overfitting\n",
    "    * 此ROUND沒有對feature做任何處理，後續對feature做處理後再次確認是否可避免掉overfitting等現象\n",
    "    * 或許在多元分類模型訓練後的驗證指標不能完全使用accuracy來做評估，需考慮其他評價指標"
   ]
  },
  {
   "cell_type": "markdown",
   "id": "18168f3b",
   "metadata": {},
   "source": [
    "#### **Phase II** (Round 1: 針對feature做相關性比較)"
   ]
  },
  {
   "cell_type": "code",
   "execution_count": 69,
   "id": "fad9f047",
   "metadata": {},
   "outputs": [],
   "source": [
    "seed = 87\n",
    "scoring = \"accuracy\"   # 使用accuracy評估model"
   ]
  },
  {
   "cell_type": "code",
   "execution_count": 70,
   "id": "0a5ad8ec",
   "metadata": {},
   "outputs": [
    {
     "name": "stdout",
     "output_type": "stream",
     "text": [
      "   sepal-length  sepal-width  petal-length  petal-width        class  class_no\n",
      "0           5.1          3.5           1.4          0.2  Iris-setosa         0\n",
      "1           4.9          3.0           1.4          0.2  Iris-setosa         0\n",
      "2           4.7          3.2           1.3          0.2  Iris-setosa         0\n",
      "3           4.6          3.1           1.5          0.2  Iris-setosa         0\n",
      "4           5.0          3.6           1.4          0.2  Iris-setosa         0\n",
      "Correlation matrix of features:\n"
     ]
    },
    {
     "data": {
      "image/png": "[encoded data removed]",
      "text/plain": [
       "<Figure size 432x288 with 2 Axes>"
      ]
     },
     "metadata": {},
     "output_type": "display_data"
    }
   ],
   "source": [
    "new_df = df\n",
    "di = {\"Iris-setosa\": 0, \"Iris-versicolor\": 1, \"Iris-virginica\": 2}\n",
    "new_df['class_no'] = new_df['class'].replace(di, inplace=False)\n",
    "print(new_df.head())\n",
    "describe_class_distribution(new_df, 'class_no')\n",
    "visualize_correlation_matrix(new_df, ['sepal-length', 'sepal-width', 'petal-length', 'petal-width', 'class_no'])"
   ]
  },
  {
   "cell_type": "markdown",
   "id": "94846661",
   "metadata": {},
   "source": [
    "* 觀察相關性，發現'sepal-width'與其他features出現相關性較小或偏負相關，可以從這個地方著手來進行feature selection"
   ]
  },
  {
   "cell_type": "code",
   "execution_count": 71,
   "id": "3a6e6ded",
   "metadata": {},
   "outputs": [
    {
     "name": "stdout",
     "output_type": "stream",
     "text": [
      "Input: (117, 3)\n",
      "[[4.7 1.6 0.2]\n",
      " [6.4 5.6 2.2]\n",
      " [5.0 3.3 1.0]\n",
      " [6.0 4.5 1.5]\n",
      " [5.0 1.6 0.4]]\n",
      "Output: (117,)\n",
      "[0 2 1 1 0]\n"
     ]
    }
   ],
   "source": [
    "# 去除sepal-width\n",
    "new_df = df[['sepal-length', 'petal-length', 'petal-width', 'class']]\n",
    "data = new_df.values\n",
    "X = data[:, :-1]\n",
    "y = data[:, -1]\n",
    "validation_size = 0.2\n",
    "X_train, X_test, y_train, y_test = train_test_split(X, y, test_size=validation_size, random_state=seed)\n",
    "label_encoder = LabelEncoder()\n",
    "label_encoder.fit(y_train)\n",
    "y_train = label_encoder.transform(y_train)\n",
    "y_test = label_encoder.transform(y_test)\n",
    "print(f\"Input: {X_train.shape}\")\n",
    "print(X_train[:5, :])\n",
    "print(f\"Output: {y_train.shape}\")\n",
    "print(y_train[:5])"
   ]
  },
  {
   "cell_type": "code",
   "execution_count": 72,
   "id": "fa74c0cb",
   "metadata": {},
   "outputs": [
    {
     "name": "stdout",
     "output_type": "stream",
     "text": [
      ">LR 0.952 (0.056)\n",
      ">LDA 0.991 (0.026)\n",
      ">KNN 0.974 (0.045)\n",
      ">CART 0.958 (0.057)\n",
      ">RF 0.969 (0.046)\n",
      ">GBM 0.969 (0.055)\n",
      ">NB 0.974 (0.039)\n",
      ">SVM 0.983 (0.034)\n"
     ]
    }
   ],
   "source": [
    "# build model\n",
    "models = dict()\n",
    "models['LR'] = Pipeline(steps=[('m', LogisticRegression(solver='liblinear', multi_class='ovr'))])\n",
    "models['LDA'] = Pipeline(steps=[('m', LinearDiscriminantAnalysis())])\n",
    "models['KNN'] = Pipeline(steps=[('m', KNeighborsClassifier())])\n",
    "models['CART'] = Pipeline(steps=[('m', DecisionTreeClassifier())])\n",
    "models['RF'] = Pipeline(steps=[('m', RandomForestClassifier())])\n",
    "models['GBM'] = Pipeline(steps=[('m', GradientBoostingClassifier())])\n",
    "models['NB'] = Pipeline(steps=[('m', GaussianNB())])\n",
    "models['SVM'] = Pipeline(steps=[('m', SVC(gamma='auto'))])\n",
    "# train model\n",
    "results, names = list(), list()\n",
    "for name, model in models.items():\n",
    "    cv = RepeatedStratifiedKFold(n_splits=10, n_repeats=3, random_state=seed)\n",
    "    scores = cross_val_score(model, X_train, y_train, scoring=scoring, cv=cv, n_jobs=-1)\n",
    "    results.append(scores)\n",
    "    names.append(name)\n",
    "    print(f\">{name} {np.mean(scores):.3f} ({np.std(scores):.3f})\")"
   ]
  },
  {
   "cell_type": "markdown",
   "id": "dfdfa4b6",
   "metadata": {},
   "source": [
    "#### **Phase III** (Round 1:針對feature做相關性比較)"
   ]
  },
  {
   "cell_type": "markdown",
   "id": "4e387841",
   "metadata": {},
   "source": [
    "#### 5. Prediction"
   ]
  },
  {
   "cell_type": "code",
   "execution_count": 73,
   "id": "f71fb2cf",
   "metadata": {},
   "outputs": [
    {
     "name": "stdout",
     "output_type": "stream",
     "text": [
      "accuracy score: 90.000%\n",
      "------------------------------\n",
      "confusion matric: \n",
      "[[14  0  0]\n",
      " [ 0  7  2]\n",
      " [ 0  1  6]]\n",
      "------------------------------\n",
      "classification report: \n",
      "              precision    recall  f1-score   support\n",
      "\n",
      "           0       1.00      1.00      1.00        14\n",
      "           1       0.88      0.78      0.82         9\n",
      "           2       0.75      0.86      0.80         7\n",
      "\n",
      "    accuracy                           0.90        30\n",
      "   macro avg       0.88      0.88      0.87        30\n",
      "weighted avg       0.90      0.90      0.90        30\n",
      "\n"
     ]
    }
   ],
   "source": [
    "model = LinearDiscriminantAnalysis()\n",
    "model.fit(X_train, y_train)\n",
    "y_pred = model.predict(X_test)\n",
    "print(f\"accuracy score: {100*accuracy_score(y_test, y_pred):.3f}%\")\n",
    "added_section_separate_line()\n",
    "print(f\"confusion matric: \\n{confusion_matrix(y_test, y_pred)}\")\n",
    "added_section_separate_line()\n",
    "print(f\"classification report: \\n{classification_report(y_test, y_pred)}\")"
   ]
  },
  {
   "cell_type": "code",
   "execution_count": 74,
   "id": "8687b27f",
   "metadata": {},
   "outputs": [
    {
     "name": "stdout",
     "output_type": "stream",
     "text": [
      "accuracy score: 93.333%\n",
      "------------------------------\n",
      "confusion matric: \n",
      "[[14  0  0]\n",
      " [ 0  7  2]\n",
      " [ 0  0  7]]\n",
      "------------------------------\n",
      "classification report: \n",
      "              precision    recall  f1-score   support\n",
      "\n",
      "           0       1.00      1.00      1.00        14\n",
      "           1       1.00      0.78      0.88         9\n",
      "           2       0.78      1.00      0.88         7\n",
      "\n",
      "    accuracy                           0.93        30\n",
      "   macro avg       0.93      0.93      0.92        30\n",
      "weighted avg       0.95      0.93      0.93        30\n",
      "\n"
     ]
    }
   ],
   "source": [
    "model = SVC(gamma='auto')\n",
    "model.fit(X_train, y_train)\n",
    "y_pred = model.predict(X_test)\n",
    "print(f\"accuracy score: {100*accuracy_score(y_test, y_pred):.3f}%\")\n",
    "added_section_separate_line()\n",
    "print(f\"confusion matric: \\n{confusion_matrix(y_test, y_pred)}\")\n",
    "added_section_separate_line()\n",
    "print(f\"classification report: \\n{classification_report(y_test, y_pred)}\")"
   ]
  },
  {
   "cell_type": "markdown",
   "id": "0c7be61c",
   "metadata": {},
   "source": [
    "* 小結：\n",
    "    * 移除feature \"sepal-width\"後發現普遍訓練accuracy下降，但預測能力並無下降，LDA的預測能力反而微幅提升，證明前面確實有出現overfitting的問題"
   ]
  },
  {
   "cell_type": "markdown",
   "id": "8d46cf14",
   "metadata": {},
   "source": [
    "#### **Phase II** (Round 2: 考量不刪除duplicate + 使用KFold取代RepeatedStratifiedKFold做驗證)"
   ]
  },
  {
   "cell_type": "code",
   "execution_count": 86,
   "id": "80cb6c4a",
   "metadata": {},
   "outputs": [
    {
     "name": "stdout",
     "output_type": "stream",
     "text": [
      "Input: (120, 4)\n",
      "[[5.1 3.7 1.5 0.4]\n",
      " [5.5 2.3 4.0 1.3]\n",
      " [4.8 3.0 1.4 0.3]\n",
      " [6.7 3.3 5.7 2.5]\n",
      " [5.0 2.3 3.3 1.0]]\n",
      "Output: (120,)\n",
      "[0 1 0 2 1]\n"
     ]
    }
   ],
   "source": [
    "## load dataset\n",
    "filename = './dataset/iris.data.csv'\n",
    "names = ['sepal-length', 'sepal-width', 'petal-length', 'petal-width', 'class']\n",
    "df = pd.read_csv(filename, names=names)\n",
    "# prepare dataset\n",
    "data = df.values\n",
    "X = data[:, :-1]\n",
    "y = data[:, -1]\n",
    "validation_size = 0.2\n",
    "X_train, X_test, y_train, y_test = train_test_split(X, y, test_size=validation_size, random_state=seed)\n",
    "label_encoder = LabelEncoder()\n",
    "label_encoder.fit(y_train)\n",
    "y_train = label_encoder.transform(y_train)\n",
    "y_test = label_encoder.transform(y_test)\n",
    "print(f\"Input: {X_train.shape}\")\n",
    "print(X_train[:5, :])\n",
    "print(f\"Output: {y_train.shape}\")\n",
    "print(y_train[:5])"
   ]
  },
  {
   "cell_type": "code",
   "execution_count": 87,
   "id": "82e878f1",
   "metadata": {},
   "outputs": [
    {
     "name": "stdout",
     "output_type": "stream",
     "text": [
      ">LR 0.958 (0.056)\n",
      ">LDA 0.975 (0.038)\n",
      ">KNN 0.967 (0.041)\n",
      ">CART 0.958 (0.056)\n",
      ">RF 0.958 (0.042)\n",
      ">GBM 0.967 (0.041)\n",
      ">NB 0.942 (0.053)\n",
      ">SVM 0.992 (0.025)\n"
     ]
    }
   ],
   "source": [
    "# build model\n",
    "models = dict()\n",
    "models['LR'] = Pipeline(steps=[('m', LogisticRegression(solver='liblinear', multi_class='ovr'))])\n",
    "models['LDA'] = Pipeline(steps=[('m', LinearDiscriminantAnalysis())])\n",
    "models['KNN'] = Pipeline(steps=[('m', KNeighborsClassifier())])\n",
    "models['CART'] = Pipeline(steps=[('m', DecisionTreeClassifier())])\n",
    "models['RF'] = Pipeline(steps=[('m', RandomForestClassifier())])\n",
    "models['GBM'] = Pipeline(steps=[('m', GradientBoostingClassifier())])\n",
    "models['NB'] = Pipeline(steps=[('m', GaussianNB())])\n",
    "models['SVM'] = Pipeline(steps=[('m', SVC(gamma='auto'))])\n",
    "# train model\n",
    "results, names = list(), list()\n",
    "for name, model in models.items():\n",
    "    cv = KFold(n_splits=10, random_state=seed, shuffle=True)\n",
    "    # cv = RepeatedStratifiedKFold(n_splits=10, n_repeats=3, random_state=seed)\n",
    "    scores = cross_val_score(model, X_train, y_train, scoring=scoring, cv=cv, n_jobs=-1)\n",
    "    results.append(scores)\n",
    "    names.append(name)\n",
    "    print(f\">{name} {np.mean(scores):.3f} ({np.std(scores):.3f})\")"
   ]
  },
  {
   "cell_type": "markdown",
   "id": "a4f9a907",
   "metadata": {},
   "source": [
    "* 取用驗證最佳accuracy模型SVC"
   ]
  },
  {
   "cell_type": "markdown",
   "id": "97305306",
   "metadata": {},
   "source": [
    "#### **Phase III** (Round 2: 考量不刪除duplicate + 使用KFold取代RepeatedStratifiedKFold做驗證)"
   ]
  },
  {
   "cell_type": "code",
   "execution_count": 88,
   "id": "f8c14ce1",
   "metadata": {},
   "outputs": [
    {
     "name": "stdout",
     "output_type": "stream",
     "text": [
      "accuracy score: 96.667%\n",
      "------------------------------\n",
      "confusion matric: \n",
      "[[13  0  0]\n",
      " [ 0  8  1]\n",
      " [ 0  0  8]]\n",
      "------------------------------\n",
      "classification report: \n",
      "              precision    recall  f1-score   support\n",
      "\n",
      "           0       1.00      1.00      1.00        13\n",
      "           1       1.00      0.89      0.94         9\n",
      "           2       0.89      1.00      0.94         8\n",
      "\n",
      "    accuracy                           0.97        30\n",
      "   macro avg       0.96      0.96      0.96        30\n",
      "weighted avg       0.97      0.97      0.97        30\n",
      "\n"
     ]
    }
   ],
   "source": [
    "model = SVC(gamma='auto')\n",
    "model.fit(X_train, y_train)\n",
    "y_pred = model.predict(X_test)\n",
    "print(f\"accuracy score: {100*accuracy_score(y_test, y_pred):.3f}%\")\n",
    "added_section_separate_line()\n",
    "print(f\"confusion matric: \\n{confusion_matrix(y_test, y_pred)}\")\n",
    "added_section_separate_line()\n",
    "print(f\"classification report: \\n{classification_report(y_test, y_pred)}\")"
   ]
  },
  {
   "cell_type": "markdown",
   "id": "384346f6",
   "metadata": {},
   "source": [
    "* 結論：\n",
    "    * 比較不同dataset處理方式、feature處理方式，以及模型驗證方式後發現事實與直觀的處理方式有落差\n",
    "    * 例如此dataset在不刪除duplicate時反而結果較好\n",
    "    * 例如使用KFold與RepeatedStratifiedKFold作驗證時也有所差異\n",
    "    * 後續可持續驗證包括seed設定對dataset影響性多大(使用不同train與test)、KFold與RepeatedStratifiedKFold在細節上的差異回推原因，以及何時需移除duplicate?何時不需要?"
   ]
  },
  {
   "cell_type": "code",
   "execution_count": null,
   "id": "5ec792f4",
   "metadata": {},
   "outputs": [],
   "source": []
  }
 ],
 "metadata": {
  "kernelspec": {
   "display_name": "Python 3",
   "language": "python",
   "name": "python3"
  },
  "language_info": {
   "codemirror_mode": {
    "name": "ipython",
    "version": 3
   },
   "file_extension": ".py",
   "mimetype": "text/x-python",
   "name": "python",
   "nbconvert_exporter": "python",
   "pygments_lexer": "ipython3",
   "version": "3.8.8"
  }
 },
 "nbformat": 4,
 "nbformat_minor": 5
}
